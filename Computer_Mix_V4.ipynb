{
  "cells": [
    {
      "cell_type": "markdown",
      "metadata": {
        "id": "view-in-github",
        "colab_type": "text"
      },
      "source": [
        "<a href=\"https://colab.research.google.com/github/ytyimin/scm518/blob/main/Computer_Mix_V4.ipynb\" target=\"_parent\"><img src=\"https://colab.research.google.com/assets/colab-badge.svg\" alt=\"Open In Colab\"/></a>"
      ]
    },
    {
      "cell_type": "markdown",
      "source": [
        "# Product Mix - PC Tech Computers"
      ],
      "metadata": {
        "id": "qOXqm9_eBkHE"
      },
      "id": "qOXqm9_eBkHE"
    },
    {
      "cell_type": "markdown",
      "source": [
        "## Objective and Prerequisites\n",
        "\n",
        "PC Tech wants to maximize their profit by determining the number of  basic and XP type computers they should produce. The objectives of the product-mix problem are:\n",
        "\n",
        "* The number of Computers produced should be less than demand,\n",
        "* Assembly hours and Testing hours cannot exceed the available, and\n",
        "* Ensure that the number of computers produced are valid, i.e., non- negative production."
      ],
      "metadata": {
        "id": "YpvmXOdcCI-I"
      },
      "id": "YpvmXOdcCI-I"
    },
    {
      "cell_type": "markdown",
      "source": [
        "---\n",
        "## Problem Description\n",
        "\n",
        "![picture](https://drive.google.com/uc?export=view&id=1K3Scp7yTfpKhYIYvz4epz4gpcZRhXKwa)\n",
        "\n",
        "\n",
        "The company wants to decide how many of each model to assembly and then test.  Each Basic sells for 300 dollars and each XP sells for 450 dollars. The cost of\n",
        "component parts for a Basic is 150; for an XP it is 225. Labor is required for assembly and testing. There are at most 10,000 assembly hours and 3000 testing hours available. Each labor hour for assembling costs 11 and each labor hour for testing costs 15. Each Basic requires five hours for assembling and one hour for testing, and each XP requires six hours for assembling and two hours for testing. PC Tech wants to know how many of each model it should produce (assemble and test) to maximize its net profit, but it cannot use more labor hours than are available, and it does not want to produce more than it can sell."
      ],
      "metadata": {
        "id": "CYjzWGddWPo2"
      },
      "id": "CYjzWGddWPo2"
    },
    {
      "cell_type": "markdown",
      "source": [
        "## Model Formulation\n",
        "\n",
        "### Indices\n",
        "\n",
        "$i \\in \\{B,X\\}$: Index to represent different computer types.\n",
        "\n",
        "### Parameters\n",
        "\n",
        "$P_{i}$: Selling price of Computer type $i$.\n",
        "\n",
        "$C_{i}$: Component cost of Computer type $i$.\n",
        "\n",
        "$AC$: Assembly Cost of Computer.\n",
        "\n",
        "$TC$: Testing Cost of Computer.\n",
        "\n",
        "$LA_{i}$: Assembly hours Computer type $i$.\n",
        "\n",
        "$LT_{i}$: Testing hours Computer type $i$.\n",
        "\n",
        "$AA$: Available assembly hours.\n",
        "\n",
        "$AT$: Available testing hours.\n",
        "\n",
        "$D_{i}$: Demand of Computer type $i$.\n",
        "\n",
        "### Decision Variables\n",
        "\n",
        "$x_{i}$: Number of Computer type $i$ to produce .\n",
        "\n",
        "\n",
        "### Objective Function\n",
        "\n",
        "- **Profit**. We want to Maximize the total profit.\n",
        "\n",
        "\n",
        "\\begin{equation}\n",
        "\\text{Max}_{x_{i}} \\quad \\sum_{(i) \\in {B,X}} [P_{i} - C_{i} -LA_{i}*AC -LT_{i}*TC ]*x_{i}\n",
        "\\tag{0}\n",
        "\\end{equation}\n",
        "\n",
        "### Constraints\n",
        "\n",
        "\\begin{equation}\n",
        "\\ x_{i} \\leq D_{i} \\quad \\ i \\in \\{B,X\\} \\quad (\\text{number of computer type i cannot exceed demand})\n",
        "\\tag{1}\n",
        "\\end{equation}\n",
        "\n",
        "\\begin{equation}\n",
        "\\sum_{i \\in (B,X)} LA_{i}*x_{i} \\leq AA (\\text{Assembly hours cannot exceed available})\n",
        "\\tag{2}\n",
        "\\end{equation}\n",
        "\n",
        "\\begin{equation}\n",
        "\\sum_{i \\in (B,X)} LT_{i}*x_{i} \\leq AT (\\text{Testing hours cannot exceed available})\n",
        "\\tag{3}\n",
        "\\end{equation}\n",
        "\n",
        "\\begin{equation}\n",
        "\\ x_{i} \\geq 0 \\quad \\ i \\in \\{B,X\\} \\quad (\\text{Non - Negative production})\n",
        "\\tag{4}\n",
        "\\end{equation}"
      ],
      "metadata": {
        "id": "3KiGuZLDcqAl"
      },
      "id": "3KiGuZLDcqAl"
    },
    {
      "cell_type": "markdown",
      "source": [
        "\n",
        "## Python Implementation\n",
        "\n",
        "We now import the Gurobi Python Module"
      ],
      "metadata": {
        "id": "x-T1BpKGh_lR"
      },
      "id": "x-T1BpKGh_lR"
    },
    {
      "cell_type": "code",
      "source": [
        "pip install gurobipy"
      ],
      "metadata": {
        "id": "pBRTPFU0mEYa"
      },
      "id": "pBRTPFU0mEYa",
      "execution_count": null,
      "outputs": []
    },
    {
      "cell_type": "code",
      "execution_count": null,
      "id": "9368f40d",
      "metadata": {
        "id": "9368f40d"
      },
      "outputs": [],
      "source": [
        "import gurobipy as gp\n",
        "from gurobipy import GRB"
      ]
    },
    {
      "cell_type": "markdown",
      "source": [
        "Set up the model"
      ],
      "metadata": {
        "id": "QA85ZbxeiP4S"
      },
      "id": "QA85ZbxeiP4S"
    },
    {
      "cell_type": "code",
      "execution_count": null,
      "id": "47824104",
      "metadata": {
        "id": "47824104"
      },
      "outputs": [],
      "source": [
        "#####################################################\n",
        "#                    Model Formulation\n",
        "#####################################################\n",
        "\n",
        "m = gp.Model('computer mix')"
      ]
    },
    {
      "cell_type": "code",
      "execution_count": null,
      "id": "31837055",
      "metadata": {
        "id": "31837055"
      },
      "outputs": [],
      "source": [
        "#Input Parameters\n",
        "computer_type = [*range(0,2)]\n",
        "Computer_type_label =['Basic','XP']\n",
        "\n",
        "LaborAssembly = [5,6]\n",
        "LaborTesting = [1,2]\n",
        "CostComponents =[150,225]\n",
        "SellingPrice = [300,450]\n",
        "Demand = [600,1200]\n",
        "TotalAssemblyhours = 10000\n",
        "TotalTestinghours = 3000\n",
        "LACost = 11\n",
        "LTCost = 15\n"
      ]
    },
    {
      "cell_type": "code",
      "execution_count": null,
      "id": "542ffb23",
      "metadata": {
        "id": "542ffb23"
      },
      "outputs": [],
      "source": [
        "#Decision Variable\n",
        "x = m.addVars(computer_type, vtype=GRB.CONTINUOUS, name=Computer_type_label)"
      ]
    },
    {
      "cell_type": "code",
      "execution_count": null,
      "id": "1127909a",
      "metadata": {
        "id": "1127909a"
      },
      "outputs": [],
      "source": [
        "# Set the Maximize Obijective: Total profit\n",
        "m.setObjective(gp.quicksum((SellingPrice[i]-CostComponents[i]-LaborAssembly[i]*LACost -LaborTesting[i]*LTCost)*x[i] \n",
        "                          for i in computer_type),  GRB.MAXIMIZE)"
      ]
    },
    {
      "cell_type": "code",
      "execution_count": null,
      "id": "64127c0a",
      "metadata": {
        "id": "64127c0a"
      },
      "outputs": [],
      "source": [
        "#Set Non-negative Decision Variable\n",
        "c1 = m.addConstrs((x[i] >= 0 for i in computer_type), name = 'non-negative production')\n",
        "\n",
        "# Total Computers produced must be less than or equal to Demand\n",
        "c2 = m.addConstrs((x[i] <= Demand[i] for i in computer_type), name = 'cannot exceed maximum demand')\n",
        "\n",
        "# Assemble hours cannot exceed available\n",
        "c3 = m.addConstr((gp.quicksum(LaborAssembly[i]*x[i] for i in computer_type) <= TotalAssemblyhours), name = 'cannot exceed available assembly hours')\n",
        "\n",
        "# Testing hours cannot exceed available\n",
        "c4 = m.addConstr((gp.quicksum(LaborTesting[i]*x[i] for i in computer_type) <= TotalTestinghours), name ='cannot exceed available testing hours')"
      ]
    },
    {
      "cell_type": "markdown",
      "source": [
        "Solve the model"
      ],
      "metadata": {
        "id": "ejB3w4320XT5"
      },
      "id": "ejB3w4320XT5"
    },
    {
      "cell_type": "code",
      "execution_count": null,
      "id": "29590aed",
      "metadata": {
        "id": "29590aed"
      },
      "outputs": [],
      "source": [
        "# Run the optimize solver\n",
        "m.optimize()"
      ]
    },
    {
      "cell_type": "markdown",
      "source": [
        "Results of the Model"
      ],
      "metadata": {
        "id": "Uhhv0Fs5j7Er"
      },
      "id": "Uhhv0Fs5j7Er"
    },
    {
      "cell_type": "code",
      "execution_count": null,
      "id": "dba7e26b",
      "metadata": {
        "id": "dba7e26b"
      },
      "outputs": [],
      "source": [
        "# Get the Optimal Solution for X\n",
        "print(\"The Optimal number of each computer type to be produced for maximum profit\\n\")\n",
        "m.printAttr('X')\n",
        "def comma_value(number):\n",
        "    return (\"{:,}\".format(number))\n",
        "# print(\"\\nTotal profit: $%8.2f\" % (m.ObjVal))\n",
        "print(\"\\nTotal profit: $\",comma_value(m.ObjVal))\n",
        "# m.printAttr('RHS')\n",
        "# m.printAttr('Slack')\n"
      ]
    },
    {
      "cell_type": "markdown",
      "source": [
        "More details on profits and resources used for each computer type"
      ],
      "metadata": {
        "id": "ecwNWcgdkNbE"
      },
      "id": "ecwNWcgdkNbE"
    },
    {
      "cell_type": "code",
      "source": [
        "#Finding amount of Profit generated by computer type\n",
        "e = m.getObjective()\n",
        "margin = [e.getCoeff(i) for i in computer_type ]\n",
        "production = [v.x for v in m.getVars()]\n",
        "revenue = [margin[i]*production[i] for i in computer_type]\n",
        "for i in computer_type:\n",
        "  print(\"Profit generated by\",Computer_type_label[i],\"computer is $\",comma_value(revenue[i]))"
      ],
      "metadata": {
        "id": "LNSquU4aYVVE"
      },
      "id": "LNSquU4aYVVE",
      "execution_count": null,
      "outputs": []
    },
    {
      "cell_type": "code",
      "source": [
        "#Finding the number of assembly hours used by computer type\n",
        "assembly_hour_used = [LaborAssembly[i]*production[i] for i in computer_type]\n",
        "for i in computer_type:\n",
        "  print(\"Number of Assembly hours used by\",Computer_type_label[i],\"computer is\",comma_value(assembly_hour_used[i]))\n",
        "\n",
        "print(\"Total Assembly hours used is\",comma_value(sum(assembly_hour_used)))"
      ],
      "metadata": {
        "id": "mArRZCaAYVYb"
      },
      "id": "mArRZCaAYVYb",
      "execution_count": null,
      "outputs": []
    },
    {
      "cell_type": "code",
      "source": [
        "#Finding the number of testing hours used by computer type\n",
        "testing_hour_used = [LaborTesting[i]*production[i] for i in computer_type]\n",
        "for i in computer_type:\n",
        "  print(\"Number of Testing hours used by\",Computer_type_label[i],\"computer is\",comma_value(testing_hour_used[i]))\n",
        "\n",
        "print(\"Total Testing hours\",comma_value(sum(testing_hour_used)))"
      ],
      "metadata": {
        "id": "_s-IwPrgYVb2"
      },
      "id": "_s-IwPrgYVb2",
      "execution_count": null,
      "outputs": []
    },
    {
      "cell_type": "markdown",
      "source": [
        "##  Conclusion\n",
        "\n",
        "In the above problem we determined the number of computers that need to be produced to obtain the maximum profit keeping in mind the demand, assembly and testing hour constarints.\n",
        "It is seen that the number of computers to be produced are 560 for Basic type and 1200 for the XP type\n"
      ],
      "metadata": {
        "id": "UQHlUbTkkgJd"
      },
      "id": "UQHlUbTkkgJd"
    },
    {
      "cell_type": "markdown",
      "source": [
        "##  References\n",
        "[1] Sixty examples of business optimization models. https://ytyimin.github.io/tart-cherry/.\n",
        "\n",
        "[2] Gurobi python reference. https://www.gurobi.com/documentation/\n",
        "\n",
        "[3] This example is developed by Shri Lekha K P www.linkedin.com/in/shri-lekha-k-p"
      ],
      "metadata": {
        "id": "QZBv3Thonbj2"
      },
      "id": "QZBv3Thonbj2"
    }
  ],
  "metadata": {
    "kernelspec": {
      "display_name": "Python 3 (ipykernel)",
      "language": "python",
      "name": "python3"
    },
    "language_info": {
      "codemirror_mode": {
        "name": "ipython",
        "version": 3
      },
      "file_extension": ".py",
      "mimetype": "text/x-python",
      "name": "python",
      "nbconvert_exporter": "python",
      "pygments_lexer": "ipython3",
      "version": "3.9.12"
    },
    "colab": {
      "provenance": [],
      "collapsed_sections": [],
      "include_colab_link": true
    }
  },
  "nbformat": 4,
  "nbformat_minor": 5
}