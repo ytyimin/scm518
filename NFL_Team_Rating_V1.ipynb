{
  "cells": [
    {
      "cell_type": "markdown",
      "metadata": {
        "id": "view-in-github",
        "colab_type": "text"
      },
      "source": [
        "<a href=\"https://colab.research.google.com/github/ytyimin/scm518/blob/main/NFL_Team_Rating_V1.ipynb\" target=\"_parent\"><img src=\"https://colab.research.google.com/assets/colab-badge.svg\" alt=\"Open In Colab\"/></a>"
      ]
    },
    {
      "cell_type": "markdown",
      "metadata": {
        "id": "SWWWN49eoi4Z"
      },
      "source": [
        "# NFL Team Rating"
      ]
    },
    {
      "cell_type": "markdown",
      "metadata": {
        "id": "yTw30bfQoi4a"
      },
      "source": [
        "## Objective and Prerequisites\n",
        "\n",
        "This NFL team rating problem shows you how to determine the optimal rating of sporting teams based on their past performances. We use the root mean squared error (RMSE) as a criteria to determine what set of ratings is most accurate. The objectives of the sports rating problem are:\n",
        "\n",
        "* Find the best possible set of ratings for all teams,\n",
        "* Encorporate possible home team advantages,\n",
        "* Minimize the errors when predicting outcomes of future matches, and\n",
        "* Ensure that the ratings are consistent and identifiable. \n"
      ]
    },
    {
      "cell_type": "markdown",
      "metadata": {
        "id": "62q-NwBMoi4c"
      },
      "source": [
        "---\n",
        "## Problem Description\n",
        "\n",
        "![picture](https://drive.google.com/uc?id=1zpCeYLlNZePdlL_S9mi9nlrkUSWYticg)\n",
        "\n",
        "We consider the NFL games from 32 teams. The teams are indexed 1 to 32, for example, team 1 is Arizon, team 2 is Atlanta, and so on.\n",
        "\n",
        "|\tTeam Number\t|\tTeam name\t|\tTeam Number\t|\tTeam name\t|\n",
        "|--- | --- | --- | --- |\n",
        "|\t1 \t|\tArizona Cardinals\t|\t17 \t|\tMiami Dolphins\t|\n",
        "|\t2 \t|\tAtlanta Falcons\t|\t18 \t|\tMinnesota Vikings\t|\n",
        "|\t3 \t|\tBaltimore Ravens\t|\t19 \t|\tNew England Patriots\t|\n",
        "|\t4 \t|\tBuffalo Bills\t|\t20 \t|\tNew Orleans Saints\t|\n",
        "|\t5 \t|\tCarolina Panthers\t|\t21 \t|\tNew York Giants\t|\n",
        "|\t6 \t|\tChicago Bears\t|\t22 \t|\tNew York Jets\t|\n",
        "|\t7 \t|\tCincinnati Bengals\t|\t23 \t|\tOakland Raiders\t|\n",
        "|\t8 \t|\tCleveland Browns\t|\t24 \t|\tPhiladelphia Eagles\t|\n",
        "|\t9 \t|\tDallas Cowboys\t|\t25 \t|\tPittsburgh Steelers\t|\n",
        "|\t10 \t|\tDenver Broncos\t|\t26 \t|\tSt. Louis Rams\t|\n",
        "|\t11 \t|\tDetroit Lions\t|\t27 \t|\tSan Diego Chargers\t|\n",
        "|\t12 \t|\tGreen Bay Packers\t|\t28 \t|\tSan Francisco 49ers\t|\n",
        "|\t13 \t|\tHouston Texans\t|\t29 \t|\tSeattle Seahawks\t|\n",
        "|\t14 \t|\tIndianapolis Colts\t|\t30 \t|\tTampa Bay Buccaneers\t|\n",
        "|\t15 \t|\tJacksonville Jaguars\t|\t31 \t|\tTennessee Titans\t|\n",
        "|\t16 \t|\tKansas City Chiefs\t|\t32 \t|\tWashington Redskins\t|\n",
        "\n",
        "Table below illustrates some of the results of the 256 regular season NFL games from the 2015 season. The first game is team 10 Denver versus team 3 Baltimore, played at Denver. Denver won the game by a score of 49 to 27, and the point spread (home team score minus vistor team score) is calculated as the difference between the home team score and the visiting team score. In the above example, the point spread is 49-27=22.\n",
        "\n",
        "\n",
        "|\tWeek\t|\tMatch\t|\tHome team index\t|\tVisiting team index\t|\tHome team score\t|\tVisiting team score\t|\tPoint spread\t|\n",
        "| --- | --- | --- | --- | --- | --- | --- | \n",
        "|\t1\t|\t1\t|\t10 \t|\t3 \t|\t49 \t|\t27 \t|\t22 \t|\n",
        "|\t1\t|\t2\t|\t5 \t|\t29 \t|\t7 \t|\t12 \t|\t-5 \t|\n",
        "|\t1\t|\t3\t|\t15 \t|\t16 \t|\t2 \t|\t28 \t|\t-26 \t|\n",
        "|\t1\t|\t4\t|\t22 \t|\t30 \t|\t18 \t|\t17 \t|\t1 \t|\n",
        "|\t1\t|\t5\t|\t26 \t|\t1 \t|\t27 \t|\t24 \t|\t3 \t|\n",
        "|\t1\t|\t6\t|\t9 \t|\t21 \t|\t36 \t|\t31 \t|\t5 \t|\n",
        "|\t1\t|\t7\t|\t28 \t|\t12 \t|\t34 \t|\t28 \t|\t6 \t|\n",
        "|\t1\t|\t8\t|\t20 \t|\t2 \t|\t23 \t|\t17 \t|\t6 \t|\n",
        "|\t1\t|\t9\t|\t14 \t|\t23 \t|\t21 \t|\t17 \t|\t4 \t|\n",
        "|\t1\t|\t10\t|\t6 \t|\t7 \t|\t24 \t|\t21 \t|\t3 \t|\n",
        "|\t1\t|\t11\t|\t11 \t|\t18 \t|\t34 \t|\t24 \t|\t10 \t|\n",
        "|\t1\t|\t12\t|\t4 \t|\t19 \t|\t21 \t|\t23 \t|\t-2 \t|\n",
        "|\t1\t|\t13\t|\t25 \t|\t31 \t|\t9 \t|\t16 \t|\t-7 \t|\n",
        "|\t...\t|\t...\t|\t... \t|\t... \t|\t...\t|\t... \t|\t... \t|\n",
        "|\t...\t|\t...\t|\t... \t|\t... \t|\t...\t|\t... \t|\t... \t|\n",
        "|\t...\t|\t...\t|\t... \t|\t... \t|\t...\t|\t... \t|\t... \t|\n",
        "|\t17\t|\t256\t|\t17 \t|\t22 \t|\t7 \t|\t20 \t|\t-13 \t|\n",
        "\n",
        "We would like to find a best rating system that most accurately predicts the matches."
      ]
    },
    {
      "cell_type": "markdown",
      "metadata": {
        "id": "MYpg58_8oi4e"
      },
      "source": [
        "## Model Formulation\n",
        "\n",
        "---\n",
        "\n",
        "\n",
        "\n",
        "### Indices\n",
        "\n",
        "$i,j \\in \\{1..32\\}$: Index to represent teams\n",
        "\n",
        "$t \\in \\{1..256\\}$: Index to represent different games\n",
        "\n",
        "### Parameters\n",
        "\n",
        "$p_{ijt}$: point spread between team $i$ and team $j$ in game $t$\n",
        "\n",
        "### Decision Variables\n",
        "\n",
        "$x_{i}$: Ratings of team $i$, $i \\in \\{1..32\\}$\n",
        "\n",
        "$y$: Home team advantage\n",
        "\n",
        "### Objective Function\n",
        "\n",
        "- **Prediction Accuracy**. We want to minimize the prediction error.\n",
        "\n",
        "\n",
        "\\begin{equation}\n",
        "\\text{Min}_{x_{i},y} \\quad \\frac{\\sqrt{\\sum_{t \\in \\{1..256\\}} (x_i + y - x_j - p_{ijt})^2}}{256}\n",
        "\\tag{0}\n",
        "\\end{equation}\n",
        "\n",
        "### Constraints\n",
        "\n",
        "\\begin{equation}\n",
        "\\sum_i x_i = 32*85 \\ \\ \\ \\text{(fix average rating to be 85)}\n",
        "\\tag{1}\n",
        "\\end{equation}\n"
      ]
    },
    {
      "cell_type": "markdown",
      "metadata": {
        "id": "LrdbknV1oi4f"
      },
      "source": [
        "---\n",
        "\n",
        "## Python Implementation\n",
        "\n",
        "We now import the Gurobi Python Module and other Python libraries."
      ]
    },
    {
      "cell_type": "code",
      "execution_count": 79,
      "metadata": {
        "id": "_xPuyCPtoi4f",
        "colab": {
          "base_uri": "https://localhost:8080/"
        },
        "outputId": "97bd04dc-f4f1-4389-d38a-4b6abaeeb248"
      },
      "outputs": [
        {
          "output_type": "stream",
          "name": "stdout",
          "text": [
            "Looking in indexes: https://pypi.org/simple, https://us-python.pkg.dev/colab-wheels/public/simple/\n",
            "Requirement already satisfied: gurobipy in /usr/local/lib/python3.7/dist-packages (10.0.0)\n"
          ]
        }
      ],
      "source": [
        "%pip install gurobipy"
      ]
    },
    {
      "cell_type": "code",
      "execution_count": 80,
      "metadata": {
        "id": "vZuT7rzcoi4g"
      },
      "outputs": [],
      "source": [
        "from itertools import product\n",
        "from math import sqrt, factorial\n",
        "import numpy as np\n",
        "import pandas as pd\n",
        "import gurobipy as gp\n",
        "from gurobipy import GRB\n",
        "\n",
        "# tested with Gurobi v9.1.0 and Python 3.7.0"
      ]
    },
    {
      "cell_type": "markdown",
      "source": [
        "### Set up the inputs"
      ],
      "metadata": {
        "id": "nzcjnZRRBynN"
      }
    },
    {
      "cell_type": "code",
      "source": [
        "#####################################################\n",
        "#                    Model Formulation\n",
        "#####################################################\n",
        "\n",
        "m = gp.Model('carrier selection')\n",
        "\n",
        "team = [*range(0,32)]\n",
        "game = [*range(0,256)]\n",
        "\n",
        "team_label = ['Arizona Cardinals',\t'Atlanta Falcons',\t'Baltimore Ravens',\t'Buffalo Bills',\t'Carolina Panthers',\t'Chicago Bears',\t'Cincinnati Bengals',\t'Cleveland Browns',\t'Dallas Cowboys',\t'Denver Broncos',\t'Detroit Lions',\t'Green Bay Packers',\t'Houston Texans',\t'Indianapolis Colts',\t'Jacksonville Jaguars',\t'Kansas City Chiefs',\t'Miami Dolphins',\t'Minnesota Vikings',\t'New England Patriots',\t'New Orleans Saints',\t'New York Giants',\t'New York Jets',\t'Oakland Raiders',\t'Philadelphia Eagles',\t'Pittsburgh Steelers',\t'St. Louis Rams',\t'San Diego Chargers',\t'San Francisco 49ers',\t'Seattle Seahawks',\t'Tampa Bay Buccaneers',\t'Tennessee Titans',\t'Washington Redskins']\n",
        "\n",
        "# past game performance\n",
        "\n",
        "p = [[10,3,22],\t[5,29,-5],\t[15,16,-26],\t[22,30,1],\t[26,1,3],\t[9,21,5],\t[28,12,6],\t[20,2,6],\t[14,23,4],\t[6,7,3],\t[11,18,10],\t[4,19,-2],\t[25,31,-7],\t[8,17,-13],\t[32,24,-6],\t[27,13,-3],\t[19,22,3],\t[1,11,4],\t[29,28,26],\t[30,20,-2],\t[13,31,6],\t[21,10,-18],\t[2,26,7],\t[6,18,1],\t[16,9,1],\t[14,17,-4],\t[3,8,8],\t[23,15,10],\t[24,27,-3],\t[4,5,1],\t[12,32,18],\t[7,25,10],\t[24,16,-10],\t[5,21,38],\t[22,4,7],\t[25,6,-17],\t[29,15,28],\t[18,8,-4],\t[17,2,4],\t[7,12,4],\t[32,11,-7],\t[28,14,-20],\t[3,13,21],\t[19,30,20],\t[20,1,24],\t[31,27,3],\t[9,26,24],\t[10,23,16],\t[26,28,-24],\t[2,19,-7],\t[16,21,24],\t[4,3,3],\t[13,29,-3],\t[18,25,7],\t[23,32,-10],\t[30,1,-3],\t[8,7,11],\t[27,9,9],\t[10,24,32],\t[11,6,8],\t[15,14,-34],\t[31,22,25],\t[20,17,21],\t[8,4,13],\t[1,5,16],\t[12,11,13],\t[14,29,6],\t[23,27,10],\t[9,10,-3],\t[28,13,31],\t[6,20,-8],\t[21,24,-15],\t[17,3,-3],\t[31,16,-9],\t[26,15,14],\t[7,19,7],\t[2,22,-2],\t[6,21,6],\t[3,12,-2],\t[18,5,-25],\t[28,1,12],\t[19,20,3],\t[22,25,-13],\t[8,11,-14],\t[16,23,17],\t[13,26,-25],\t[29,31,7],\t[10,15,16],\t[4,7,-3],\t[30,24,-11],\t[9,32,15],\t[27,14,10],\t[1,29,-12],\t[5,26,15],\t[2,30,8],\t[25,3,3],\t[22,19,3],\t[11,7,-3],\t[12,8,18],\t[14,10,6],\t[32,6,4],\t[15,27,-18],\t[17,4,-2],\t[31,28,-14],\t[16,13,1],\t[24,9,-14],\t[21,18,16],\t[30,5,-18],\t[18,12,-13],\t[23,25,3],\t[1,2,14],\t[19,17,10],\t[11,9,1],\t[20,4,18],\t[15,28,-32],\t[10,32,24],\t[7,22,40],\t[24,21,-8],\t[16,8,6],\t[26,29,-5],\t[17,7,2],\t[26,31,-7],\t[5,2,24],\t[13,14,-3],\t[32,27,6],\t[22,20,6],\t[8,3,6],\t[19,25,24],\t[9,18,4],\t[4,16,-10],\t[23,24,-29],\t[29,30,3],\t[12,6,-7],\t[18,32,7],\t[14,26,-30],\t[21,23,4],\t[1,13,3],\t[28,5,-1],\t[27,10,-8],\t[6,11,-2],\t[31,15,-2],\t[2,29,-23],\t[12,24,-14],\t[25,4,13],\t[3,7,3],\t[20,9,32],\t[30,17,3],\t[31,14,-3],\t[29,18,21],\t[6,3,3],\t[21,12,14],\t[13,23,-5],\t[30,2,13],\t[15,1,-13],\t[25,11,10],\t[20,28,3],\t[17,27,4],\t[10,16,10],\t[24,32,8],\t[4,22,23],\t[7,8,21],\t[5,19,4],\t[2,20,-4],\t[13,15,-7],\t[11,30,-3],\t[16,27,-3],\t[12,18,0],\t[21,9,-3],\t[8,25,-16],\t[26,6,21],\t[19,10,3],\t[1,14,29],\t[23,31,-4],\t[17,5,-4],\t[3,22,16],\t[32,28,-21],\t[3,25,2],\t[11,12,30],\t[9,23,7],\t[4,2,-3],\t[27,7,-7],\t[24,1,3],\t[18,6,3],\t[32,21,-7],\t[14,31,8],\t[22,17,-20],\t[28,26,10],\t[8,15,-4],\t[5,30,21],\t[16,10,-7],\t[13,19,-3],\t[29,20,27],\t[15,13,7],\t[25,17,-6],\t[7,14,14],\t[1,26,20],\t[27,21,23],\t[28,29,2],\t[10,31,23],\t[3,18,3],\t[30,4,21],\t[20,5,18],\t[32,16,-35],\t[12,2,1],\t[19,8,1],\t[22,23,10],\t[24,11,14],\t[6,9,17],\t[10,27,-7],\t[8,6,-7],\t[31,1,-3],\t[17,19,4],\t[18,24,18],\t[5,22,10],\t[15,4,-7],\t[30,28,-19],\t[14,13,22],\t[25,7,10],\t[21,29,-23],\t[23,16,-25],\t[26,20,11],\t[9,12,-1],\t[2,32,1],\t[11,3,-2],\t[16,14,-16],\t[11,21,-3],\t[13,10,-24],\t[26,30,10],\t[7,18,28],\t[29,1,-7],\t[22,8,11],\t[4,17,19],\t[15,31,-4],\t[32,9,-1],\t[5,20,4],\t[27,23,13],\t[3,19,-34],\t[12,25,-7],\t[24,6,43],\t[28,2,10],\t[29,26,18],\t[1,28,-3],\t[9,24,-2],\t[6,12,-5],\t[31,13,6],\t[27,16,3],\t[20,30,25],\t[21,32,14],\t[14,15,20],\t[7,3,17],\t[18,11,1],\t[19,4,14],\t[2,5,-1],\t[25,8,13],\t[23,10,-20],\t[17,22,-13]]\n",
        "\n"
      ],
      "metadata": {
        "id": "dF93AcQwk1vy"
      },
      "execution_count": 81,
      "outputs": []
    },
    {
      "cell_type": "markdown",
      "source": [
        "### Compute the index set to facilitate setting up the model "
      ],
      "metadata": {
        "id": "8S7TM77vXXhY"
      }
    },
    {
      "cell_type": "code",
      "source": [
        "# Computing the index set (ijt)\n",
        "\n",
        "# Valid set of tuples\n",
        "A = []\n",
        "for t in game:\n",
        "    # if carrier does serve destination\n",
        "    i = p[t][0]-1\n",
        "    j = p[t][1]-1\n",
        "    tp = i,j,t\n",
        "    A.append(tp)\n",
        "\n",
        "#print(np.matrix(A))    "
      ],
      "metadata": {
        "id": "A7TvJBeHXVuc"
      },
      "execution_count": 82,
      "outputs": []
    },
    {
      "cell_type": "markdown",
      "source": [
        "### Setup decisions, objective, and constraints"
      ],
      "metadata": {
        "id": "3kjqP68u4RyN"
      }
    },
    {
      "cell_type": "code",
      "source": [
        "# Build decision variables: whether to assign destination i to carrier j\n",
        "x = m.addVars(team, vtype=GRB.CONTINUOUS, name='Rating')\n",
        "y = m.addVar(vtype=GRB.CONTINUOUS, name='Home Advantage')"
      ],
      "metadata": {
        "id": "fImti2AV73Jt"
      },
      "execution_count": 83,
      "outputs": []
    },
    {
      "cell_type": "code",
      "source": [
        "# Objective function: Minimize total cost\n",
        "m.setObjective(gp.quicksum(pow(x[i] + y - x[j] - p[t][2],2) for i,j,t in A), GRB.MINIMIZE)"
      ],
      "metadata": {
        "id": "e04vv__b8EIR"
      },
      "execution_count": 84,
      "outputs": []
    },
    {
      "cell_type": "code",
      "source": [
        "#Constraints\n",
        "\n",
        "# Fix average rating to be at 85\n",
        "ratingConstrs = m.addConstr((gp.quicksum(x[i] for i in team) == 32*85), name='fix average rating')"
      ],
      "metadata": {
        "id": "_nlvX4Il8Ohe"
      },
      "execution_count": 85,
      "outputs": []
    },
    {
      "cell_type": "markdown",
      "source": [
        "### Solve the model"
      ],
      "metadata": {
        "id": "hLWgN1XK4WAo"
      }
    },
    {
      "cell_type": "code",
      "source": [
        "# Run optimization engine\n",
        "m.optimize()"
      ],
      "metadata": {
        "colab": {
          "base_uri": "https://localhost:8080/"
        },
        "id": "ATwVQP0aDRIf",
        "outputId": "7a4c06b1-58ef-4ab0-dc55-090aa3929fb1"
      },
      "execution_count": 86,
      "outputs": [
        {
          "output_type": "stream",
          "name": "stdout",
          "text": [
            "Gurobi Optimizer version 10.0.0 build v10.0.0rc2 (linux64)\n",
            "\n",
            "CPU model: Intel(R) Xeon(R) CPU @ 2.20GHz, instruction set [SSE2|AVX|AVX2]\n",
            "Thread count: 1 physical cores, 2 logical processors, using up to 2 threads\n",
            "\n",
            "Optimize a model with 1 rows, 33 columns and 32 nonzeros\n",
            "Model fingerprint: 0x903ceaa3\n",
            "Model has 241 quadratic objective terms\n",
            "Coefficient statistics:\n",
            "  Matrix range     [1e+00, 1e+00]\n",
            "  Objective range  [1e+01, 2e+03]\n",
            "  QObjective range [4e+00, 5e+02]\n",
            "  Bounds range     [0e+00, 0e+00]\n",
            "  RHS range        [3e+03, 3e+03]\n",
            "Presolve removed 0 rows and 1 columns\n",
            "Presolve time: 0.02s\n",
            "Presolved: 1 rows, 32 columns, 32 nonzeros\n",
            "Presolved model has 240 quadratic objective terms\n",
            "Ordering time: 0.00s\n",
            "\n",
            "Barrier statistics:\n",
            " Free vars  : 31\n",
            " AA' NZ     : 4.880e+02\n",
            " Factor NZ  : 5.280e+02\n",
            " Factor Ops : 1.144e+04 (less than 1 second per iteration)\n",
            " Threads    : 1\n",
            "\n",
            "                  Objective                Residual\n",
            "Iter       Primal          Dual         Primal    Dual     Compl     Time\n",
            "   0   5.11841523e+04  5.11841523e+04  3.20e+04 4.14e+02  9.92e+05     0s\n",
            "   1   3.69870491e+04 -2.06992643e+06  3.20e-02 7.11e-15  6.58e+04     0s\n",
            "   2   3.09903036e+04  1.75015965e+04  8.21e-05 7.11e-15  4.22e+02     0s\n",
            "   3   3.09729881e+04  3.09594533e+04  8.83e-10 7.11e-15  4.23e-01     0s\n",
            "   4   3.09729881e+04  3.09729746e+04  1.82e-12 1.99e-13  4.23e-04     0s\n",
            "   5   3.09729881e+04  3.09729881e+04  9.09e-13 5.68e-14  4.24e-07     0s\n",
            "   6   3.09729881e+04  3.09729881e+04  2.27e-12 1.42e-13  4.24e-10     0s\n",
            "\n",
            "Barrier solved model in 6 iterations and 0.06 seconds (0.00 work units)\n",
            "Optimal objective 3.09729881e+04\n",
            "\n"
          ]
        }
      ]
    },
    {
      "cell_type": "markdown",
      "source": [
        "### Examine outputs - The minimum SSE"
      ],
      "metadata": {
        "id": "I-fYhYVE4Ynh"
      }
    },
    {
      "cell_type": "code",
      "source": [
        "# check the SSE\n",
        "\n",
        "print(\"The minimum sum of squared errors are \",round(m.ObjVal,2))"
      ],
      "metadata": {
        "colab": {
          "base_uri": "https://localhost:8080/"
        },
        "id": "_4zHdHMXQQgQ",
        "outputId": "34ca5335-bbc0-486f-fc74-53ed2e79dcce"
      },
      "execution_count": 87,
      "outputs": [
        {
          "output_type": "stream",
          "name": "stdout",
          "text": [
            "The minimum sum of squared errors are  30972.99\n"
          ]
        }
      ]
    },
    {
      "cell_type": "markdown",
      "source": [
        "### Check the optimal team ratings"
      ],
      "metadata": {
        "id": "bDnhtdcYmsTB"
      }
    },
    {
      "cell_type": "code",
      "source": [
        "# print optimal ratings by team\n",
        "\n",
        "print(\"\\033[1m Home team advantage is \\033[0m (\",round(y.x,2),\") \\n\")\n",
        "\n",
        "print(\"\\033[1m Optimal team ratings\")\n",
        "print(\"------------------------------------------\\n\")\n",
        "# loop through all destinations\n",
        "\n",
        "average_rating = 0\n",
        "team_count = 0\n",
        "for i in team:\n",
        "  print(\"\\033[1m\",i+1,\" \", team_label[i],\"\\033[0m (\",round(x[i].x,2),\")\\n\", end=\"\")\n",
        "  average_rating += x[i].x\n",
        "  team_count += 1\n",
        "\n",
        "print(\"------------------------------------------\")\n",
        "print(\"\\033[1m Average team ratings: \\033[0m (\", round(average_rating/team_count,2),\")\")\n"
      ],
      "metadata": {
        "colab": {
          "base_uri": "https://localhost:8080/"
        },
        "id": "3vd_Uq4R4fkP",
        "outputId": "03bf72be-5b55-4922-ef31-26703eaaea4e"
      },
      "execution_count": 88,
      "outputs": [
        {
          "output_type": "stream",
          "name": "stdout",
          "text": [
            "\u001b[1m Home team advantage is \u001b[0m ( 3.11 ) \n",
            "\n",
            "\u001b[1m Optimal team ratings\n",
            "------------------------------------------\n",
            "\n",
            "\u001b[1m 1   Arizona Cardinals \u001b[0m ( 91.45 )\n",
            "\u001b[1m 2   Atlanta Falcons \u001b[0m ( 82.24 )\n",
            "\u001b[1m 3   Baltimore Ravens \u001b[0m ( 81.47 )\n",
            "\u001b[1m 4   Buffalo Bills \u001b[0m ( 81.79 )\n",
            "\u001b[1m 5   Carolina Panthers \u001b[0m ( 94.2 )\n",
            "\u001b[1m 6   Chicago Bears \u001b[0m ( 80.87 )\n",
            "\u001b[1m 7   Cincinnati Bengals \u001b[0m ( 90.35 )\n",
            "\u001b[1m 8   Cleveland Browns \u001b[0m ( 77.31 )\n",
            "\u001b[1m 9   Dallas Cowboys \u001b[0m ( 84.31 )\n",
            "\u001b[1m 10   Denver Broncos \u001b[0m ( 96.37 )\n",
            "\u001b[1m 11   Detroit Lions \u001b[0m ( 83.36 )\n",
            "\u001b[1m 12   Green Bay Packers \u001b[0m ( 81.89 )\n",
            "\u001b[1m 13   Houston Texans \u001b[0m ( 77.42 )\n",
            "\u001b[1m 14   Indianapolis Colts \u001b[0m ( 89.04 )\n",
            "\u001b[1m 15   Jacksonville Jaguars \u001b[0m ( 73.9 )\n",
            "\u001b[1m 16   Kansas City Chiefs \u001b[0m ( 91.08 )\n",
            "\u001b[1m 17   Miami Dolphins \u001b[0m ( 84.16 )\n",
            "\u001b[1m 18   Minnesota Vikings \u001b[0m ( 78.38 )\n",
            "\u001b[1m 19   New England Patriots \u001b[0m ( 90.89 )\n",
            "\u001b[1m 20   New Orleans Saints \u001b[0m ( 93.77 )\n",
            "\u001b[1m 21   New York Giants \u001b[0m ( 79.6 )\n",
            "\u001b[1m 22   New York Jets \u001b[0m ( 78.91 )\n",
            "\u001b[1m 23   Oakland Raiders \u001b[0m ( 77.01 )\n",
            "\u001b[1m 24   Philadelphia Eagles \u001b[0m ( 86.85 )\n",
            "\u001b[1m 25   Pittsburgh Steelers \u001b[0m ( 83.05 )\n",
            "\u001b[1m 26   St. Louis Rams \u001b[0m ( 87.22 )\n",
            "\u001b[1m 27   San Diego Chargers \u001b[0m ( 87.66 )\n",
            "\u001b[1m 28   San Francisco 49ers \u001b[0m ( 95.13 )\n",
            "\u001b[1m 29   Seattle Seahawks \u001b[0m ( 98.04 )\n",
            "\u001b[1m 30   Tampa Bay Buccaneers \u001b[0m ( 82.33 )\n",
            "\u001b[1m 31   Tennessee Titans \u001b[0m ( 84.23 )\n",
            "\u001b[1m 32   Washington Redskins \u001b[0m ( 75.72 )\n",
            "------------------------------------------\n",
            "\u001b[1m Average team ratings: \u001b[0m ( 85.0 )\n"
          ]
        }
      ]
    },
    {
      "cell_type": "markdown",
      "source": [
        "#Conclusion\n",
        "\n",
        "The NFL team rating problem shows that an nonlinear optimization model can be used to predict game match performances. The above example illustrates that teams can be rated in such a way to minimize the prediction errors for game outcomes.  \n",
        "\n",
        "A key take away of the above example is that the team ratings should be controlled at a standard level (85 in this case). The reason is that without such a standard level, there exists an infinite set of optimal solutions that achieve the same RMSE. The standard level, however, can be set at any number. \n",
        "\n",
        "One potential issue with the above team rating optimization approach is that the ratings can over fit historical performance. An exponential weighted performance approach can partially overcome this issue but putting more weight on more recent matches and less weight on distant matchings. However, given that the regular season is not very long, such an issue is unlikely to be a significant concern.  "
      ],
      "metadata": {
        "id": "_YfEEAFTTYnV"
      }
    },
    {
      "cell_type": "markdown",
      "metadata": {
        "id": "XiMLngKYoi4l"
      },
      "source": [
        "##  References\n",
        "\n",
        "[1] Gurobi python reference. https://www.gurobi.com/documentation/\n",
        "\n",
        "[2] This notebook is developed by Yimin Wang (yimin_wang@asu.edu)"
      ]
    }
  ],
  "metadata": {
    "kernelspec": {
      "display_name": "Python 3",
      "language": "python",
      "name": "python3"
    },
    "language_info": {
      "codemirror_mode": {
        "name": "ipython",
        "version": 3
      },
      "file_extension": ".py",
      "mimetype": "text/x-python",
      "name": "python",
      "nbconvert_exporter": "python",
      "pygments_lexer": "ipython3",
      "version": "3.7.1"
    },
    "colab": {
      "provenance": [],
      "collapsed_sections": [],
      "include_colab_link": true
    }
  },
  "nbformat": 4,
  "nbformat_minor": 0
}