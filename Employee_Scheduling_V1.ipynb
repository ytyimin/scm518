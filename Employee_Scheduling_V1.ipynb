{
  "cells": [
    {
      "cell_type": "markdown",
      "metadata": {
        "id": "view-in-github",
        "colab_type": "text"
      },
      "source": [
        "<a href=\"https://colab.research.google.com/github/ytyimin/scm518/blob/main/Employee_Scheduling_V1.ipynb\" target=\"_parent\"><img src=\"https://colab.research.google.com/assets/colab-badge.svg\" alt=\"Open In Colab\"/></a>"
      ]
    },
    {
      "cell_type": "markdown",
      "metadata": {
        "id": "SWWWN49eoi4Z"
      },
      "source": [
        "# Employee Scheduling Optimization"
      ]
    },
    {
      "cell_type": "markdown",
      "metadata": {
        "id": "yTw30bfQoi4a"
      },
      "source": [
        "## Objective and Prerequisites\n",
        "\n",
        "This Employee Scheduling Optimization problem shows you how to determine the optimal number of employees on the payroll in order to:\n",
        "\n",
        "* Satisfy demand for each day's staffing requirement,\n",
        "* Minimize the payroll cost of all employees, and\n",
        "* Prescribe the actual staffing levels achieved for each day.\n",
        "\n",
        "This modeling example is at the introductory level, where we assume that you know Python and that you have some knowledge of how to build mathematical optimization models."
      ]
    },
    {
      "cell_type": "markdown",
      "metadata": {
        "id": "62q-NwBMoi4c"
      },
      "source": [
        "---\n",
        "## Problem Description\n",
        "\n",
        "A small business requires different numbers of full-time employees on different days of the week. The company implements a flexible working policy, which states that each full-time employee can work any five days and take two days off in a week. For example, an employee can work on Monday to Thursday and Saturday while taking Friday and Sunday off. The company wants to meet its daily requirements using only full-time employees. The employees are paid \\$200 pay day if they work on regular weekdays while receive an additional \\$100 per day if they work over the weekend. The company's objective is to minimize its payroll expenses.\n",
        "\n",
        "![picture](https://drive.google.com/uc?id=1zni6oEycubocdW7fLglYB6pGwu7hHkdw)\n",
        "\n",
        "The following table lists the staffing requirements on each day of the week.\n",
        "\n",
        "| Day of the Week | Required Staffing Level |\n",
        "| --- | --- |\n",
        "| Monday    | 177 |\n",
        "| Tuesday   | 134 |\n",
        "| Wednesday | 158 |\n",
        "| Thursday  | 191 |\n",
        "| Friday    | 149 |\n",
        "| Saturday  | 165 |\n",
        "| Sunday    | 116 |\n",
        "\n",
        "In this example, the goal is to identify how many workers to hire and schedule them so that the total payroll cost is minimized. This example shows how a linear programming model model can help the business to:\n",
        "\n",
        "* How to best utilize their employees, \n",
        "* How many workers to hire, and\n",
        "* How they should be scheduled so that the total payroll cost is miniminzed. This Jupyter Notebook is based on the MSBA SCM518 class contents."
      ]
    },
    {
      "cell_type": "markdown",
      "metadata": {
        "id": "MYpg58_8oi4e"
      },
      "source": [
        "## Model Formulation\n",
        "\n",
        "### Indices\n",
        "\n",
        "$i \\in \\{1..21\\}$: Index of possible working schedules (e.g., which days an employee works and which days are off).\n",
        "\n",
        "$j \\in \\{1..7\\}$: Index of work days.\n",
        "\n",
        "### Parameters\n",
        "\n",
        "$d_{j}$: Required staffing level on day $j$.\n",
        "\n",
        "$p_R$: Daily pay for weekdays.\n",
        "\n",
        "$p_O$: Daily pay for weekends.\n",
        "\n",
        "$p_{j}$: Daily pay for day $j$.\n",
        "\n",
        "$a_{ij} \\in \\{0,1\\}$: An availability table that captures whether employees working under schedule $i$ is available for day $j$.\n",
        "\n",
        "### Decision Variables\n",
        "\n",
        "$x_{i}$: How many employees to hire for work schedule $i$.\n",
        "\n",
        "\n",
        "### Objective Function\n",
        "\n",
        "- **Cost**. We want to minimize the total payroll cost.\n",
        "\n",
        "\n",
        "\\begin{equation}\n",
        "\\text{Min}_{x_i} \\quad \\sum_{j \\in \\{1...7\\}} p_j \\left(\\sum_{i \\in \\{1...21\\}} a_{ij}*x_i\\right)\n",
        "\\tag{0}\n",
        "\\end{equation}\n",
        "\n",
        "### Constraints\n",
        "\n",
        "- **Staffing Requirement**. Satisfy staffing requirement for each day.\n",
        "\n",
        "\\begin{equation}\n",
        "\\sum_{i \\in \\{1...21\\}} a_{i,j}*x_{i} \\geq d_j \\quad \\forall j \\in \\{1...7\\}\n",
        "\\tag{1}\n",
        "\\end{equation}\n",
        "\n",
        "\\begin{equation}\n",
        "x_i \\geq 0 \\quad \\forall i \\in \\{1...21\\}\n",
        "\\tag{2}\n",
        "\\end{equation}"
      ]
    },
    {
      "cell_type": "markdown",
      "metadata": {
        "id": "LrdbknV1oi4f"
      },
      "source": [
        "---\n",
        "\n",
        "## Python Implementation\n",
        "\n",
        "We now import the Gurobi Python Module and other Python libraries."
      ]
    },
    {
      "cell_type": "code",
      "execution_count": null,
      "metadata": {
        "id": "_xPuyCPtoi4f"
      },
      "outputs": [],
      "source": [
        "%pip install gurobipy"
      ]
    },
    {
      "cell_type": "code",
      "execution_count": null,
      "metadata": {
        "id": "vZuT7rzcoi4g"
      },
      "outputs": [],
      "source": [
        "from itertools import product\n",
        "from math import sqrt, factorial\n",
        "import numpy as np\n",
        "import gurobipy as gp\n",
        "from gurobipy import GRB\n",
        "\n",
        "# tested with Gurobi v9.1.0 and Python 3.7.0"
      ]
    },
    {
      "cell_type": "markdown",
      "metadata": {
        "id": "u6HSeJ6coi4g"
      },
      "source": [
        "---\n",
        "\n",
        "### Helper Functions\n",
        "\n",
        "We first create a function that helps us to generate an employee availability table based on different work schedules"
      ]
    },
    {
      "cell_type": "code",
      "source": [
        "# compute number of cominations \n",
        "def nCr(n, r): \n",
        "    return int(factorial(n) / (factorial(r) * factorial(n - r)))\n",
        "  \n",
        "# compute availability table\n",
        "# w is the length of the shift, d is number of days off \n",
        "def schedule(w,d):  \n",
        "\n",
        "    # number of shifts \n",
        "    v = nCr(w,d)\n",
        "    s = [[1 for x in range(w)] for x in range(v)] \n",
        "\n",
        "    i=0\n",
        "    for j in range(v):\n",
        "        for k in range(j+1,w):\n",
        "            s[i][j] = 0\n",
        "            s[i][k] = 0   \n",
        "            i=i+1\n",
        "    return s      \n"
      ],
      "metadata": {
        "id": "PsRq0O0dBLq3"
      },
      "execution_count": null,
      "outputs": []
    },
    {
      "cell_type": "markdown",
      "source": [
        "Generate the availability table and take a look at the table"
      ],
      "metadata": {
        "id": "dQolG3FOCi9q"
      }
    },
    {
      "cell_type": "code",
      "source": [
        "# generate the schedule availability table\n",
        "a = schedule(7,2)\n",
        "\n",
        "# print the table to visualize\n",
        "print(np.matrix(a))"
      ],
      "metadata": {
        "id": "oNCFMmTfBjXa"
      },
      "execution_count": null,
      "outputs": []
    },
    {
      "cell_type": "markdown",
      "source": [
        "Set up the model and solve"
      ],
      "metadata": {
        "id": "nzcjnZRRBynN"
      }
    },
    {
      "cell_type": "code",
      "source": [
        "#####################################################\n",
        "#                    Model Formulation\n",
        "#####################################################\n",
        "\n",
        "m = gp.Model('employee scheduling')\n",
        "\n",
        "shift = [*range(0,21)]\n",
        "day = [*range(0,7)]\n",
        "\n",
        "p = [200,200,200,200,200,300,300]\n",
        "\n",
        "d=[177,134,158,191,149,165,116]\n",
        "\n",
        "# Cartesian product of shifts and days\n",
        "sd = []\n",
        "    \n",
        "for i in shift:\n",
        "    for j in day:\n",
        "        tp = i,j\n",
        "        sd.append(tp)\n",
        "\n",
        "#print(np.matrix(sd))\n",
        "\n",
        "# Build decision variables: how many employees to work on a shift\n",
        "x = m.addVars(shift, vtype=GRB.INTEGER, name='Assign')\n",
        "    \n",
        "# Objective function: Minimize total payroll cost\n",
        "m.setObjective(gp.quicksum(p[j]*a[i][j]*x[i] for i,j in sd), GRB.MINIMIZE)\n",
        "    \n",
        "# Satisfying staffing requirements\n",
        "staffingConstrs = m.addConstrs((gp.quicksum(x[i]*a[i][j]  for i in shift) >= d[j] for j in day), \n",
        "                                      name='staffingConstrs')\n",
        "    \n",
        "# Run optimization engine\n",
        "m.optimize()"
      ],
      "metadata": {
        "id": "4fR9DtyUQ7k2"
      },
      "execution_count": null,
      "outputs": []
    },
    {
      "cell_type": "markdown",
      "source": [
        "Take a look at the results on number of employees on the payroll"
      ],
      "metadata": {
        "id": "i5ggpCTbIMni"
      }
    },
    {
      "cell_type": "code",
      "source": [
        "#####################################################\n",
        "#         Number of employees on each shift\n",
        "#####################################################\n",
        "    \n",
        "print(f\"\\n\\n___Optimal employees on each shift________\")\n",
        "total_employee = 0\n",
        "for t in shift:\n",
        "    print(\"The number of employee on shift %2d is %3d\" % (t, x[t].x))\n",
        "    #print(f\"The number of employee on shift {t} is {x[t].x}\") \n",
        "    total_employee += x[t].x\n",
        "            \n",
        "print(\"The total number of emploee is %3d \" % (total_employee))  \n"
      ],
      "metadata": {
        "id": "8aNo8QaISobW"
      },
      "execution_count": null,
      "outputs": []
    },
    {
      "cell_type": "markdown",
      "source": [
        "Take a look at the staffing coverage for each day of the week."
      ],
      "metadata": {
        "id": "M8V-PXKAIU0j"
      }
    },
    {
      "cell_type": "code",
      "source": [
        "#####################################################\n",
        "#     Actual coverage on each day\n",
        "#####################################################\n",
        "    \n",
        "print(f\"\\n\\n____Actual coverage on each day_____\")\n",
        "for t in day:\n",
        "    actual_employee = 0\n",
        "    for s in shift:\n",
        "      actual_employee += (x[s].x)*a[s][t]\n",
        "    print(\"The number of employee on shift %1d is %3d where demand is %3d\" % (t, actual_employee, d[t]) ) "
      ],
      "metadata": {
        "id": "bMaWH9VBT7R0"
      },
      "execution_count": null,
      "outputs": []
    },
    {
      "cell_type": "markdown",
      "source": [
        "###A variant of the model where employees must take two consequtive days off."
      ],
      "metadata": {
        "id": "KNiyP9wfEOTM"
      }
    },
    {
      "cell_type": "markdown",
      "source": [
        "The mathematical model remains identical, where the only change is the availability table: instead of C(7,2)=21 rows, we now only have C(7,1)=7 rows. See below for details. Thus, there is no need to setup a separate mathematical model."
      ],
      "metadata": {
        "id": "rmx9YY3IJllq"
      }
    },
    {
      "cell_type": "markdown",
      "source": [
        "First compute the availability table."
      ],
      "metadata": {
        "id": "CtJQzEw3EhZv"
      }
    },
    {
      "cell_type": "code",
      "source": [
        "# assuming employees must take two consequtive days off\n",
        "# compute availability table\n",
        "# w is the length of the shift, d is number of days off \n",
        "def schedule(w,d):  \n",
        "\n",
        "    s = [[1 for x in range(w)] for x in range(w)] \n",
        "    i=0\n",
        "    for j in range(w):\n",
        "        s[i][j] = 0\n",
        "        s[i][(j+1)%w] = 0   \n",
        "        i=i+1\n",
        "    return s      "
      ],
      "metadata": {
        "id": "_4MEr5EHEdxd"
      },
      "execution_count": null,
      "outputs": []
    },
    {
      "cell_type": "markdown",
      "source": [
        "Generate the availability table and take a look."
      ],
      "metadata": {
        "id": "peV8fWPyFxNl"
      }
    },
    {
      "cell_type": "code",
      "source": [
        "# generate the schedule availability table\n",
        "a = schedule(7,2)\n",
        "\n",
        "# print the table to visualize\n",
        "print(np.matrix(a))"
      ],
      "metadata": {
        "id": "22lBgZb4Fz7z"
      },
      "execution_count": null,
      "outputs": []
    },
    {
      "cell_type": "markdown",
      "source": [
        "Setup the model"
      ],
      "metadata": {
        "id": "KAqzQbw0HTeU"
      }
    },
    {
      "cell_type": "code",
      "source": [
        "#####################################################\n",
        "#                    Model Formulation\n",
        "#####################################################\n",
        "\n",
        "m = gp.Model('employee scheduling')\n",
        "\n",
        "shift = [*range(0,7)]\n",
        "day = [*range(0,7)]\n",
        "\n",
        "p = [200,200,200,200,200,300,300]\n",
        "\n",
        "d=[177,134,158,191,149,165,116]\n",
        "\n",
        "# Cartesian product of shifts and days\n",
        "sd = []\n",
        "    \n",
        "for i in shift:\n",
        "    for j in day:\n",
        "        tp = i,j\n",
        "        sd.append(tp)\n",
        "\n",
        "#print(np.matrix(sd))\n",
        "\n",
        "# Build decision variables: how many employees to work on a shift\n",
        "x = m.addVars(shift, vtype=GRB.INTEGER, name='Assign')\n",
        "    \n",
        "# Objective function: Minimize total payroll cost\n",
        "m.setObjective(gp.quicksum(p[j]*a[i][j]*x[i] for i,j in sd), GRB.MINIMIZE)\n",
        "    \n",
        "# Satisfying staffing requirements\n",
        "staffingConstrs = m.addConstrs((gp.quicksum(x[i]*a[i][j]  for i in shift) >= d[j] for j in day), \n",
        "                                      name='staffingConstrs')\n",
        "    \n",
        "# Run optimization engine\n",
        "m.optimize()"
      ],
      "metadata": {
        "id": "YiBe5kxyHU4E"
      },
      "execution_count": null,
      "outputs": []
    },
    {
      "cell_type": "markdown",
      "source": [
        "Take a look at the number of employees hired."
      ],
      "metadata": {
        "id": "-K3fZ42TIbpr"
      }
    },
    {
      "cell_type": "code",
      "source": [
        "#####################################################\n",
        "#         Number of employees on each shift\n",
        "#####################################################\n",
        "    \n",
        "print(f\"\\n\\n___Optimal employees on each shift________\")\n",
        "total_employee = 0\n",
        "for t in shift:\n",
        "    print(\"The number of employee on shift %2d is %3d\" % (t, x[t].x))\n",
        "    #print(f\"The number of employee on shift {t} is {x[t].x}\") \n",
        "    total_employee += x[t].x\n",
        "            \n",
        "print(\"The total number of emploee is %3d \" % (total_employee))  \n"
      ],
      "metadata": {
        "id": "1CWOze-YIeKd"
      },
      "execution_count": null,
      "outputs": []
    },
    {
      "cell_type": "markdown",
      "source": [
        "Take a look at the actual coverage."
      ],
      "metadata": {
        "id": "xv98V3pzI8Px"
      }
    },
    {
      "cell_type": "code",
      "source": [
        "#####################################################\n",
        "#     Actual coverage on each day\n",
        "#####################################################\n",
        "    \n",
        "print(f\"\\n\\n____Actual coverage on each day_____\")\n",
        "for t in day:\n",
        "    actual_employee = 0\n",
        "    for s in shift:\n",
        "      actual_employee += (x[s].x)*a[s][t]\n",
        "    print(\"The number of employee on shift %1d is %3d where demand is %3d\" % (t, actual_employee, d[t]) ) "
      ],
      "metadata": {
        "id": "xTf7kSBzI-4A"
      },
      "execution_count": null,
      "outputs": []
    },
    {
      "cell_type": "markdown",
      "source": [
        "As we can see, when the employee schedules are less flexible (two consequtive days off), the company needs to hire more people to satisfy daily demand. This is consistent with the theoretical predication: when more constraints are imposed, the objective can only get worse."
      ],
      "metadata": {
        "id": "8OKSSFZsJCbV"
      }
    },
    {
      "cell_type": "markdown",
      "metadata": {
        "id": "uyx97WQIoi4k"
      },
      "source": [
        "---\n",
        "##  Conclusion\n",
        "\n",
        "In this example, we addressed the employee scheduling problem. We determined the optimal number of employee to: \n",
        "* Satisfy demand for each day, \n",
        "* Minimize the total number of employees, and \n",
        "* Find number of employees to place in each shift.\n",
        "\n",
        "We also consider variations of the model where employees must take two conseutive days off.\n",
        "\n",
        "Our employee scheduling model can be used by many organizations to help make informed decisions about which shifts and how many employees to have in order to satisfy daily demand while minimizing the number of employees on the payroll.\n"
      ]
    },
    {
      "cell_type": "markdown",
      "metadata": {
        "id": "XiMLngKYoi4l"
      },
      "source": [
        "##  References\n",
        "[1] Sixty examples of business optimization models. https://ytyimin.github.io/tart-cherry/.\n",
        "\n",
        "[2] Gurobi python reference. https://www.gurobi.com/documentation/\n",
        "\n",
        "[3] This notebook is developed by Yimin Wang. If you have any suggestions or comments, please contact yimin_wang@asu.edu"
      ]
    }
  ],
  "metadata": {
    "kernelspec": {
      "display_name": "Python 3",
      "language": "python",
      "name": "python3"
    },
    "language_info": {
      "codemirror_mode": {
        "name": "ipython",
        "version": 3
      },
      "file_extension": ".py",
      "mimetype": "text/x-python",
      "name": "python",
      "nbconvert_exporter": "python",
      "pygments_lexer": "ipython3",
      "version": "3.7.1"
    },
    "colab": {
      "provenance": [],
      "collapsed_sections": [],
      "include_colab_link": true
    }
  },
  "nbformat": 4,
  "nbformat_minor": 0
}