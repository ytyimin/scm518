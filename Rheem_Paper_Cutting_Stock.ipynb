{
  "cells": [
    {
      "cell_type": "markdown",
      "metadata": {
        "id": "view-in-github",
        "colab_type": "text"
      },
      "source": [
        "<a href=\"https://colab.research.google.com/github/ytyimin/scm518/blob/main/Rheem_Paper_Cutting_Stock.ipynb\" target=\"_parent\"><img src=\"https://colab.research.google.com/assets/colab-badge.svg\" alt=\"Open In Colab\"/></a>"
      ]
    },
    {
      "cell_type": "markdown",
      "metadata": {
        "id": "SWWWN49eoi4Z"
      },
      "source": [
        "# Rheem Paper Cutting Stock"
      ]
    },
    {
      "cell_type": "markdown",
      "metadata": {
        "id": "yTw30bfQoi4a"
      },
      "source": [
        "## Objective and Prerequisites\n",
        "\n",
        "This cutting stock problem shows you how to determine the optimal rolls of paper to cut with different cut patterns to satisfy various demands for different width of papers. The objective is to cut the least rolls of paper to satisfy all the demand. The objectives of the cutting stock problem are:\n",
        "\n",
        "* Minimize the rolls of paper that must be cut,\n",
        "* Make sure the cut satisfies demand for various widths, and\n",
        "* Ensure that the combination of cuts are valid, i.e., must not exceed 60 inches.\n"
      ]
    },
    {
      "cell_type": "markdown",
      "metadata": {
        "id": "62q-NwBMoi4c"
      },
      "source": [
        "---\n",
        "## Problem Description\n",
        "\n",
        "![picture](https://drive.google.com/uc?id=1Db10dmpuWmQke8iw4PDbvxdUwVoNqfHr)\n",
        "\n",
        "The Rheem Paper Copmpany produces rolls of paper of various types for its customers. One type is produced in standard rools that are 60 inches wide and (when unwound) 200 yards long. Customers for this type of paper order rolls that are all 200 yards long, but can have any of the widths 12, 15, 20, 24, 30, or 40 inches. In a given week, Rheem waits for all orders and then decides how to cut its 60-inch rolls to satisfy the orders. For example, if there are five orders for 15-inch widths and two orders for 40-inch widths, Rheem could satisfy the order by producing three rolls, cutting each of the first two into a 40-inch and a 15-inch cut (with 5 inches left over) and cutting the third into four 15-inch cuts (with one of these left over). Each week, Rheem must decide how to cut its rolls in the most economical way to meet its orders. Specifically, it wants to cut as few rolls as possible.\n",
        "\n",
        "The following table lists an example orders of various paper widths. \n",
        "\n",
        "| Width|\t12    | 15    | 20\t  | 24   | 30  | 40\t | \n",
        "| ---     | ---   | ---   | ---   | ---  | ---  | ---  | \n",
        "|Demand   | 48    | 19\t| 22| 32 | 14 | 7 | \n",
        "\n",
        "Rheem Paper wants to determine a most efficient cutting plan to minimize the number of rolls of paper to cut."
      ]
    },
    {
      "cell_type": "markdown",
      "source": [
        "# Discussion\n",
        "\n",
        "A key challenge of the above problem is that there are many different possible patterns to cut, so the options to cut in various ways are quite large. \n",
        "\n",
        "One way to approach the problem is to recognize that we can setup a table that lists all possible cutting patterns so that we know for each patter how many rolls of different widths can be obtained. \n",
        "\n",
        "From a conceptual level, this problem shares some structural similarities with the employee scheduling example. In what follows, we implement the above idea."
      ],
      "metadata": {
        "id": "maOaIx4t8NyU"
      }
    },
    {
      "cell_type": "markdown",
      "metadata": {
        "id": "MYpg58_8oi4e"
      },
      "source": [
        "## Model Formulation\n",
        "\n",
        "---\n",
        "\n",
        "### Indices\n",
        "\n",
        "$i \\in \\{1..6\\}$: Index to represent different widths\n",
        "\n",
        "$j \\in \\{1..N\\}$: Index to represent different cut patterns (in this specific example N=26)\n",
        "\n",
        "### Parameters\n",
        "\n",
        "$d_{i}$: Demand for width $i$\n",
        "\n",
        "\n",
        "### Calculated Parameter\n",
        "\n",
        "$A_{ij}$: Rolls of width $i$ that can be obtained from cut pattern $j$ (We show how to compute $A_{ij}$ in the python implementation below)\n",
        "\n",
        "### Decision Variables\n",
        "\n",
        "$x_{j}$: Number of rolls of pattern $j$ to cut\n",
        "\n",
        "\n",
        "### Objective Function\n",
        "\n",
        "- **Rolls of Paper**. We want to minimize the total rolls of papers to cut.\n",
        "\n",
        "\n",
        "\\begin{equation}\n",
        "\\text{Min}_{x_{j}} \\quad \\sum_{j \\in \\{1..N\\}} x_{j}\n",
        "\\tag{0}\n",
        "\\end{equation}\n",
        "\n",
        "### Constraints\n",
        "\n",
        "\\begin{equation}\n",
        "\\sum_{j \\in \\{1..N\\}} A_{ij}*x_{j} \\geq d_{i} \\quad \\forall i \\in \\{1...6\\} \\quad (\\text{Satisfy demand for each width})\n",
        "\\tag{1}\n",
        "\\end{equation}\n",
        "\n",
        "\\begin{equation}\n",
        "x_{j} \\in Integer^+ \\quad \\forall j \\in \\{1..N\\} \\quad (\\text{integer number of rolls to cut})\n",
        "\\tag{2}\n",
        "\\end{equation}\n"
      ]
    },
    {
      "cell_type": "markdown",
      "metadata": {
        "id": "LrdbknV1oi4f"
      },
      "source": [
        "---\n",
        "\n",
        "## Python Implementation\n",
        "\n",
        "We now import the Gurobi Python Module and other Python libraries."
      ]
    },
    {
      "cell_type": "code",
      "execution_count": null,
      "metadata": {
        "id": "_xPuyCPtoi4f",
        "colab": {
          "base_uri": "https://localhost:8080/"
        },
        "outputId": "6f5ce85e-1865-4d59-9e07-3f9c5ec6e0ac"
      },
      "outputs": [
        {
          "output_type": "stream",
          "name": "stdout",
          "text": [
            "Looking in indexes: https://pypi.org/simple, https://us-python.pkg.dev/colab-wheels/public/simple/\n",
            "Collecting gurobipy\n",
            "  Downloading gurobipy-9.5.2-cp37-cp37m-manylinux2014_x86_64.whl (11.5 MB)\n",
            "\u001b[K     |████████████████████████████████| 11.5 MB 6.2 MB/s \n",
            "\u001b[?25hInstalling collected packages: gurobipy\n",
            "Successfully installed gurobipy-9.5.2\n"
          ]
        }
      ],
      "source": [
        "%pip install gurobipy"
      ]
    },
    {
      "cell_type": "code",
      "execution_count": null,
      "metadata": {
        "id": "vZuT7rzcoi4g"
      },
      "outputs": [],
      "source": [
        "from itertools import product\n",
        "from math import sqrt, factorial\n",
        "import numpy as np\n",
        "import pandas as pd\n",
        "import gurobipy as gp\n",
        "from gurobipy import GRB\n",
        "\n",
        "# tested with Gurobi v9.1.0 and Python 3.7.0"
      ]
    },
    {
      "cell_type": "markdown",
      "source": [
        "Set up the inputs"
      ],
      "metadata": {
        "id": "nzcjnZRRBynN"
      }
    },
    {
      "cell_type": "code",
      "source": [
        "#####################################################\n",
        "#                    Model Formulation\n",
        "#####################################################\n",
        "\n",
        "m = gp.Model('stock cutting')\n",
        "\n",
        "# Inputs\n",
        "\n",
        "width = [*range(0,6)]\n",
        "\n",
        "width_label = ['12','15','20','24','30','40']\n",
        "\n",
        "# demand of different width\n",
        "d = [48,19,22,32,14,7]"
      ],
      "metadata": {
        "id": "dF93AcQwk1vy",
        "colab": {
          "base_uri": "https://localhost:8080/"
        },
        "outputId": "4c311a30-2e76-4bf5-8b07-561204fbcc9e"
      },
      "execution_count": null,
      "outputs": [
        {
          "output_type": "stream",
          "name": "stdout",
          "text": [
            "Restricted license - for non-production use only - expires 2023-10-25\n"
          ]
        }
      ]
    },
    {
      "cell_type": "markdown",
      "source": [
        "Compute the $A_{ij}$ table"
      ],
      "metadata": {
        "id": "AV3AwvM84HWx"
      }
    },
    {
      "cell_type": "code",
      "source": [
        "import math\n",
        "# actual width - only used for constructing the A_ij matrix\n",
        "w = [12,15,20,24,30,40]\n",
        "\n",
        "# stock width\n",
        "W = 60\n",
        "\n",
        "# compute the maximum number of width available if the stock paper is cut only into that width\n",
        "bound = [math.floor(W / x) for x in w]\n",
        "\n",
        "#print(bound)\n",
        "\n",
        "# loop through different combinations to obtain possible number of cuts\n",
        "A = []\n",
        "N = 0;\n",
        "for i0 in range(bound[0]+1):\n",
        "  for i1 in range(bound[1]+1):\n",
        "    for i2 in range(bound[2]+1):\n",
        "      for i3 in range(bound[3]+1):\n",
        "        for i4 in range(bound[4]+1):\n",
        "          for i5 in range(bound[5]+1):\n",
        "\n",
        "            # check whether the combination is valid\n",
        "            total_w = i0*w[0] + i1*w[1] + i2*w[2] + i3*w[3] + i4*w[4] + i5*w[5];  \n",
        "            \n",
        "            if total_w <= W and W - total_w < w[0]:\n",
        "              A_temp = [i0, i1, i2, i3, i4, i5]\n",
        "              A.append(A_temp)\n",
        "              N = N +1\n",
        "\n",
        "print(np.matrix(A))   \n",
        "#print(N) \n",
        "\n",
        "pattern = [*range(0,N)]"
      ],
      "metadata": {
        "colab": {
          "base_uri": "https://localhost:8080/"
        },
        "id": "vRDWAP8HCTPA",
        "outputId": "f3d10b1f-e9a5-41dd-dce3-b9f73c1dbdd3"
      },
      "execution_count": null,
      "outputs": [
        {
          "output_type": "stream",
          "name": "stdout",
          "text": [
            "[[0 0 0 0 2 0]\n",
            " [0 0 0 1 1 0]\n",
            " [0 0 1 0 0 1]\n",
            " [0 0 1 0 1 0]\n",
            " [0 0 3 0 0 0]\n",
            " [0 1 0 0 0 1]\n",
            " [0 1 1 1 0 0]\n",
            " [0 1 2 0 0 0]\n",
            " [0 2 0 0 1 0]\n",
            " [0 2 0 1 0 0]\n",
            " [0 2 1 0 0 0]\n",
            " [0 4 0 0 0 0]\n",
            " [1 0 0 0 0 1]\n",
            " [1 0 0 2 0 0]\n",
            " [1 0 1 1 0 0]\n",
            " [1 0 2 0 0 0]\n",
            " [1 1 0 0 1 0]\n",
            " [1 1 0 1 0 0]\n",
            " [1 3 0 0 0 0]\n",
            " [2 0 0 0 1 0]\n",
            " [2 1 1 0 0 0]\n",
            " [2 2 0 0 0 0]\n",
            " [3 0 0 1 0 0]\n",
            " [3 0 1 0 0 0]\n",
            " [3 1 0 0 0 0]\n",
            " [5 0 0 0 0 0]]\n"
          ]
        }
      ]
    },
    {
      "cell_type": "markdown",
      "source": [
        "Setup decisions, objective, and constraints"
      ],
      "metadata": {
        "id": "3kjqP68u4RyN"
      }
    },
    {
      "cell_type": "code",
      "source": [
        "# Build decision variables: whether to assign destination i to carrier j\n",
        "x = m.addVars(pattern, vtype=GRB.INTEGER, name='Assign')"
      ],
      "metadata": {
        "id": "fImti2AV73Jt"
      },
      "execution_count": null,
      "outputs": []
    },
    {
      "cell_type": "code",
      "source": [
        "# Objective function: Minimize total cost\n",
        "m.setObjective(gp.quicksum(x[j] for j in pattern), GRB.MINIMIZE)"
      ],
      "metadata": {
        "id": "e04vv__b8EIR"
      },
      "execution_count": null,
      "outputs": []
    },
    {
      "cell_type": "code",
      "source": [
        "#Constraints\n",
        "\n",
        "# Commitment Constraints\n",
        "DemandConstrs = m.addConstrs((gp.quicksum(A[j][i]*x[j] for j in pattern) >= d[i] for i in width), \n",
        "                                      name='DemandConstrs')\n"
      ],
      "metadata": {
        "id": "_nlvX4Il8Ohe"
      },
      "execution_count": null,
      "outputs": []
    },
    {
      "cell_type": "markdown",
      "source": [
        "Solve the model"
      ],
      "metadata": {
        "id": "hLWgN1XK4WAo"
      }
    },
    {
      "cell_type": "code",
      "source": [
        "# Run optimization engine\n",
        "m.optimize()"
      ],
      "metadata": {
        "colab": {
          "base_uri": "https://localhost:8080/"
        },
        "id": "ATwVQP0aDRIf",
        "outputId": "c1f2405d-ace7-47c3-effa-e7878b427255"
      },
      "execution_count": null,
      "outputs": [
        {
          "output_type": "stream",
          "name": "stdout",
          "text": [
            "Gurobi Optimizer version 9.5.2 build v9.5.2rc0 (linux64)\n",
            "Thread count: 1 physical cores, 2 logical processors, using up to 2 threads\n",
            "Optimize a model with 6 rows, 26 columns and 53 nonzeros\n",
            "Model fingerprint: 0xbc8b13b9\n",
            "Variable types: 0 continuous, 26 integer (0 binary)\n",
            "Coefficient statistics:\n",
            "  Matrix range     [1e+00, 5e+00]\n",
            "  Objective range  [1e+00, 1e+00]\n",
            "  Bounds range     [0e+00, 0e+00]\n",
            "  RHS range        [7e+00, 5e+01]\n",
            "Presolved: 6 rows, 26 columns, 53 nonzeros\n",
            "\n",
            "Continuing optimization...\n",
            "\n",
            "\n",
            "Explored 1 nodes (6 simplex iterations) in 0.02 seconds (0.00 work units)\n",
            "Thread count was 2 (of 2 available processors)\n",
            "\n",
            "Solution count 2: 47 94 \n",
            "\n",
            "Optimal solution found (tolerance 1.00e-04)\n",
            "Best objective 4.700000000000e+01, best bound 4.700000000000e+01, gap 0.0000%\n"
          ]
        }
      ]
    },
    {
      "cell_type": "markdown",
      "source": [
        "Examine outputs"
      ],
      "metadata": {
        "id": "I-fYhYVE4Ynh"
      }
    },
    {
      "cell_type": "code",
      "source": [
        "# print optimal cut by patterns\n",
        "\n",
        "print(\"\\033[1m Optimal cuts by patterns [12,15,20,24,30,40]\")\n",
        "print(\"------------------------------------------\\n\")\n",
        "\n",
        "# initializing pattern label\n",
        "p_label = 'A'\n",
        " \n",
        "# loop through all patterns\n",
        "for i in pattern:\n",
        "  if x[i].x > 1e-6:\n",
        "    print(\"\\033[1m Pattern\",p_label,\"\\033[0m \",A[i],\":\",x[i].x,\"rolls\")\n",
        "    p_label = chr(ord(p_label) + 1)\n",
        "\n",
        "print(\"------------------------------------------\")\n",
        "print(\"The minimum rolls of paper to cut is\",m.ObjVal)"
      ],
      "metadata": {
        "colab": {
          "base_uri": "https://localhost:8080/"
        },
        "id": "eYMxFReWID4z",
        "outputId": "da651c68-f2f7-41a5-a249-608b690d5574"
      },
      "execution_count": null,
      "outputs": [
        {
          "output_type": "stream",
          "name": "stdout",
          "text": [
            "\u001b[1m Optimal cuts by patterns [12,15,20,24,30,40]\n",
            "------------------------------------------\n",
            "\n",
            "\u001b[1m Pattern A \u001b[0m  [0, 0, 0, 0, 2, 0] : 7.0 rolls\n",
            "\u001b[1m Pattern B \u001b[0m  [0, 0, 1, 0, 0, 1] : 7.0 rolls\n",
            "\u001b[1m Pattern C \u001b[0m  [0, 0, 3, 0, 0, 0] : 5.0 rolls\n",
            "\u001b[1m Pattern D \u001b[0m  [0, 4, 0, 0, 0, 0] : 4.0 rolls\n",
            "\u001b[1m Pattern E \u001b[0m  [1, 0, 0, 2, 0, 0] : 16.0 rolls\n",
            "\u001b[1m Pattern F \u001b[0m  [1, 3, 0, 0, 0, 0] : 1.0 rolls\n",
            "\u001b[1m Pattern G \u001b[0m  [3, 0, 0, 1, 0, 0] : 1.0 rolls\n",
            "\u001b[1m Pattern H \u001b[0m  [5, 0, 0, 0, 0, 0] : 6.0 rolls\n",
            "------------------------------------------\n",
            "The minimum rolls of paper to cut is 47.0\n"
          ]
        }
      ]
    },
    {
      "cell_type": "markdown",
      "source": [
        "Notice that most patterns do not generate any waste, except for pattern G which generate 3 inches of waste per cut."
      ],
      "metadata": {
        "id": "XpY4jQC1OJWz"
      }
    },
    {
      "cell_type": "code",
      "source": [
        "# print obtained rolls of paper with different widths\n",
        "\n",
        "print(\"\\033[1m Available rolls of different widths\")\n",
        "print(\"------------------------------------------\\n\")\n",
        "\n",
        "# loop through all widths\n",
        "for i in width:\n",
        "  available_rolls = 0\n",
        "  for j in pattern:\n",
        "    available_rolls += A[j][i]*x[j].x\n",
        "  print(\"\\033[1m Width\",w[i],\"\\033[0m (requires\",d[i],\"): cut\",available_rolls,\"rolls\")"
      ],
      "metadata": {
        "colab": {
          "base_uri": "https://localhost:8080/"
        },
        "id": "gCgaNicJMElG",
        "outputId": "658be1c8-137c-46bb-d284-f6dd94f4b641"
      },
      "execution_count": null,
      "outputs": [
        {
          "output_type": "stream",
          "name": "stdout",
          "text": [
            "\u001b[1m Available rolls of different widths\n",
            "------------------------------------------\n",
            "\n",
            "\u001b[1m Width 12 \u001b[0m (requires 48 ): cut 50.0 rolls\n",
            "\u001b[1m Width 15 \u001b[0m (requires 19 ): cut 19.0 rolls\n",
            "\u001b[1m Width 20 \u001b[0m (requires 22 ): cut 22.0 rolls\n",
            "\u001b[1m Width 24 \u001b[0m (requires 32 ): cut 33.0 rolls\n",
            "\u001b[1m Width 30 \u001b[0m (requires 14 ): cut 14.0 rolls\n",
            "\u001b[1m Width 40 \u001b[0m (requires 7 ): cut 7.0 rolls\n"
          ]
        }
      ]
    },
    {
      "cell_type": "markdown",
      "source": [
        "#Conclusion\n",
        "\n",
        "The stock cutting example shows that to meet the weekly demand of various paper widths, the minimum number of rolls to cut is 47 rolls, with a combination of eight different patterns to cut. Notice that the achieved rolls of different width exceeds the actual requirement, suggesting that a perfect match is not possible to meet, and some waste is necessarily generated. However, from a planning horizon perspective, the excess rolls of paper can be used to satisfy future demand, and therefore the waste is not a concern. The only exception is that pattern G above does generate 3 inches of waste per cut. It is clearly possible to restrict the cuts to generate no waste, that is, certain patterns cannot be cut. What is your take on this aspect?  \n",
        "\n",
        "A key take away of the above example is that the stock cutting problem can be tackled by first generate a set of possible combinations of different options to help the decision making process. This example share similar conceptual approach as the employee scheduling problem we studied earlier, where the availability information must be created based on available information, as opposed to directly provided. "
      ],
      "metadata": {
        "id": "_YfEEAFTTYnV"
      }
    },
    {
      "cell_type": "markdown",
      "metadata": {
        "id": "XiMLngKYoi4l"
      },
      "source": [
        "##  References\n",
        "\n",
        "[1] Gurobi python reference. https://www.gurobi.com/documentation/\n",
        "\n",
        "[2] This notebook is developed by Yimin Wang. If you have any comments or suggestions, please contact yimin_wang@asu.edu."
      ]
    }
  ],
  "metadata": {
    "kernelspec": {
      "display_name": "Python 3",
      "language": "python",
      "name": "python3"
    },
    "language_info": {
      "codemirror_mode": {
        "name": "ipython",
        "version": 3
      },
      "file_extension": ".py",
      "mimetype": "text/x-python",
      "name": "python",
      "nbconvert_exporter": "python",
      "pygments_lexer": "ipython3",
      "version": "3.7.1"
    },
    "colab": {
      "provenance": [],
      "collapsed_sections": [],
      "include_colab_link": true
    }
  },
  "nbformat": 4,
  "nbformat_minor": 0
}
