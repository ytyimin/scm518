{
  "cells": [
    {
      "cell_type": "markdown",
      "metadata": {
        "id": "view-in-github",
        "colab_type": "text"
      },
      "source": [
        "<a href=\"https://colab.research.google.com/github/ytyimin/scm518/blob/main/Machine_Replacement_V1.ipynb\" target=\"_parent\"><img src=\"https://colab.research.google.com/assets/colab-badge.svg\" alt=\"Open In Colab\"/></a>"
      ]
    },
    {
      "cell_type": "markdown",
      "metadata": {
        "id": "SWWWN49eoi4Z"
      },
      "source": [
        "# Equipment Replacement: Purchasing, Selling, and Maintainance"
      ]
    },
    {
      "cell_type": "markdown",
      "metadata": {
        "id": "yTw30bfQoi4a"
      },
      "source": [
        "## Objective and Prerequisites\n",
        "\n",
        "This equipment replacement problem shows you how to use the shortest path approach to find the optimal planning of purchasing and maintainance of an equipment over multiple time periods. The key strategy is to use nodes to represent different quarters and then build valid arcs that connects these nodes to represent the duration of keeping the machine before replacing. For each valid arc,the associated cost can be computed by incorporating purchasing cost, cumulative maintainance cost and the final salvage value before replacing. The objectives of the problem are:\n",
        "\n",
        "* Identify optimal equipment replacment schedule over the five year period,\n",
        "* Minimize the total purchasing and maintainance cost while taking into consideration the salvage value, and\n",
        "* Ensure that the replacement schedule is valid, i.e., cannot replace the equipment less than one year and cannot keep the equipment more than three years.\n",
        "\n",
        "This modeling example is at the introductory level, where we assume that you know Python and that you have some knowledge of how to build mathematical optimization models."
      ]
    },
    {
      "cell_type": "markdown",
      "metadata": {
        "id": "62q-NwBMoi4c"
      },
      "source": [
        "---\n",
        "## Problem Description\n",
        "\n",
        "![picture](https://drive.google.com/uc?id=12shoDxA9pQcIVbEpIFBIiyzwpDpw4q4b)\n",
        "\n",
        "VanBuren Metals is a manufacturing company that uses many large machines to work on metals. These machines require frequent maintenance beacuse of wear and tear, and VanBuren finds that it is sometimes advantageous, from a cost standpoint, to replace machines rather than continue to maintain them. For one particular class of machines, the company has estimated the quarterly costs of maintenance, the salvage value from reselling an old machine, and the cost to purchase a new machine. \n",
        "\n",
        "The maintenance cost and the salvage value depend on the age of the current machine (at the beginning of the quarter). However, the maintenance costs, the salvage values, and the purchase cost do not depend on time. In other words, there is no inflation. \n",
        "\n",
        "* The purchase cost of a new machine is always \\$3,530.\n",
        "* The maintenance cost of a machine in its first quarter of use is \\$100.\n",
        "* For each succeeding quarter, the maintenance cost increases by \\$65. This reflects the fact that machines require more maintenance as they age.\n",
        "* The salvage value of a machine after one quarter of use is \\$1,530. After each succeeding quarter of use, the salvage value decreases by \\$110.\n",
        "\n",
        "VanBuren wants to devise a strategy for purchasing machines over the next five years. As a matter of policy, the ompany never sells a machines that is less than one year old, and it never keeps a machine that is more than three years old. Also, the machine in use at the beginning of the current quarter is brand new.\n",
        "\n",
        "This example shows how to use a shortest path representation to solve a problem is that not obvious to be a network flow problem."
      ]
    },
    {
      "cell_type": "markdown",
      "metadata": {
        "id": "MYpg58_8oi4e"
      },
      "source": [
        "## Model Formulation\n",
        "\n",
        "### Indices\n",
        "\n",
        "$i,j,k \\in \\{1..21\\}$: Index of nodes representing quarters.\n",
        "\n",
        "### Parameters\n",
        "\n",
        "$A$: Set of tuples ($i,j$) where keeping machine from quarter (node) $i$ to quarter (node) $j$ is feasible.\n",
        "\n",
        "$p$: Purchase cost of a new machine. [$p$=$3,530].\n",
        "\n",
        "$s_0$: Initial salvage value. [$s_0$=$1,530].\n",
        "\n",
        "$s_1$: Depreciation per quarter (loss in salvage value). [$s_1$=$110].\n",
        "\n",
        "$m_0$: Initial maintainance cost. [$m_0$=$100].\n",
        "\n",
        "$m_1$: Maginal increase in maintainance cost after each quarter. [$m_1$=$65].\n",
        "\n",
        "\n",
        "$c_{ij}$: Aggregate cost of keeping machine from quarter $i$ to quarter $j$, $(i,j) \\in A$. Note that we can directly compute $c_{ij}$ as\n",
        "\\begin{equation}\n",
        "c_{ij} = p+ \\sum_{k=0}^{j-i-1}(m_0+m_1*k) -(s_0-s_1*(j-i-1))\n",
        "\\end{equation}\n",
        "\n",
        "\n",
        "### Decision Variables\n",
        "\n",
        "$x_{ij}$: Whether to keep machine from quarter $i$ to quarter $j$, $(i,j) \\in A$.\n",
        "\n",
        "\n",
        "### Objective Function\n",
        "\n",
        "- **Cost**. We want to minimize the aggregate operating cost.\n",
        "\n",
        "\n",
        "\\begin{equation}\n",
        "\\text{Min}_{x_{ij}} \\quad \\sum_{(i,j) \\in A} c_{ij}*x_{ij}\n",
        "\\tag{0}\n",
        "\\end{equation}\n",
        "\n",
        "### Constraints\n",
        "\n",
        "\\begin{equation}\n",
        "\\sum_{i|(i,j) \\in A} x_{ij} - \\sum_{k|(j,k) \\in A} x_{jk} \\geq 1 \\quad \\forall j \\in \\{21\\} \\quad (\\text{planning horizaon up to quarter 21})\n",
        "\\tag{1}\n",
        "\\end{equation}\n",
        "\n",
        "\\begin{equation}\n",
        "\\sum_{j|(i,j) \\in A} x_{ij} - \\sum_{k|(k,i) \\in A} x_{ki} \\leq 1 \\quad \\forall i \\in \\{1\\} \\quad (\\text{start planning horizon in quarter 1})\n",
        "\\tag{2}\n",
        "\\end{equation}\n",
        "\n",
        "\\begin{equation}\n",
        "\\sum_{i|(i,j) \\in A} x_{ij} - \\sum_{k|(j,k) \\in A} x_{jk} =0 \\quad \\forall j \\in \\{5,...,20\\} \\quad (\\text{continual operation of machine})\n",
        "\\tag{3}\n",
        "\\end{equation}\n",
        "\n",
        "\\begin{equation}\n",
        "x_{ij} \\in \\{0,1\\} \\quad \\forall (i,j) \\in A \\quad (\\text{binary buying/selling decision})\n",
        "\\tag{4}\n",
        "\\end{equation}"
      ]
    },
    {
      "cell_type": "markdown",
      "metadata": {
        "id": "LrdbknV1oi4f"
      },
      "source": [
        "---\n",
        "\n",
        "## Python Implementation\n",
        "\n",
        "We now import the Gurobi Python Module and other Python libraries."
      ]
    },
    {
      "cell_type": "code",
      "execution_count": null,
      "metadata": {
        "id": "_xPuyCPtoi4f",
        "colab": {
          "base_uri": "https://localhost:8080/"
        },
        "outputId": "c87947ab-30aa-48ad-c075-7ec08dcdeaaf"
      },
      "outputs": [
        {
          "output_type": "stream",
          "name": "stdout",
          "text": [
            "Looking in indexes: https://pypi.org/simple, https://us-python.pkg.dev/colab-wheels/public/simple/\n",
            "Collecting gurobipy\n",
            "  Downloading gurobipy-9.5.2-cp37-cp37m-manylinux2014_x86_64.whl (11.5 MB)\n",
            "\u001b[K     |████████████████████████████████| 11.5 MB 5.4 MB/s \n",
            "\u001b[?25hInstalling collected packages: gurobipy\n",
            "Successfully installed gurobipy-9.5.2\n"
          ]
        }
      ],
      "source": [
        "%pip install gurobipy"
      ]
    },
    {
      "cell_type": "code",
      "execution_count": null,
      "metadata": {
        "id": "vZuT7rzcoi4g"
      },
      "outputs": [],
      "source": [
        "from itertools import product\n",
        "from math import sqrt, factorial\n",
        "import numpy as np\n",
        "import gurobipy as gp\n",
        "from gurobipy import GRB\n",
        "\n",
        "# tested with Gurobi v9.1.0 and Python 3.7.0"
      ]
    },
    {
      "cell_type": "markdown",
      "source": [
        "Set up the model and solve"
      ],
      "metadata": {
        "id": "nzcjnZRRBynN"
      }
    },
    {
      "cell_type": "code",
      "source": [
        "#####################################################\n",
        "#                    Model Formulation\n",
        "#####################################################\n",
        "\n",
        "m = gp.Model('equipment maintainance')\n",
        "\n",
        "# indices for companies and routes\n",
        "node = [*range(0,21)]\n",
        "start = [*range(0,1)]\n",
        "transit = [*range(1,20)]\n",
        "end = [*range(20,21)]\n",
        "\n",
        "#print(node)\n",
        "#print(start)\n",
        "#print(transit)\n",
        "#print(end)\n",
        "\n",
        "# various cost/price\n",
        "\n",
        "p = 3530\n",
        "s0 = 1530\n",
        "s1 = 110\n",
        "m0 = 100\n",
        "m1 = 65\n",
        "\n",
        "# build c_ij matrix\n",
        "\n",
        "c = [[0 for i in node] for j in node]\n",
        "\n",
        "# Valid set of tuples\n",
        "A = []\n",
        "for i in node:\n",
        "    for j in node:\n",
        "        if j-i >= 4 and j-i <= 11:\n",
        "            \n",
        "            mc = 0\n",
        "            for k in range(0,j-i):\n",
        "              mc += m0+m1*k\n",
        "\n",
        "            c[i][j] = p + mc - (s0-s1*(j-i-1))\n",
        "\n",
        "            tp = i,j\n",
        "            A.append(tp)\n",
        "\n",
        "print(np.matrix(c))\n",
        "\n",
        "# Valid set of tuples\n",
        "#A = []\n",
        "#for i in node:\n",
        "#    for j in node:\n",
        "#        if c[i][j] > 0:\n",
        "#            tp = i,j\n",
        "#            A.append(tp)\n",
        "\n",
        "# take a look at the set\n",
        "# print(np.matrix(A))\n",
        "\n",
        "# valid set of inbound routes for node j\n",
        "AI = [] \n",
        "k = 0\n",
        "for l in node:\n",
        "    A_temp = []\n",
        "    for i in node:\n",
        "        for j in node:\n",
        "            if c[i][j] > 0:\n",
        "                if j==k:\n",
        "                    tp = i,j\n",
        "                    A_temp.append(tp)\n",
        "    AI.append(A_temp) \n",
        "    k+=1               \n",
        "\n",
        "# take a look at a sample\n",
        "# print(np.matrix(AI[0]))\n",
        "\n",
        "# valid set of outbound routes for node j\n",
        "AO = [] \n",
        "k = 0\n",
        "for l in node:\n",
        "    A_temp = []\n",
        "    for i in node:\n",
        "        for j in node:\n",
        "            if c[i][j] > 0:\n",
        "                if i==k:\n",
        "                    tp = i,j\n",
        "                    A_temp.append(tp)\n",
        "    AO.append(A_temp) \n",
        "    k+=1               \n",
        "\n",
        "# take a look at a sample\n",
        "# print(np.matrix(AO[0]))\n",
        "\n",
        "# Build decision variables: where to assign company i to route j\n",
        "x = m.addVars(A, vtype=GRB.BINARY, name='Keep')\n",
        "    \n",
        "# Objective function: Minimize total payroll cost\n",
        "m.setObjective(gp.quicksum(c[i][j]*x[(i,j)] for i,j in A), GRB.MINIMIZE)\n",
        "    \n",
        "# Reach the fifth year (21 quarter)\n",
        "endConstrs = m.addConstrs((gp.quicksum(x[(i,j)] for i,j in AI[j]) - gp.quicksum(x[(j,k)] for j,k in AO[j]) >= 1 for j in end), \n",
        "                                      name='endConstrs')\n",
        "\n",
        "# Cannot exceed plant capacity\n",
        "startConstrs = m.addConstrs((gp.quicksum(x[(i,j)] for i,j in AO[i]) - gp.quicksum(x[(k,i)] for k,i in AI[i]) <= 1 for i in start), \n",
        "                                      name='startConstrs')\n",
        "\n",
        "# Blanacing for transit nodes\n",
        "transitConstrs = m.addConstrs((gp.quicksum(x[(i,j)] for i,j in AI[j]) - gp.quicksum(x[(j,k)] for j,k in AO[j]) == 0 for j in transit), \n",
        "                                      name='transitConstrs')\n",
        "\n",
        "# Run optimization engine\n",
        "m.optimize()"
      ],
      "metadata": {
        "id": "4fR9DtyUQ7k2",
        "colab": {
          "base_uri": "https://localhost:8080/"
        },
        "outputId": "486afb8d-6251-4f7c-9ac7-b4a2bbdc5916"
      },
      "execution_count": null,
      "outputs": [
        {
          "output_type": "stream",
          "name": "stdout",
          "text": [
            "Restricted license - for non-production use only - expires 2023-10-25\n",
            "[[   0    0    0    0 3120 3590 4125 4725 5390 6120 6915 7775    0    0\n",
            "     0    0    0    0    0    0    0]\n",
            " [   0    0    0    0    0 3120 3590 4125 4725 5390 6120 6915 7775    0\n",
            "     0    0    0    0    0    0    0]\n",
            " [   0    0    0    0    0    0 3120 3590 4125 4725 5390 6120 6915 7775\n",
            "     0    0    0    0    0    0    0]\n",
            " [   0    0    0    0    0    0    0 3120 3590 4125 4725 5390 6120 6915\n",
            "  7775    0    0    0    0    0    0]\n",
            " [   0    0    0    0    0    0    0    0 3120 3590 4125 4725 5390 6120\n",
            "  6915 7775    0    0    0    0    0]\n",
            " [   0    0    0    0    0    0    0    0    0 3120 3590 4125 4725 5390\n",
            "  6120 6915 7775    0    0    0    0]\n",
            " [   0    0    0    0    0    0    0    0    0    0 3120 3590 4125 4725\n",
            "  5390 6120 6915 7775    0    0    0]\n",
            " [   0    0    0    0    0    0    0    0    0    0    0 3120 3590 4125\n",
            "  4725 5390 6120 6915 7775    0    0]\n",
            " [   0    0    0    0    0    0    0    0    0    0    0    0 3120 3590\n",
            "  4125 4725 5390 6120 6915 7775    0]\n",
            " [   0    0    0    0    0    0    0    0    0    0    0    0    0 3120\n",
            "  3590 4125 4725 5390 6120 6915 7775]\n",
            " [   0    0    0    0    0    0    0    0    0    0    0    0    0    0\n",
            "  3120 3590 4125 4725 5390 6120 6915]\n",
            " [   0    0    0    0    0    0    0    0    0    0    0    0    0    0\n",
            "     0 3120 3590 4125 4725 5390 6120]\n",
            " [   0    0    0    0    0    0    0    0    0    0    0    0    0    0\n",
            "     0    0 3120 3590 4125 4725 5390]\n",
            " [   0    0    0    0    0    0    0    0    0    0    0    0    0    0\n",
            "     0    0    0 3120 3590 4125 4725]\n",
            " [   0    0    0    0    0    0    0    0    0    0    0    0    0    0\n",
            "     0    0    0    0 3120 3590 4125]\n",
            " [   0    0    0    0    0    0    0    0    0    0    0    0    0    0\n",
            "     0    0    0    0    0 3120 3590]\n",
            " [   0    0    0    0    0    0    0    0    0    0    0    0    0    0\n",
            "     0    0    0    0    0    0 3120]\n",
            " [   0    0    0    0    0    0    0    0    0    0    0    0    0    0\n",
            "     0    0    0    0    0    0    0]\n",
            " [   0    0    0    0    0    0    0    0    0    0    0    0    0    0\n",
            "     0    0    0    0    0    0    0]\n",
            " [   0    0    0    0    0    0    0    0    0    0    0    0    0    0\n",
            "     0    0    0    0    0    0    0]\n",
            " [   0    0    0    0    0    0    0    0    0    0    0    0    0    0\n",
            "     0    0    0    0    0    0    0]]\n",
            "Gurobi Optimizer version 9.5.2 build v9.5.2rc0 (linux64)\n",
            "Thread count: 1 physical cores, 2 logical processors, using up to 2 threads\n",
            "Optimize a model with 21 rows, 108 columns and 216 nonzeros\n",
            "Model fingerprint: 0xb5239027\n",
            "Variable types: 0 continuous, 108 integer (108 binary)\n",
            "Coefficient statistics:\n",
            "  Matrix range     [1e+00, 1e+00]\n",
            "  Objective range  [3e+03, 8e+03]\n",
            "  Bounds range     [1e+00, 1e+00]\n",
            "  RHS range        [1e+00, 1e+00]\n",
            "Found heuristic solution: objective 13895.000000\n",
            "Presolve removed 21 rows and 108 columns\n",
            "Presolve time: 0.00s\n",
            "Presolve: All rows and columns removed\n",
            "\n",
            "Explored 0 nodes (0 simplex iterations) in 0.02 seconds (0.00 work units)\n",
            "Thread count was 1 (of 2 available processors)\n",
            "\n",
            "Solution count 2: 13575 13895 \n",
            "\n",
            "Optimal solution found (tolerance 1.00e-04)\n",
            "Best objective 1.357500000000e+04, best bound 1.357500000000e+04, gap 0.0000%\n"
          ]
        }
      ]
    },
    {
      "cell_type": "markdown",
      "source": [
        "Take a look at the results of shipments"
      ],
      "metadata": {
        "id": "i5ggpCTbIMni"
      }
    },
    {
      "cell_type": "code",
      "source": [
        "#####################################################\n",
        "#         Shipment results\n",
        "#####################################################\n",
        "    \n",
        "print(f\"\\n\\n___Optimal shipment from plants to customers________\")\n",
        "t_cost = 0\n",
        "for i,j in A:\n",
        "    if x[(i,j)].x > 0:\n",
        "        if i<=0:\n",
        "          s_node_type = \"start\"\n",
        "        elif i<=19:\n",
        "          s_node_type = \"transit\"\n",
        "        else:\n",
        "          s_node_type = \"end\"\n",
        "        if j<=0:\n",
        "          d_node_type = \"start\"\n",
        "        elif j<=19:\n",
        "          d_node_type = \"transit\"\n",
        "        else:\n",
        "          d_node_type = \"end\"\n",
        "             \n",
        "        print(\"Keep machines from %s quarter %2d to %s quarter %2d\" % (s_node_type, i+1, d_node_type, j+1))\n",
        "        t_cost += x[(i,j)].x*c[i][j]\n",
        "\n",
        "print(\"The total cost of equipment maintainance over the five years is $%5d\" % (t_cost))\n",
        "            "
      ],
      "metadata": {
        "id": "8aNo8QaISobW",
        "colab": {
          "base_uri": "https://localhost:8080/"
        },
        "outputId": "31e70878-1364-4c34-9fed-d18003666611"
      },
      "execution_count": null,
      "outputs": [
        {
          "output_type": "stream",
          "name": "stdout",
          "text": [
            "\n",
            "\n",
            "___Optimal shipment from plants to customers________\n",
            "Keep machines from start quarter  1 to transit quarter  8\n",
            "Keep machines from transit quarter  8 to transit quarter 15\n",
            "Keep machines from transit quarter 15 to end quarter 21\n",
            "The total cost of equipment maintainance over the five years is $13575\n"
          ]
        }
      ]
    },
    {
      "cell_type": "markdown",
      "source": [
        "As we can see, all customer demands are satisfied with the utilization of warehouses. The plant capacity are not exceeded. Furthermore, the optimal solution uses transhipment strategy, for example, shipping from customer 6 to customer 7. "
      ],
      "metadata": {
        "id": "8OKSSFZsJCbV"
      }
    },
    {
      "cell_type": "markdown",
      "metadata": {
        "id": "uyx97WQIoi4k"
      },
      "source": [
        "---\n",
        "##  Conclusion\n",
        "\n",
        "In this example, we addressed the tomato shipping problem. We determined the optimal shipment  of tomatos from plants to customers: \n",
        "* Satisfy demand for each customer, \n",
        "* Minimize the total shipping cost,  \n",
        "* Ensure plant capacities are not exceeded, and\n",
        "* Utilize transhipment to reduce shipping cost.\n",
        "\n",
        "A special technique in the model formulation is sparse reprentation, where we significantly reduce the number of decision variables by restricting the set of decisions to be on the valid routes only. This benefit becomes more significant as problem size grows.\n",
        "\n",
        "This tomato shipment model can be used in many different settings to help companies make informed decisions about satisfying customer demands from a set of plants where there are transit stations allowing for transhipments.\n"
      ]
    },
    {
      "cell_type": "markdown",
      "metadata": {
        "id": "XiMLngKYoi4l"
      },
      "source": [
        "##  References\n",
        "[1] Sixty examples of business optimization models. https://ytyimin.github.io/tart-cherry/.\n",
        "\n",
        "[2] Gurobi python reference. https://www.gurobi.com/documentation/\n",
        "\n",
        "[3] This note book is developed by Yimin Wang. If you have any comments or suggestions, please contact yimin_wang@asu.edu"
      ]
    }
  ],
  "metadata": {
    "kernelspec": {
      "display_name": "Python 3",
      "language": "python",
      "name": "python3"
    },
    "language_info": {
      "codemirror_mode": {
        "name": "ipython",
        "version": 3
      },
      "file_extension": ".py",
      "mimetype": "text/x-python",
      "name": "python",
      "nbconvert_exporter": "python",
      "pygments_lexer": "ipython3",
      "version": "3.7.1"
    },
    "colab": {
      "provenance": [],
      "collapsed_sections": [],
      "include_colab_link": true
    }
  },
  "nbformat": 4,
  "nbformat_minor": 0
}
