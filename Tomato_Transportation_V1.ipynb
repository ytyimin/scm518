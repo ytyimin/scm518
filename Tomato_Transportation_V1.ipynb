{
  "cells": [
    {
      "cell_type": "markdown",
      "metadata": {
        "id": "view-in-github",
        "colab_type": "text"
      },
      "source": [
        "<a href=\"https://colab.research.google.com/github/ytyimin/scm518/blob/main/Tomato_Transportation_V1.ipynb\" target=\"_parent\"><img src=\"https://colab.research.google.com/assets/colab-badge.svg\" alt=\"Open In Colab\"/></a>"
      ]
    },
    {
      "cell_type": "markdown",
      "metadata": {
        "id": "SWWWN49eoi4Z"
      },
      "source": [
        "# Tomatoes Transportation Routes"
      ]
    },
    {
      "cell_type": "markdown",
      "metadata": {
        "id": "yTw30bfQoi4a"
      },
      "source": [
        "## Objective and Prerequisites\n",
        "\n",
        "This tomato transhipment problem shows you how to ship tomato products from multiple plants to multiple destinations via transfer stations, where shipments can be bi-directional among plants and destinations. The objectives of the transsioment problem are:\n",
        "\n",
        "* Meet demand while ensuring plant capacities are met,\n",
        "* Minimize the overall transshipment cost of satisfying all demands, and\n",
        "* Ensure that the shipments are valid, i.e., cannot transport along certain routes among plants and destinations.\n",
        "\n",
        "This modeling example is at the introductory level, where we assume that you know Python and that you have some knowledge of how to build mathematical optimization models."
      ]
    },
    {
      "cell_type": "markdown",
      "metadata": {
        "id": "62q-NwBMoi4c"
      },
      "source": [
        "---\n",
        "## Problem Description\n",
        "\n",
        "![picture](https://drive.google.com/uc?id=1xnG76mkx-M5MKYfqyCjjw7FfLzXz_oKC)\n",
        "\n",
        "The RedBrand Company produces a tomato product at three plants. This product can be shipped directly to the company’s two customers, or it can first be shipped to the company’s two warehouses and then to the customers. \n",
        "\n",
        "Nodes 1, 2, and 3 represent the plants (these are the origins, denoted by S for supplier), nodes 4 and 5 represent the warehouses (these are the transshipment points, denoted by T), and nodes 6 and 7 represent the customers (these are the destinations, denoted by D). Note that some shipments are allowed among plants, among warehouses, and among customers. Also, some arcs have arrows on both ends. This means that flow is allowed in either direction.\n",
        "\n",
        "The supply capacity for plants 1, 2, and 3 is 200, 300, and 100 tons, respectively. The dmand for customers 6 and 7 are 400 and 180 tons, respectively. \n",
        "\n",
        "The following table lists the shipping cost among different nodes. Note that not all nodes are connected, so a sparse representation is more desirable for model setup. \n",
        "\n",
        "| From / To |\t1\t    | 2\t    | 3 \t  | 4\t   | 5\t  | 6\t   | 7\t  |\n",
        "| ---     | ---   | ---   | ---   | ---  | ---  | ---  | ---  | \n",
        "|1\t      | -\t    | 5.0\t| 3.0\t| 5.0 | 5.0 | 20.0 | 20.0  | \n",
        "|2\t      | 9.0\t| -\t| 9.0\t    | 1.0 |\t1.0\t  | 8.0 | 15.0 |\t\n",
        "|3\t      | 0.4     |\t8.0\t|-\t    |1.0\t   |0.5\t    | 10.0 | 12.0 |\t\n",
        "|4\t      | -\t    | -\t    |-   |\t- | 1.2 |\t2.0\t   | 12.0 |\t\n",
        "|5 \t      | -\t| -\t|-\t    | 0.8 | -\t| 2.0 | 12.0\t  | \n",
        "|6\t      | -\t| -\t|-\t  | - | -\t|-\t   | 1.0\t| \n",
        "|7\t      | -\t| -\t|-\t  | - | -\t|7.0\t   | -\t| \n",
        "\n",
        "We also assume that at most 200 tons of the product can be shipped between any two nodes. This is the common arc capacity. RedBrand wants to determine a minimum-cost shipping schedule.\n",
        "\n",
        "\n",
        "We would like to find a most efficient shipment plan to minimize the cost of transporting tomatos to meet customer demands. This example shows how to use sparse representation to model the fact that not all nodes are connected."
      ]
    },
    {
      "cell_type": "markdown",
      "metadata": {
        "id": "MYpg58_8oi4e"
      },
      "source": [
        "## Model Formulation\n",
        "\n",
        "### Indices\n",
        "\n",
        "$i,j,k \\in \\{1..7\\}$: Index of seven different bus nodes.\n",
        "\n",
        "### Parameters\n",
        "\n",
        "$A$: Set of tuples ($i,j$) where shipmentment can be made from node $i$ to node $j$.\n",
        "\n",
        "$s_{i}$: Supply capacity of node $i$, $i\\in \\{1,2,3\\}$.\n",
        "\n",
        "$d_{j}$: Demand of customer $j$, $j\\in \\{6,7\\}$.\n",
        "\n",
        "$c_{ij}$: Unit shipping cost from node $i$ to node $j$, $(i,j) \\in A$.\n",
        "\n",
        "$T$: Common shippment capacity on any route. [$T$=200 tons].\n",
        "\n",
        "### Decision Variables\n",
        "\n",
        "$x_{ij}$: Tons of tomota to ship from node $i$ to node $j$, $(i,j) \\in A$.\n",
        "\n",
        "\n",
        "### Objective Function\n",
        "\n",
        "- **Cost**. We want to minimize the total operating cost.\n",
        "\n",
        "\n",
        "\\begin{equation}\n",
        "\\text{Min}_{x_{ij}} \\quad \\sum_{(i,j) \\in A} c_{ij}*x_{ij}\n",
        "\\tag{0}\n",
        "\\end{equation}\n",
        "\n",
        "### Constraints\n",
        "\n",
        "\\begin{equation}\n",
        "\\sum_{i|(i,j) \\in A} x_{ij} - \\sum_{k|(j,k) \\in A} x_{jk} \\geq d_j \\quad \\forall j \\in \\{6,7\\} \\quad (\\text{customer demand must be covered})\n",
        "\\tag{1}\n",
        "\\end{equation}\n",
        "\n",
        "\\begin{equation}\n",
        "\\sum_{j|(i,j) \\in A} x_{ij} - \\sum_{k|(k,i) \\in A} x_{ki} \\leq s_i \\quad \\forall i \\in \\{1,2,3\\} \\quad (\\text{cannot exceed plant capacity})\n",
        "\\tag{2}\n",
        "\\end{equation}\n",
        "\n",
        "\\begin{equation}\n",
        "\\sum_{i|(i,j) \\in A} x_{ij} - \\sum_{k|(j,k) \\in A} x_{jk} =0 \\quad \\forall j \\in \\{4,5\\} \\quad (\\text{flow balancing for transit nodes})\n",
        "\\tag{3}\n",
        "\\end{equation}\n",
        "\n",
        "\\begin{equation}\n",
        "x_{ij} \\leq k \\quad \\forall (i,j) \\in A \\quad (\\text{common shipment capacity})\n",
        "\\tag{4}\n",
        "\\end{equation}\n",
        "\n",
        "\\begin{equation}\n",
        "x_{ij} \\geq 0 \\quad \\forall (i,j) \\in A \\quad (\\text{non-negative shipping})\n",
        "\\tag{5}\n",
        "\\end{equation}"
      ]
    },
    {
      "cell_type": "markdown",
      "metadata": {
        "id": "LrdbknV1oi4f"
      },
      "source": [
        "---\n",
        "\n",
        "## Python Implementation\n",
        "\n",
        "We now import the Gurobi Python Module and other Python libraries."
      ]
    },
    {
      "cell_type": "code",
      "execution_count": null,
      "metadata": {
        "id": "_xPuyCPtoi4f",
        "colab": {
          "base_uri": "https://localhost:8080/"
        },
        "outputId": "7122d4d7-efd5-423f-e69d-792c1c09228f"
      },
      "outputs": [
        {
          "output_type": "stream",
          "name": "stdout",
          "text": [
            "Looking in indexes: https://pypi.org/simple, https://us-python.pkg.dev/colab-wheels/public/simple/\n",
            "Collecting gurobipy\n",
            "  Downloading gurobipy-9.5.2-cp37-cp37m-manylinux2014_x86_64.whl (11.5 MB)\n",
            "\u001b[K     |████████████████████████████████| 11.5 MB 4.0 MB/s \n",
            "\u001b[?25hInstalling collected packages: gurobipy\n",
            "Successfully installed gurobipy-9.5.2\n"
          ]
        }
      ],
      "source": [
        "%pip install gurobipy"
      ]
    },
    {
      "cell_type": "code",
      "execution_count": null,
      "metadata": {
        "id": "vZuT7rzcoi4g"
      },
      "outputs": [],
      "source": [
        "from itertools import product\n",
        "from math import sqrt, factorial\n",
        "import numpy as np\n",
        "import gurobipy as gp\n",
        "from gurobipy import GRB\n",
        "\n",
        "# tested with Gurobi v9.1.0 and Python 3.7.0"
      ]
    },
    {
      "cell_type": "markdown",
      "source": [
        "Set up the model and solve"
      ],
      "metadata": {
        "id": "nzcjnZRRBynN"
      }
    },
    {
      "cell_type": "code",
      "source": [
        "#####################################################\n",
        "#                    Model Formulation\n",
        "#####################################################\n",
        "\n",
        "m = gp.Model('tomato shipping')\n",
        "\n",
        "# indices for companies and routes\n",
        "plant = [*range(0,3)]\n",
        "customer = [*range(5,7)]\n",
        "transit = [*range(3,5)]\n",
        "node = [*range(0,7)]\n",
        "\n",
        "# print(plant)\n",
        "# print(customer)\n",
        "# print(transit)\n",
        "\n",
        "\n",
        "# shipping cost \n",
        "c = [[0.0,\t5.0,\t3.0,\t5.0,\t5.0,\t20.0,\t20.0],\n",
        "    [9.0,\t0.0,\t9.0,\t1.0,\t1.0,\t8.0,\t15.0],\n",
        "    [0.4,\t8.0,\t0.0,\t1.0,\t0.5,\t10.0,\t12.0],\n",
        "    [0.0,\t0.0,\t0.0,\t0.0,\t1.2,\t2.0,\t12.0],\n",
        "    [0.0,\t0.0,\t0.0,\t0.8,\t0.0,\t2.0,\t12.0],\n",
        "    [0.0,\t0.0,\t0.0,\t0.0,\t0.0,\t0.0,\t1.0],\n",
        "    [0.0,\t0.0,\t0.0,\t0.0,\t0.0,\t7.0,\t0.0]]\n",
        "\n",
        "d = [0.0, 0.0, 0.0, 0.0, 0.0, 400.0, 180.0]\n",
        "\n",
        "s = [200.0, 300.0, 100.0, 0.0, 0.0, 0.0, 0.0]\n",
        "\n",
        "T = 200\n",
        "\n",
        "# Valid set of tuples\n",
        "A = []\n",
        "for i in node:\n",
        "    for j in node:\n",
        "        if c[i][j] > 0:\n",
        "            tp = i,j\n",
        "            A.append(tp)\n",
        "\n",
        "# take a look at the set\n",
        "# print(np.matrix(A))\n",
        "\n",
        "# valid set of inbound routes for node j\n",
        "AI = [] \n",
        "k = 0\n",
        "for l in node:\n",
        "    A_temp = []\n",
        "    for i in node:\n",
        "        for j in node:\n",
        "            if c[i][j] > 0:\n",
        "                if j==k:\n",
        "                    tp = i,j\n",
        "                    A_temp.append(tp)\n",
        "    AI.append(A_temp) \n",
        "    k+=1               \n",
        "\n",
        "# take a look at a sample\n",
        "# print(np.matrix(AI[0]))\n",
        "\n",
        "# valid set of outbound routes for node j\n",
        "AO = [] \n",
        "k = 0\n",
        "for l in node:\n",
        "    A_temp = []\n",
        "    for i in node:\n",
        "        for j in node:\n",
        "            if c[i][j] > 0:\n",
        "                if i==k:\n",
        "                    tp = i,j\n",
        "                    A_temp.append(tp)\n",
        "    AO.append(A_temp) \n",
        "    k+=1               \n",
        "\n",
        "# take a look at a sample\n",
        "# print(np.matrix(AO[0]))\n",
        "\n",
        "# Build decision variables: where to assign company i to route j\n",
        "x = m.addVars(A, vtype=GRB.CONTINUOUS, name='Ship')\n",
        "    \n",
        "# Objective function: Minimize total payroll cost\n",
        "m.setObjective(gp.quicksum(c[i][j]*x[(i,j)] for i,j in A), GRB.MINIMIZE)\n",
        "    \n",
        "# Satisfy customer demand\n",
        "demandConstrs = m.addConstrs((gp.quicksum(x[(i,j)] for i,j in AI[j]) - gp.quicksum(x[(j,k)] for j,k in AO[j]) >= d[j] for j in customer), \n",
        "                                      name='demandConstrs')\n",
        "\n",
        "# Cannot exceed plant capacity\n",
        "supplyConstrs = m.addConstrs((gp.quicksum(x[(i,j)] for i,j in AO[i]) - gp.quicksum(x[(k,i)] for k,i in AI[i]) <= s[i] for i in plant), \n",
        "                                      name='supplyConstrs')\n",
        "\n",
        "# Blanacing for transit nodes\n",
        "transitConstrs = m.addConstrs((gp.quicksum(x[(i,j)] for i,j in AI[j]) - gp.quicksum(x[(j,k)] for j,k in AO[j]) == 0 for j in transit), \n",
        "                                      name='transitConstrs')\n",
        "\n",
        "# Shipment capacity constraint\n",
        "capacityConstrs = m.addConstrs((x[(i,j)] <= T for i,j in A), \n",
        "                                      name='capacityConstrs')\n",
        "\n",
        "# Run optimization engine\n",
        "m.optimize()"
      ],
      "metadata": {
        "id": "4fR9DtyUQ7k2",
        "colab": {
          "base_uri": "https://localhost:8080/"
        },
        "outputId": "65c87376-10ba-478b-8198-bd761abea835"
      },
      "execution_count": null,
      "outputs": [
        {
          "output_type": "stream",
          "name": "stdout",
          "text": [
            "Restricted license - for non-production use only - expires 2023-10-25\n",
            "Gurobi Optimizer version 9.5.2 build v9.5.2rc0 (linux64)\n",
            "Thread count: 1 physical cores, 2 logical processors, using up to 2 threads\n",
            "Optimize a model with 33 rows, 26 columns and 78 nonzeros\n",
            "Model fingerprint: 0x27e79db7\n",
            "Coefficient statistics:\n",
            "  Matrix range     [1e+00, 1e+00]\n",
            "  Objective range  [4e-01, 2e+01]\n",
            "  Bounds range     [0e+00, 0e+00]\n",
            "  RHS range        [1e+02, 4e+02]\n",
            "Presolve removed 26 rows and 0 columns\n",
            "Presolve time: 0.01s\n",
            "Presolved: 7 rows, 26 columns, 52 nonzeros\n",
            "\n",
            "Iteration    Objective       Primal Inf.    Dual Inf.      Time\n",
            "       0    0.0000000e+00   7.250000e+01   0.000000e+00      0s\n",
            "       7    3.2600000e+03   0.000000e+00   0.000000e+00      0s\n",
            "\n",
            "Solved in 7 iterations and 0.03 seconds (0.00 work units)\n",
            "Optimal objective  3.260000000e+03\n"
          ]
        }
      ]
    },
    {
      "cell_type": "markdown",
      "source": [
        "Take a look at the results of shipments"
      ],
      "metadata": {
        "id": "i5ggpCTbIMni"
      }
    },
    {
      "cell_type": "code",
      "source": [
        "#####################################################\n",
        "#         Shipment results\n",
        "#####################################################\n",
        "    \n",
        "print(f\"\\n\\n___Optimal shipment from plants to customers________\")\n",
        "t_cost = 0\n",
        "for i,j in A:\n",
        "    if x[(i,j)].x > 0:\n",
        "        if i<=2:\n",
        "          s_node_type = \"plant\"\n",
        "        elif i<=4:\n",
        "          s_node_type = \"warehouse\"\n",
        "        else:\n",
        "          s_node_type = \"customer\"\n",
        "        if j<=2:\n",
        "          d_node_type = \"plant\"\n",
        "        elif j<=4:\n",
        "          d_node_type = \"warehouse\"\n",
        "        else:\n",
        "          d_node_type = \"customer\"\n",
        "             \n",
        "        print(\"Shipping %4d tons from %s %2d to %s %2d\" % (x[(i,j)].x, s_node_type, i+1, d_node_type, j+1))\n",
        "        t_cost += x[(i,j)].x*c[i][j]\n",
        "\n",
        "print(\"The total cost of satisfying customer demand is $%5d\" % (t_cost))\n",
        "            "
      ],
      "metadata": {
        "id": "8aNo8QaISobW",
        "colab": {
          "base_uri": "https://localhost:8080/"
        },
        "outputId": "0e7be9a5-0735-41e9-9d5f-86b6b4b930c2"
      },
      "execution_count": null,
      "outputs": [
        {
          "output_type": "stream",
          "name": "stdout",
          "text": [
            "\n",
            "\n",
            "___Optimal shipment from plants to customers________\n",
            "Shipping  180 tons from plant  1 to plant  3\n",
            "Shipping  120 tons from plant  2 to warehouse  4\n",
            "Shipping  180 tons from plant  2 to customer  6\n",
            "Shipping   80 tons from plant  3 to warehouse  4\n",
            "Shipping  200 tons from plant  3 to warehouse  5\n",
            "Shipping  200 tons from warehouse  4 to customer  6\n",
            "Shipping  200 tons from warehouse  5 to customer  6\n",
            "Shipping  180 tons from customer  6 to customer  7\n",
            "The total cost of satisfying customer demand is $ 3260\n"
          ]
        }
      ]
    },
    {
      "cell_type": "markdown",
      "source": [
        "As we can see, all customer demands are satisfied with the utilization of warehouses. The plant capacity are not exceeded. Furthermore, the optimal solution uses transhipment strategy, for example, shipping from customer 6 to customer 7. "
      ],
      "metadata": {
        "id": "8OKSSFZsJCbV"
      }
    },
    {
      "cell_type": "markdown",
      "metadata": {
        "id": "uyx97WQIoi4k"
      },
      "source": [
        "---\n",
        "##  Conclusion\n",
        "\n",
        "In this example, we addressed the tomato shipping problem. We determined the optimal shipment  of tomatos from plants to customers: \n",
        "* Satisfy demand for each customer, \n",
        "* Minimize the total shipping cost,  \n",
        "* Ensure plant capacities are not exceeded, and\n",
        "* Utilize transhipment to reduce shipping cost.\n",
        "\n",
        "A special technique in the model formulation is sparse reprentation, where we significantly reduce the number of decision variables by restricting the set of decisions to be on the valid routes only. This benefit becomes more significant as problem size grows.\n",
        "\n",
        "This tomato shipment model can be used in many different settings to help companies make informed decisions about satisfying customer demands from a set of plants where there are transit stations allowing for transhipments.\n"
      ]
    },
    {
      "cell_type": "markdown",
      "metadata": {
        "id": "XiMLngKYoi4l"
      },
      "source": [
        "##  References\n",
        "[1] Sixty examples of business optimization models. https://ytyimin.github.io/tart-cherry/.\n",
        "\n",
        "[2] Gurobi python reference. https://www.gurobi.com/documentation/\n",
        "\n",
        "[3] This notebook is developed by Yimin Wang. If you have any comments or suggestions please contact yimin_wang@asu.edu"
      ]
    }
  ],
  "metadata": {
    "kernelspec": {
      "display_name": "Python 3",
      "language": "python",
      "name": "python3"
    },
    "language_info": {
      "codemirror_mode": {
        "name": "ipython",
        "version": 3
      },
      "file_extension": ".py",
      "mimetype": "text/x-python",
      "name": "python",
      "nbconvert_exporter": "python",
      "pygments_lexer": "ipython3",
      "version": "3.7.1"
    },
    "colab": {
      "provenance": [],
      "collapsed_sections": [],
      "include_colab_link": true
    }
  },
  "nbformat": 4,
  "nbformat_minor": 0
}
