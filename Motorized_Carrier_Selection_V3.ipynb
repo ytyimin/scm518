{
  "cells": [
    {
      "cell_type": "markdown",
      "metadata": {
        "id": "view-in-github",
        "colab_type": "text"
      },
      "source": [
        "<a href=\"https://colab.research.google.com/github/ytyimin/scm518/blob/main/Motorized_Carrier_Selection_V3.ipynb\" target=\"_parent\"><img src=\"https://colab.research.google.com/assets/colab-badge.svg\" alt=\"Open In Colab\"/></a>"
      ]
    },
    {
      "cell_type": "markdown",
      "metadata": {
        "id": "SWWWN49eoi4Z"
      },
      "source": [
        "# Motorized Carrier Selection at Westvaco"
      ]
    },
    {
      "cell_type": "markdown",
      "metadata": {
        "id": "yTw30bfQoi4a"
      },
      "source": [
        "## Objective and Prerequisites\n",
        "\n",
        "This carrier assignment problem shows you how to determine the optimal assignment of carrier, while minimizing the overall cost. The objectives of the assignment problem are:\n",
        "\n",
        "* Minimize the overall cost assignment as trucks,\n",
        "* Make sure the number of trips are satisified, and\n",
        "* Ensure that the assignments are valid, i.e., cannot assign a carrier to a route if the route does not exist.\n"
      ]
    },
    {
      "cell_type": "markdown",
      "metadata": {
        "id": "62q-NwBMoi4c"
      },
      "source": [
        "---\n",
        "## Problem Description\n",
        "\n",
        "![picture](https://drive.google.com/uc?id=1gEj38xWby10LrlDk5DDZFPuvExt789JK)\n",
        "\n",
        "Table below contains a scaled-down version of a typical distribution\n",
        "problem faced by a transportation planner at Westvaco’s paper mill in Wickliffe, Kentucky. \n",
        "\n",
        "The following table lists cost per unit mile to destination. Note that not all destinations are not travelled by all carriers, so a sparse representation is more desirable for model setup. \n",
        "\n",
        "\t\n",
        "| Destination / Carrier|\tABCT    | IRST    | LAST\t  | MRST   | NEST  | PSST\t | \n",
        "| ---     | ---   | ---   | ---   | ---  | ---  | ---  | \n",
        "|Atlanta      | -\t    | 0.88\t| 1.15| 0.87 | 0.95 | 1.05 | \n",
        "|Everett      | -\t| 1.18\t| 1.27    | 1.39 |\t1.35  | 1.28 | \t\n",
        "|Ephrata      | -     |\t3.42\t|1.73\t    |1.71   |1.82\t    | 2.0 | \n",
        "|Riverview\t      | 0.79    | 1.01   |1.25   |\t0.96| 0.95 |\t1.11\t   |\n",
        "|Carson\t      | -\t| 0.80\t|0.87\t    | -| 1.0\t| -|  \n",
        "|Chamblee      | -\t| 1.23\t|1.61  | 1.22 | 1.33\t|1.47   |  \n",
        "|Roseville      | 1.24| 1.13\t|1.89\t  | 1.32| 1.41\t|1.41\t   |  \n",
        "|Hanover      | -\t| 4.78\t|2.23  | 2.39 | 2.26|2.57\t   | \n",
        "|Sparks    | -\t| 1.45\t|-\t  | 1.20 | -\t|-   |  \n",
        "|Parsippany      | -\t| 1.26|1.36\t  | 1.39 | 1.03\t|1.76\t   |  \n",
        "|Effingham     | 0.87\t| 0.87\t|1.25\t  | 0.87 | 0.90\t|1.31\t   | \n",
        "|Kearny     | -\t| 2.01\t|1.54\t  | 1.53 | 1.28\t|1.95   |\n",
        "\n",
        "The below table provides the total miles travelled for each trip, Number of trips required and stops in the trip\n",
        "\n",
        "| Destination |\tTrips   | Stops    | Miles\t  | \n",
        "| ---     | ---   | ---   | ---   | \n",
        "|Atlanta      | 4    |0\t| 612| \n",
        "|Everett      | 1\t| 3\t| 612    |\n",
        "|Ephrata      | 3     |\t0\t|190\t    | \n",
        "|Riverview\t      | 5  | 0   |383   |\n",
        "|Carson\t      | 1\t| 2\t|3063   |  \n",
        "|Chamblee      | 1\t| 0\t|429 |   \n",
        "|Roseville      | 1| 3\t|600  | \n",
        "|Hanover      | 1\t| 0\t|136 |\n",
        "|Sparks    | 2\t| 0\t|2439\t  |  \n",
        "|Parsippany      | 1\t| 1|355\t  |   \n",
        "|Effingham     | 5\t| 0\t|570  | \n",
        "|Kearny     | 7\t| 0\t|324\t  | \n",
        "\n",
        "In addition, the following table shows the minimum per truck charge as well as stop-off charge.\n",
        "\n",
        "| Rates / Carrier|\tABCT    | IRST    | LAST\t  | MRST   | NEST  | PSST\t | \n",
        "| ---     | ---   | ---   | ---   | ---  | ---  | ---  | \n",
        "|Min charge per truckload: |350\t|400\t|350\t|300\t|350\t|300      | \n",
        "|Stop-off charge:      |50\t|75|\t50|\t35|\t50|\t50\t|\n",
        "\n",
        "Westvaco wants to determine a minimum-cost shipping plan.\n",
        "We would like to find a most efficient shipment plan to minimize overall cost."
      ]
    },
    {
      "cell_type": "markdown",
      "metadata": {
        "id": "MYpg58_8oi4e"
      },
      "source": [
        "## Model Formulation\n",
        "\n",
        "---\n",
        "\n",
        "\n",
        "\n",
        "### Indices\n",
        "\n",
        "$i \\in \\{1..12\\}$: Index to represent twelve different destinations\n",
        "\n",
        "$j \\in \\{1..6\\}$: Index to represent six different carriers\n",
        "\n",
        "### Parameters\n",
        "\n",
        "$A$: Set of tuples ($i,j$) where shipment can be made from destination $i$ using carrier $j$.\n",
        "\n",
        "$s_{i}$: Stops per destination $i$\n",
        "\n",
        "$t_{i}$: Total trips per destination $i$\n",
        "\n",
        "$c_{ij}$: Unit shipping cost per mile from destination $i$ using carrier $j$\n",
        "\n",
        "$m_{i}$: Total miles per destination $i$\n",
        "\n",
        "$b_{j}$: Minimum charges per carrier $j$\n",
        "\n",
        "$o_{j}$: Stop-off charges per carrier $j$\n",
        "\n",
        "$k_{j}$: Commitment per carrier $j$\n",
        "\n",
        "$p_{j}$: Number of pulls per carrier $j$\n",
        "\n",
        "### Calculated Parameter\n",
        "$r_{ij}$: Cost of each trip including miles, stop-off, and minimum charges for destination $i$ using carrier $j$\n",
        "\n",
        "$r_{ij}= {max}(c_{ij}* m_{i} + o_{j}*s_{i},b_{j})$, $\\forall (i,j) \\in A$ \n",
        "\n",
        "### Decision Variables\n",
        "\n",
        "$x_{ij}$: Number of trips for destination $i$ using carrier $j$, $(i,j) \\in A$.\n",
        "\n",
        "\n",
        "### Objective Function\n",
        "\n",
        "- **Cost**. We want to minimize the total cost.\n",
        "\n",
        "\n",
        "\\begin{equation}\n",
        "\\text{Min}_{x_{ij}} \\quad \\sum_{(i,j) \\in A} r_{ij}*x_{ij}\n",
        "\\tag{0}\n",
        "\\end{equation}\n",
        "\n",
        "### Constraints\n",
        "\n",
        "\\begin{equation}\n",
        "\\sum_{j|(i,j) \\in A} x_{ij} \\geq t_{i} \\quad \\forall i \\in \\{1...12\\} \\quad (\\text{Trips must be completed})\n",
        "\\tag{1}\n",
        "\\end{equation}\n",
        "\n",
        "\\begin{equation}\n",
        "\\sum_{i|(i,j) \\in A} x_{ij} \\geq k_{j} \\quad \\forall j \\in \\{1..6\\} \\quad (\\text{commitment must be satisifed})\n",
        "\\tag{2}\n",
        "\\end{equation}\n",
        "\n",
        "\\begin{equation}\n",
        "\\sum_{i|(i,j) \\in A} x_{ij} \\leq p_{j} \\quad \\forall j \\in \\{1..6\\} \\quad (\\text{must not exceed available pulls})\n",
        "\\tag{3}\n",
        "\\end{equation}\n",
        "\n",
        "\\begin{equation}\n",
        "x_{ij} \\in Integer^+ \\quad \\forall (i,j) \\in A \\quad (\\text{assignment must be integer values})\n",
        "\\tag{4}\n",
        "\\end{equation}\n",
        "\n"
      ]
    },
    {
      "cell_type": "markdown",
      "metadata": {
        "id": "LrdbknV1oi4f"
      },
      "source": [
        "---\n",
        "\n",
        "## Python Implementation\n",
        "\n",
        "We now import the Gurobi Python Module and other Python libraries."
      ]
    },
    {
      "cell_type": "code",
      "execution_count": null,
      "metadata": {
        "id": "_xPuyCPtoi4f",
        "colab": {
          "base_uri": "https://localhost:8080/"
        },
        "outputId": "4405dbe8-39b6-4e66-a07b-ab89f9fc7d3d"
      },
      "outputs": [
        {
          "output_type": "stream",
          "name": "stdout",
          "text": [
            "Looking in indexes: https://pypi.org/simple, https://us-python.pkg.dev/colab-wheels/public/simple/\n",
            "Requirement already satisfied: gurobipy in /usr/local/lib/python3.7/dist-packages (9.5.2)\n"
          ]
        }
      ],
      "source": [
        "%pip install gurobipy"
      ]
    },
    {
      "cell_type": "code",
      "execution_count": null,
      "metadata": {
        "id": "vZuT7rzcoi4g"
      },
      "outputs": [],
      "source": [
        "from itertools import product\n",
        "from math import sqrt, factorial\n",
        "import numpy as np\n",
        "import pandas as pd\n",
        "import gurobipy as gp\n",
        "from gurobipy import GRB\n",
        "\n",
        "# tested with Gurobi v9.1.0 and Python 3.7.0"
      ]
    },
    {
      "cell_type": "markdown",
      "source": [
        "Set up the inputs"
      ],
      "metadata": {
        "id": "nzcjnZRRBynN"
      }
    },
    {
      "cell_type": "code",
      "source": [
        "#####################################################\n",
        "#                    Model Formulation\n",
        "#####################################################\n",
        "\n",
        "m = gp.Model('carrier selection')\n",
        "\n",
        "destination = [*range(0,12)]\n",
        "carrier = [*range(0,6)]\n",
        "\n",
        "destination_label = ['Atlanta','Everett','Ephrata','Riverview','Carson','Chamblee','Roseville','Hanover','Sparks','Parsippany','Effingham','Kearny']\n",
        "carrier_label = ['ABCT','IRST','LAST','MRST','NEST','PSST']\n",
        "\n",
        "# number of stop-offs per destination\n",
        "s = [0,3,0,0,2,0,3,0,0,1,0,0]\n",
        "\n",
        "# number of trips required per destination\n",
        "t = [4,1,3,5,1,1,1,1,2,1,5,7]\n",
        "\n",
        "# distance in milage required per destination\n",
        "d = [612,612,190,383,3063,429,600,136,2439,355,570,324]\n",
        "\n",
        "# minimum charge per carrier\n",
        "b = [350,400,350,300,350,300]\n",
        "\n",
        "# stop-off charg per carrier\n",
        "o = [50,75,50,35,50,50]\n",
        "\n",
        "# available pulls per carrier\n",
        "p = [4,8,7,7,3,4]\n",
        "\n",
        "# committed pulls per carrier\n",
        "k = [1,7,6,0,0,4]\n",
        "\n",
        "# unit shipping cost per mile for per destination per carrrier\n",
        "c = [[0.0,0.88,\t1.15,\t0.87,\t0.95,\t1.05],\n",
        "    [0.0,\t1.18,\t1.27,\t1.39,\t1.35,\t1.28],\n",
        "    [0.0,\t3.42,\t1.73,\t1.71,\t1.82,\t2.0],\n",
        "    [0.79,\t1.01,\t1.25,\t0.96,\t0.95,\t1.11],\n",
        "    [0.0,\t0.80,\t0.87,\t0.0,\t1.0,\t0.0],\n",
        "    [0.0,\t1.23,\t1.61,\t1.22,\t1.33,\t1.47],\n",
        "    [1.24,\t1.13,\t1.89,\t1.32,\t1.41,\t1.41],\n",
        "    [0.0,\t4.78,\t2.23,\t2.39,\t2.26,\t2.57],\n",
        "    [0.0,\t1.45,\t0.0,\t1.20,\t0.0,\t0.0],\n",
        "    [0.0,\t1.62,\t1.36,\t1.39,\t1.03,\t1.76],\n",
        "    [0.87,\t0.87,\t1.25,\t0.87,\t0.90,\t1.31],\n",
        "    [0.0,\t2.01,\t1.54,\t1.53,\t1.28,\t1.95]]\n",
        "\n"
      ],
      "metadata": {
        "id": "dF93AcQwk1vy"
      },
      "execution_count": null,
      "outputs": []
    },
    {
      "cell_type": "markdown",
      "source": [
        "Compute actual charge matrix as well as the set of valid tuples"
      ],
      "metadata": {
        "id": "AV3AwvM84HWx"
      }
    },
    {
      "cell_type": "code",
      "source": [
        "# Computing r\n",
        "\n",
        "# initialize an empty matrix\n",
        "r = [[0 for j in carrier] for i in destination]\n",
        "\n",
        "# Valid set of tuples\n",
        "A = []\n",
        "for i in destination:\n",
        "    for j in carrier:\n",
        "        # if carrier does serve destination\n",
        "        if c[i][j] > 0:\n",
        "            # compute actual charge, taking into account minimum charge\n",
        "            r[i][j] = max(d[i]*c[i][j] + o[j]*s[i],b[j])\n",
        "\n",
        "            # build valid set of tuples\n",
        "            tp = i,j\n",
        "            A.append(tp)\n",
        "\n",
        "print(np.matrix(r))    \n",
        "\n",
        "# valid set of routes that can be covered by each carrier (denote as j)\n",
        "AJ = [] \n",
        "n = 0\n",
        "for l in carrier:\n",
        "    A_temp = []\n",
        "    for i in destination:\n",
        "        for j in carrier:\n",
        "            if r[i][j] > 0:\n",
        "                if j==n:\n",
        "                    tp = i,j\n",
        "                    A_temp.append(tp)\n",
        "    AJ.append(A_temp) \n",
        "    n+=1               \n",
        "\n",
        "#print(np.matrix(AJ[0]))\n",
        "\n",
        "# valid set of carriers that can cover each destination (denote as i)\n",
        "\n",
        "AI = [] \n",
        "for n in range(len(destination)):\n",
        "    A_temp = [(i,j) for i in destination for j in carrier if r[i][j] > 0 if i==n]\n",
        "    AI.append(A_temp)\n",
        "\n",
        "#print(np.matrix(AI[0]))\n"
      ],
      "metadata": {
        "colab": {
          "base_uri": "https://localhost:8080/"
        },
        "id": "wKzniArbxXj2",
        "outputId": "e2d152f3-e5bc-4cca-f253-ffa3688fc388"
      },
      "execution_count": null,
      "outputs": [
        {
          "output_type": "stream",
          "name": "stdout",
          "text": [
            "[[   0.    538.56  703.8   532.44  581.4   642.6 ]\n",
            " [   0.    947.16  927.24  955.68  976.2   933.36]\n",
            " [   0.    649.8   350.    324.9   350.    380.  ]\n",
            " [ 350.    400.    478.75  367.68  363.85  425.13]\n",
            " [   0.   2600.4  2764.81    0.   3163.      0.  ]\n",
            " [   0.    527.67  690.69  523.38  570.57  630.63]\n",
            " [ 894.    903.   1284.    897.    996.    996.  ]\n",
            " [   0.    650.08  350.    325.04  350.    349.52]\n",
            " [   0.   3536.55    0.   2926.8     0.      0.  ]\n",
            " [   0.    650.1   532.8   528.45  415.65  674.8 ]\n",
            " [ 495.9   495.9   712.5   495.9   513.    746.7 ]\n",
            " [   0.    651.24  498.96  495.72  414.72  631.8 ]]\n"
          ]
        }
      ]
    },
    {
      "cell_type": "markdown",
      "source": [
        "Setup decisions, objective, and constraints"
      ],
      "metadata": {
        "id": "3kjqP68u4RyN"
      }
    },
    {
      "cell_type": "code",
      "source": [
        "# Build decision variables: whether to assign destination i to carrier j\n",
        "x = m.addVars(A, vtype=GRB.CONTINUOUS, name='Assign')"
      ],
      "metadata": {
        "id": "fImti2AV73Jt"
      },
      "execution_count": null,
      "outputs": []
    },
    {
      "cell_type": "code",
      "source": [
        "# Objective function: Minimize total cost\n",
        "m.setObjective(gp.quicksum(r[i][j]*x[(i,j)] for i,j in A), GRB.MINIMIZE)"
      ],
      "metadata": {
        "id": "e04vv__b8EIR"
      },
      "execution_count": null,
      "outputs": []
    },
    {
      "cell_type": "code",
      "source": [
        "#Constraints\n",
        "\n",
        "# Commitment Constraints\n",
        "ComConstrs = m.addConstrs((gp.quicksum(x[(i,j)] for i,j in AJ[j]) >= k[j] for j in carrier), \n",
        "                                      name='CommitmentConstrs')\n",
        "\n",
        "# Available Pull Constraints\n",
        "PulConstrs = m.addConstrs((gp.quicksum(x[(i,j)] for i,j in AJ[j]) <= p[j] for j in carrier), \n",
        "                                      name='PullConstrs')\n",
        "\n",
        "#Trip Constraints\n",
        "TriConstrs = m.addConstrs((gp.quicksum(x[(i,j)] for i,j in AI[i]) >= t[i] for i in destination),\n",
        "                                      name='TripConstrs')"
      ],
      "metadata": {
        "id": "_nlvX4Il8Ohe"
      },
      "execution_count": null,
      "outputs": []
    },
    {
      "cell_type": "markdown",
      "source": [
        "Solve the model"
      ],
      "metadata": {
        "id": "hLWgN1XK4WAo"
      }
    },
    {
      "cell_type": "code",
      "source": [
        "# Run optimization engine\n",
        "m.optimize()"
      ],
      "metadata": {
        "colab": {
          "base_uri": "https://localhost:8080/"
        },
        "id": "ATwVQP0aDRIf",
        "outputId": "d624c7f1-16c4-403f-b625-05d8b873bf17"
      },
      "execution_count": null,
      "outputs": [
        {
          "output_type": "stream",
          "name": "stdout",
          "text": [
            "Gurobi Optimizer version 9.5.2 build v9.5.2rc0 (linux64)\n",
            "Thread count: 1 physical cores, 2 logical processors, using up to 2 threads\n",
            "Optimize a model with 24 rows, 58 columns and 174 nonzeros\n",
            "Model fingerprint: 0x86c2a906\n",
            "Coefficient statistics:\n",
            "  Matrix range     [1e+00, 1e+00]\n",
            "  Objective range  [3e+02, 4e+03]\n",
            "  Bounds range     [0e+00, 0e+00]\n",
            "  RHS range        [1e+00, 8e+00]\n",
            "Presolve removed 6 rows and 0 columns\n",
            "Presolve time: 0.02s\n",
            "Presolved: 18 rows, 61 columns, 119 nonzeros\n",
            "\n",
            "Iteration    Objective       Primal Inf.    Dual Inf.      Time\n",
            "       0    0.0000000e+00   2.500000e+01   0.000000e+00      0s\n",
            "      24    2.2394380e+04   0.000000e+00   0.000000e+00      0s\n",
            "\n",
            "Solved in 24 iterations and 0.03 seconds (0.00 work units)\n",
            "Optimal objective  2.239438000e+04\n"
          ]
        }
      ]
    },
    {
      "cell_type": "markdown",
      "source": [
        "Examine outputs"
      ],
      "metadata": {
        "id": "I-fYhYVE4Ynh"
      }
    },
    {
      "cell_type": "code",
      "source": [
        "# check the optimal cost\n",
        "\n",
        "print(\"The total cost for the carrier selection would be $\",m.ObjVal)"
      ],
      "metadata": {
        "colab": {
          "base_uri": "https://localhost:8080/"
        },
        "id": "_4zHdHMXQQgQ",
        "outputId": "509742f0-a61b-46fb-a6f3-0d8f2a4e4777"
      },
      "execution_count": null,
      "outputs": [
        {
          "output_type": "stream",
          "name": "stdout",
          "text": [
            "The total cost for the carrier selection would be $ 22394.38\n"
          ]
        }
      ]
    },
    {
      "cell_type": "code",
      "source": [
        "# print optimal assignment by destinations\n",
        "\n",
        "print(\"\\033[1m Optimal assignment by destinations\")\n",
        "print(\"------------------------------------------\\n\")\n",
        "# loop through all destinations\n",
        "for i in destination:\n",
        "  print(\"\\033[1m\",destination_label[i],\"\\033[0m (requires\",t[i],\"trips): \\n\", end=\"    \")\n",
        "\n",
        "  # check whether a carrier serves the destination\n",
        "  for j in carrier:\n",
        "    \n",
        "    # if carrier j serves destination i\n",
        "    if (i,j) in A and abs(x[(i,j)].x) > 1e-6:\n",
        "      print(carrier_label[j], \"does\", x[i,j].x, \"trips\", end=\", \")\n",
        "  print(\"\\n\")  \n"
      ],
      "metadata": {
        "colab": {
          "base_uri": "https://localhost:8080/"
        },
        "id": "3vd_Uq4R4fkP",
        "outputId": "3a33bc2c-25ac-4a10-c233-5dc627e6d804"
      },
      "execution_count": null,
      "outputs": [
        {
          "output_type": "stream",
          "name": "stdout",
          "text": [
            "\u001b[1m Optimal assignment by destinations\n",
            "------------------------------------------\n",
            "\n",
            "\u001b[1m Atlanta \u001b[0m (requires 4 trips): \n",
            "    MRST does 4.0 trips, \n",
            "\n",
            "\u001b[1m Everett \u001b[0m (requires 1 trips): \n",
            "    PSST does 1.0 trips, \n",
            "\n",
            "\u001b[1m Ephrata \u001b[0m (requires 3 trips): \n",
            "    LAST does 1.0 trips, PSST does 2.0 trips, \n",
            "\n",
            "\u001b[1m Riverview \u001b[0m (requires 5 trips): \n",
            "    ABCT does 4.0 trips, MRST does 1.0 trips, \n",
            "\n",
            "\u001b[1m Carson \u001b[0m (requires 1 trips): \n",
            "    IRST does 1.0 trips, \n",
            "\n",
            "\u001b[1m Chamblee \u001b[0m (requires 1 trips): \n",
            "    IRST does 1.0 trips, \n",
            "\n",
            "\u001b[1m Roseville \u001b[0m (requires 1 trips): \n",
            "    IRST does 1.0 trips, \n",
            "\n",
            "\u001b[1m Hanover \u001b[0m (requires 1 trips): \n",
            "    PSST does 1.0 trips, \n",
            "\n",
            "\u001b[1m Sparks \u001b[0m (requires 2 trips): \n",
            "    MRST does 2.0 trips, \n",
            "\n",
            "\u001b[1m Parsippany \u001b[0m (requires 1 trips): \n",
            "    NEST does 1.0 trips, \n",
            "\n",
            "\u001b[1m Effingham \u001b[0m (requires 5 trips): \n",
            "    IRST does 5.0 trips, \n",
            "\n",
            "\u001b[1m Kearny \u001b[0m (requires 7 trips): \n",
            "    LAST does 5.0 trips, NEST does 2.0 trips, \n",
            "\n"
          ]
        }
      ]
    },
    {
      "cell_type": "code",
      "source": [
        "# print optimal assignment by carriers\n",
        "\n",
        "print(\"\\033[1m Optimal assignment by carriers\")\n",
        "print(\"------------------------------------------\\n\")\n",
        "# loop through all carriers\n",
        "for j in carrier:\n",
        "  print(\"\\033[1m\",carrier_label[j],\"\\033[0m (\",k[j],\"committed and\",p[j],\"available pulls): \\n Serves \", end=\"\")\n",
        "\n",
        "  # check whether a carrier serves the destination\n",
        "  sum_trip = 0\n",
        "  for i in destination:\n",
        "    \n",
        "    # if carrier j serves destination i\n",
        "    if (i,j) in A and abs(x[(i,j)].x) > 1e-6:\n",
        "      print(x[i,j].x, \"trips to\", destination_label[i], end=\", \")\n",
        "      sum_trip+=x[i,j].x\n",
        "  print(\"\\n Total:\",sum_trip,\"trips\\n\")  \n"
      ],
      "metadata": {
        "colab": {
          "base_uri": "https://localhost:8080/"
        },
        "id": "ELBcxxGr_g3P",
        "outputId": "ddcd7032-5a79-457e-f3a7-896278b5e8ba"
      },
      "execution_count": null,
      "outputs": [
        {
          "output_type": "stream",
          "name": "stdout",
          "text": [
            "\u001b[1m Optimal assignment by carriers\n",
            "------------------------------------------\n",
            "\n",
            "\u001b[1m ABCT \u001b[0m ( 1 committed and 4 available pulls): \n",
            " Serves 4.0 trips to Riverview, \n",
            " Total: 4.0 trips\n",
            "\n",
            "\u001b[1m IRST \u001b[0m ( 7 committed and 8 available pulls): \n",
            " Serves 1.0 trips to Carson, 1.0 trips to Chamblee, 1.0 trips to Roseville, 5.0 trips to Effingham, \n",
            " Total: 8.0 trips\n",
            "\n",
            "\u001b[1m LAST \u001b[0m ( 6 committed and 7 available pulls): \n",
            " Serves 1.0 trips to Ephrata, 5.0 trips to Kearny, \n",
            " Total: 6.0 trips\n",
            "\n",
            "\u001b[1m MRST \u001b[0m ( 0 committed and 7 available pulls): \n",
            " Serves 4.0 trips to Atlanta, 1.0 trips to Riverview, 2.0 trips to Sparks, \n",
            " Total: 7.0 trips\n",
            "\n",
            "\u001b[1m NEST \u001b[0m ( 0 committed and 3 available pulls): \n",
            " Serves 1.0 trips to Parsippany, 2.0 trips to Kearny, \n",
            " Total: 3.0 trips\n",
            "\n",
            "\u001b[1m PSST \u001b[0m ( 4 committed and 4 available pulls): \n",
            " Serves 1.0 trips to Everett, 2.0 trips to Ephrata, 1.0 trips to Hanover, \n",
            " Total: 4.0 trips\n",
            "\n"
          ]
        }
      ]
    },
    {
      "cell_type": "markdown",
      "source": [
        "#Conclusion\n",
        "\n",
        "The least cost assignment of truck loads to carriers that meets the necessary requirements is found through the above integer programming model. The minimum cost is $22,394. \n",
        "\n",
        "A key take away of the above example is that the minimum charges can be pre-processed in the input section, so that the model works directly with the correct charges with minimum charge already incorprated. Further, since not every carrier will serve all the routes, we use a sparse representation, i.e., a set of valid tuples of carrier-destination pair, to setup the model. This sparse representation is more efficient than utilizing large numbers for destinations that a carrier does not serve. "
      ],
      "metadata": {
        "id": "_YfEEAFTTYnV"
      }
    },
    {
      "cell_type": "markdown",
      "metadata": {
        "id": "XiMLngKYoi4l"
      },
      "source": [
        "##  References\n",
        "\n",
        "[1] Gurobi python reference. https://www.gurobi.com/documentation/\n",
        "\n",
        "[2] This notebook is contributed by Manoj Kumar Rayana, * Shri Lekha Kasulu Pramod Kumar, Irene Issac Dapril, Akarsh Jayachamarajapura Devarajaiah, and\n",
        "Shengming Ye"
      ]
    }
  ],
  "metadata": {
    "kernelspec": {
      "display_name": "Python 3",
      "language": "python",
      "name": "python3"
    },
    "language_info": {
      "codemirror_mode": {
        "name": "ipython",
        "version": 3
      },
      "file_extension": ".py",
      "mimetype": "text/x-python",
      "name": "python",
      "nbconvert_exporter": "python",
      "pygments_lexer": "ipython3",
      "version": "3.7.1"
    },
    "colab": {
      "provenance": [],
      "collapsed_sections": [],
      "include_colab_link": true
    }
  },
  "nbformat": 4,
  "nbformat_minor": 0
}