{
  "cells": [
    {
      "cell_type": "markdown",
      "metadata": {
        "id": "view-in-github",
        "colab_type": "text"
      },
      "source": [
        "<a href=\"https://colab.research.google.com/github/ytyimin/scm518/blob/main/Paint_Problem.ipynb\" target=\"_parent\"><img src=\"https://colab.research.google.com/assets/colab-badge.svg\" alt=\"Open In Colab\"/></a>"
      ]
    },
    {
      "cell_type": "markdown",
      "metadata": {
        "id": "NmCaJR-hBk-R"
      },
      "source": [
        "# Paint Problem"
      ]
    },
    {
      "cell_type": "markdown",
      "metadata": {
        "id": "MnS6LBQMB1T1"
      },
      "source": [
        "**Objective and Prerequisites**\n",
        "\n",
        "Gotham industries wants to maximize their profit by determining the number of gallons of paint they should produce. The objectives of the product-mix problem are:\n",
        "\n",
        "\n",
        "*   Total usage of Base liquid must be less than total available.\n",
        "*   Gallons of white base liquid produced must be at least twice the gallons of Blue base liquid\n",
        "*   Ensure that the number of Gallons of paint produced are valid, i.e., non- negative production.\n",
        "\n"
      ]
    },
    {
      "cell_type": "markdown",
      "metadata": {
        "id": "Zd6HRlaJDZTt"
      },
      "source": [
        "---\n",
        "## **Problem Description**\n",
        "\n",
        "![picture](https://drive.google.com/uc?export=view&id=1atih7hzkt4af3O4fA2FrOMU_arnP3yxy)\n",
        "\n",
        "Gotham industries manufactures 2 types of paints white and blue. white paint requires 5 gallons of base liquid and blue paint requires 3 gallons of base liquid. White paint contributes 55 dollars profit and blue paint of 75 dollars profit. Marketing restrictions require that the gallons of white paint produced be at least twice the gallons of the blue paint produced. There are 3000 gallons of base liquid available."
      ]
    },
    {
      "cell_type": "markdown",
      "metadata": {
        "id": "pNdKWmjri7bl"
      },
      "source": [
        "---\n",
        "\n",
        "## Model Formulation"
      ]
    },
    {
      "cell_type": "markdown",
      "metadata": {
        "id": "n8S_FpipceEq"
      },
      "source": [
        "### Indices:\n",
        "\n",
        "$𝑖 \\in \\{W,B\\}$ : Index to represent different paint types white and blue.\n",
        "\n",
        "### Parameters: \n",
        "\n",
        "$p_i$, $i\\in\\{W,B\\}$: unit profit of type $i$ paint (e.g., $p_W = \\$55$, $p_B = \\$75$)\n",
        "\n",
        "$u_i$, $i\\in\\{W,B\\}$: unsage of base liquid of type $i$ paint (e.g., $u_W = 2$ gallons, $u_B = \\$5$ gallons)\n",
        "\n",
        "$U$: available gallons of base liquid (e.g., $U = 3,000$ gallons) \n",
        "\n",
        "### Decisions Variables:\n",
        "\n",
        "$x_i$, $i\\in\\{W,B\\}$: gallons of type $i$ paint to produce\n",
        "\n",
        "### Objective Function: \n",
        "\n",
        "\\begin{equation}\n",
        "\\max_{x_i} \\quad \\sum_{i\\in\\{W,B\\}} p_i*x_i\n",
        "\\tag{0}\n",
        "\\end{equation}   \n",
        "\n",
        "### Constraints:\n",
        "\n",
        "\\begin{equation}\n",
        "\\sum_{i\\in\\{W,B\\}} u_i*x_i \\leq U \\quad \\text{(usage cannot exceed available)}\n",
        "\\tag{1}\n",
        "\\end{equation}   \n",
        "\n",
        "\\begin{equation}\n",
        "x_W - 2*x_B \\geq 0 \\quad \\text{(white paint more than twice of blue)}\n",
        "\\tag{2}\n",
        "\\end{equation}   \n",
        "\n",
        "\\begin{equation}\n",
        "x_i \\geq 0, i\\in \\{W,B\\} \\quad \\text{(non-negative)}\n",
        "\\tag{3}\n",
        "\\end{equation}   "
      ]
    },
    {
      "cell_type": "markdown",
      "metadata": {
        "id": "e8dV9qXMizxF"
      },
      "source": [
        "---\n",
        "\n",
        "## Python Implementation"
      ]
    },
    {
      "cell_type": "markdown",
      "metadata": {
        "id": "SD2SoEGxj6kx"
      },
      "source": [
        "Import the Gurobi Python Module:"
      ]
    },
    {
      "cell_type": "code",
      "execution_count": null,
      "metadata": {
        "colab": {
          "base_uri": "https://localhost:8080/"
        },
        "id": "WMn8B_wOaWqY",
        "outputId": "9a0f6822-af16-4887-d5a7-d2ad5aa6ac80"
      },
      "outputs": [
        {
          "output_type": "stream",
          "name": "stdout",
          "text": [
            "Looking in indexes: https://pypi.org/simple, https://us-python.pkg.dev/colab-wheels/public/simple/\n",
            "Collecting gurobipy\n",
            "  Downloading gurobipy-10.0.0-cp37-cp37m-manylinux2014_x86_64.whl (12.9 MB)\n",
            "\u001b[K     |████████████████████████████████| 12.9 MB 4.2 MB/s \n",
            "\u001b[?25hInstalling collected packages: gurobipy\n",
            "Successfully installed gurobipy-10.0.0\n"
          ]
        }
      ],
      "source": [
        "# install Gurobi Python Module\n",
        "%pip install gurobipy"
      ]
    },
    {
      "cell_type": "code",
      "execution_count": null,
      "metadata": {
        "id": "-_sKcAmCaHSp"
      },
      "outputs": [],
      "source": [
        "# import necessary python libraries\n",
        "from itertools import product\n",
        "from math import sqrt, factorial\n",
        "import numpy as np\n",
        "import gurobipy as gp\n",
        "from gurobipy import GRB"
      ]
    },
    {
      "cell_type": "markdown",
      "source": [
        "## Setup the model"
      ],
      "metadata": {
        "id": "EeoWJicnsWhM"
      }
    },
    {
      "cell_type": "code",
      "execution_count": null,
      "metadata": {
        "id": "y3yqryfRafkz"
      },
      "outputs": [],
      "source": [
        "m = gp.Model() # Import and create the model\n",
        "\n",
        "# Set the input Parameters: \n",
        "paint = [*range(0,2)]\n",
        "paint_label =['W','B']\n",
        "\n",
        "u = [5, 3]  # gallons of base liquid used to produce a particular paint colour\n",
        "\n",
        "p = [55, 75]  # Profit for each paint colour sold \n",
        "\n",
        "U = 3000   # Total gallons of base liquid available for production"
      ]
    },
    {
      "cell_type": "code",
      "execution_count": null,
      "metadata": {
        "id": "7NQaJswZbCRf"
      },
      "outputs": [],
      "source": [
        "# Set the decision variables\n",
        "x = m.addVars(paint, vtype=GRB.CONTINUOUS, name='Produce')"
      ]
    },
    {
      "cell_type": "code",
      "execution_count": null,
      "metadata": {
        "id": "JB58m4_abXwl"
      },
      "outputs": [],
      "source": [
        "# Set the objective\n",
        "m.setObjective(gp.quicksum(p[i]*x[i] for i in paint),  GRB.MAXIMIZE)"
      ]
    },
    {
      "cell_type": "code",
      "execution_count": null,
      "metadata": {
        "id": "rC_zw-NSj6k0"
      },
      "outputs": [],
      "source": [
        "# Set constraints\n",
        "\n",
        "# Set total base liquid availability\n",
        "ResourceConstrs = m.addConstr((gp.quicksum(u[i]*x[i] for i in paint) <= U), \n",
        "                                      name='ResourceConstrs')\n",
        "\n",
        "# White paint two times blue paint\n",
        "ProductionConstrs = m.addConstr(x[0] - 2* x[1] >= 0, \n",
        "                                      name='ProductionConstrs')\n",
        "\n",
        "# Non-negative production\n",
        "NonnegativeConstrs = m.addConstrs((x[i] >= 0 for i in paint), \n",
        "                                      name='ProductionConstrs')\n"
      ]
    },
    {
      "cell_type": "markdown",
      "metadata": {
        "id": "9vl2CLR8j6k0"
      },
      "source": [
        "## Solve the model:"
      ]
    },
    {
      "cell_type": "code",
      "execution_count": null,
      "metadata": {
        "colab": {
          "base_uri": "https://localhost:8080/"
        },
        "id": "VQkM1ZrabnwH",
        "outputId": "b4018634-eeb6-4e99-c4a1-f659e410cd6b"
      },
      "outputs": [
        {
          "output_type": "stream",
          "name": "stdout",
          "text": [
            "Gurobi Optimizer version 10.0.0 build v10.0.0rc2 (linux64)\n",
            "\n",
            "CPU model: Intel(R) Xeon(R) CPU @ 2.20GHz, instruction set [SSE2|AVX|AVX2]\n",
            "Thread count: 1 physical cores, 2 logical processors, using up to 2 threads\n",
            "\n",
            "Optimize a model with 4 rows, 2 columns and 6 nonzeros\n",
            "Model fingerprint: 0x8a46a42a\n",
            "Coefficient statistics:\n",
            "  Matrix range     [1e+00, 5e+00]\n",
            "  Objective range  [6e+01, 8e+01]\n",
            "  Bounds range     [0e+00, 0e+00]\n",
            "  RHS range        [3e+03, 3e+03]\n",
            "Presolve removed 4 rows and 2 columns\n",
            "Presolve time: 0.02s\n",
            "Presolve: All rows and columns removed\n",
            "Iteration    Objective       Primal Inf.    Dual Inf.      Time\n",
            "       0    4.2692308e+04   0.000000e+00   0.000000e+00      0s\n",
            "\n",
            "Solved in 0 iterations and 0.02 seconds (0.00 work units)\n",
            "Optimal objective  4.269230769e+04\n"
          ]
        }
      ],
      "source": [
        "# Run the optimize solver\n",
        "m.optimize()"
      ]
    },
    {
      "cell_type": "markdown",
      "metadata": {
        "id": "nxmd1r2nj6k0"
      },
      "source": [
        "## Results of the Model:"
      ]
    },
    {
      "cell_type": "code",
      "source": [
        "# print optimal production\n",
        "\n",
        "print(\"\\033[1m Optimal production and revenue by paint tyoes\")\n",
        "print(\"------------------------------------------\\n\")\n",
        "\n",
        "total_production = 0\n",
        "total_use = 0\n",
        "# loop through all paints\n",
        "for i in paint:\n",
        "  print(\"\\033[1m Paint\",paint_label[i],\"\\033[0m : produce\",round(x[i].x,2),\"gallons, with a revenue of $\", round(p[i]*x[i].x,2),\"[base paint used:\",round(u[i]*x[i].x,2),\"]\")\n",
        "  total_production += x[i].x\n",
        "  total_use += u[i]*x[i].x\n",
        "\n",
        "print(\"------------------------------------------\")\n",
        "print(\"The total production is\", round(total_production,2), \"gallons, with a total revenue of\",round(m.ObjVal,2),\"[total base paint used:\",round(total_use,2),\"]\")"
      ],
      "metadata": {
        "colab": {
          "base_uri": "https://localhost:8080/"
        },
        "id": "KklgOKoftGxb",
        "outputId": "ff0c48e6-dc63-4422-870d-bed0eb63c31c"
      },
      "execution_count": null,
      "outputs": [
        {
          "output_type": "stream",
          "name": "stdout",
          "text": [
            "\u001b[1m Optimal production and revenue by paint tyoes\n",
            "------------------------------------------\n",
            "\n",
            "\u001b[1m Paint W \u001b[0m : produce 461.54 gallons, with a revenue of $ 25384.62 [base paint used: 2307.69 ]\n",
            "\u001b[1m Paint B \u001b[0m : produce 230.77 gallons, with a revenue of $ 17307.69 [base paint used: 692.31 ]\n",
            "------------------------------------------\n",
            "The total production is 692.31 gallons, with a total revenue of 42692.31 [total base paint used: 3000.0 ]\n"
          ]
        }
      ]
    },
    {
      "cell_type": "markdown",
      "metadata": {
        "id": "v9sUZPf92tsJ"
      },
      "source": [
        "## **Conclusion**\n",
        "In the above problem we determined the number of paints that need to be produced to obtain the maximum profit keeping in mind the Total usage of Base liquid must be less than total available.Gallons of white base liquid produced must be at least twice the gallons of Blue base liquid constarints. It is seen that Gotham industries should manufacture 462 gallons of white paint and 231 gallons of blue paint to maximize it's profit which comes out to be $42,692"
      ]
    },
    {
      "cell_type": "markdown",
      "metadata": {
        "id": "UY7JDD1UFAYc"
      },
      "source": [
        "## **References**\n",
        "[1] Sixty examples of business optimization models. https://ytyimin.github.io/tart-cherry/.\n",
        "\n",
        "[2] Gurobi python reference. https://www.gurobi.com/documentation/\n",
        "\n",
        "[3] This example is developed by\n",
        "\n",
        "MD shahnaz ahamadi  www.linkedin.com/in/shahnazahamadi\n",
        "\n",
        "Manohar K www.linkedin.com/in/manohar-k/\n",
        "\n",
        "Hemanth Gopinath www.linkedin.com/in/hemanthgopinath/"
      ]
    }
  ],
  "metadata": {
    "colab": {
      "provenance": [],
      "include_colab_link": true
    },
    "kernelspec": {
      "display_name": "Python 3 (ipykernel)",
      "language": "python",
      "name": "python3"
    },
    "language_info": {
      "codemirror_mode": {
        "name": "ipython",
        "version": 3
      },
      "file_extension": ".py",
      "mimetype": "text/x-python",
      "name": "python",
      "nbconvert_exporter": "python",
      "pygments_lexer": "ipython3",
      "version": "3.9.12"
    }
  },
  "nbformat": 4,
  "nbformat_minor": 0
}