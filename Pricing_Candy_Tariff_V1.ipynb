{
  "cells": [
    {
      "cell_type": "markdown",
      "metadata": {
        "id": "view-in-github",
        "colab_type": "text"
      },
      "source": [
        "<a href=\"https://colab.research.google.com/github/ytyimin/scm518/blob/main/Pricing_Candy_Tariff_V1.ipynb\" target=\"_parent\"><img src=\"https://colab.research.google.com/assets/colab-badge.svg\" alt=\"Open In Colab\"/></a>"
      ]
    },
    {
      "cell_type": "markdown",
      "metadata": {
        "id": "SWWWN49eoi4Z"
      },
      "source": [
        "# Pricing Candies at SouthCandy"
      ]
    },
    {
      "cell_type": "markdown",
      "metadata": {
        "id": "yTw30bfQoi4a"
      },
      "source": [
        "## Objective and Prerequisites\n",
        "\n",
        "This pricing candies problem shows you how to determine the optimal price of candies when different customers have declining marginal utilities of purchasing multiple pieces of candies. The objectives of the assignment problem are:\n",
        "\n",
        "* Maximize the overall profit of selling candies to different customers,\n",
        "* Make sure the customers choose the optimal pieces of candies given any price, and\n",
        "* Ensure that the customer choices are valid, i.e., each customer segment select only the best choice in terms of pieces of candies to buy.\n"
      ]
    },
    {
      "cell_type": "markdown",
      "metadata": {
        "id": "62q-NwBMoi4c"
      },
      "source": [
        "---\n",
        "## Problem Description\n",
        "\n",
        "![picture](https://drive.google.com/uc?id=1JkjnfIMyhl_jiR1fXoiuHIVLxSR6Sf-C)\n",
        "\n",
        "Most people value the first piece of candy they purchase more than the second piece. They also value the second piece more than the third piece, and so on. How can you take advantage of this when pricing candies? If you charge a single price for each piece of candies, only a few people are going to buy more than one or two pieces. Alternatively, you can try a two-part tariff approach, where you charge an \"entry fee\" to anyone who buys candies, plus a reduced price per piece purchased. \n",
        "\n",
        "For example, if a resonable single price per piece is \\\\$1.10, then a reasonable two-part tariff might be an entry fee of \\\\$1.50 and a price of \\\\$0.50 per piece. This gives some customers an incentive to purchase many pieces of candies. Becuase the cost of purchasing $n$ packs of candies is no longer a linear function of $n$ - it is now piecewise linear. Thus, the two-part tariff is a nonlinear pricing strategy.\n",
        "\n",
        "The key input is customer sensitivity to price. Rather than having a single demand function, however, here each customer has a unique sensitivity to price. To keep the example small, consider four typical customers from the four market segments where we obtain their willingness to pay for each successive piece of candies. This information is listed in the table below. \n",
        "\n",
        "|Pieces\t|Customer 1\t|Customer 2\t|Customer 3\t|Customer 4\t|\n",
        "|---|---|---|---|---|\n",
        "|\t1\t|\t1.24\t|\t0.92\t|\t1.27\t|\t1.49\t|\n",
        "|\t2\t|\t1.03\t|\t0.85\t|\t1.11\t|\t1.24\t|\n",
        "|\t3\t|\t0.89\t|\t0.69\t|\t0.96\t|\t1.10\t|\n",
        "|\t4\t|\t0.80\t|\t0.58\t|\t0.85\t|\t0.97\t|\n",
        "|\t5\t|\t0.77\t|\t0.50\t|\t0.73\t|\t0.81\t|\n",
        "|\t6\t|\t0.66\t|\t0.43\t|\t0.63\t|\t0.71\t|\n",
        "|\t7\t|\t0.59\t|\t0.36\t|\t0.51\t|\t0.63\t|\n",
        "|\t8\t|\t0.51\t|\t0.32\t|\t0.45\t|\t0.53\t|\n",
        "|\t9\t|\t0.42\t|\t0.26\t|\t0.39\t|\t0.42\t|\n",
        "|\t10\t|\t0.35\t|\t0.22\t|\t0.32\t|\t0.35\t|\n",
        "\n",
        "For example, customer 1 is willing to pay \\\\$1.24 for the first peice, \\\\$1.03 for the second piece, and only \\\\$0.35 for the last piece. These four customers are considered representaitve of the four market segments. \n",
        "\n",
        "If it cost 0.40 to produce a piece of candy, determine a profit-maximizing single price and two-part tariff. The four market segments ahve 10, 5, 7.5 and 15 (in thousands) customers, repsectively, and that the customers within a market segment all respond identically to price.\n",
        "\n"
      ]
    },
    {
      "cell_type": "markdown",
      "metadata": {
        "id": "MYpg58_8oi4e"
      },
      "source": [
        "## Model Formulation\n",
        "\n",
        "---\n",
        "\n",
        "\n",
        "\n",
        "### Indices\n",
        "\n",
        "$i \\in \\{1..4\\}$: Index to represent customer segments\n",
        "\n",
        "$j,k \\in \\{1..10\\}$: Index to represent number of candies\n",
        "\n",
        "### Parameters\n",
        "\n",
        "$v_{ij}$: Customer segment $i$'s willingness to pay by  for $j$ pieces of candies\n",
        "\n",
        "$s_{i}$: The size of customer segment $i$\n",
        "\n",
        "$c$: Unit cost of producing one piece of candy\n",
        "\n",
        "### Decision Variables\n",
        "\n",
        "$f$: \"Entry fee\" to charge for candies.\n",
        "\n",
        "$p$: Unit price to charge for candies.\n",
        "\n",
        "$y_{ij}$: Whether customer segment $i$ purchases $j$ pieces of candies.\n",
        "\n",
        "### Objective Function\n",
        "\n",
        "- **Profit**. We want to maximize the total profit.\n",
        "\n",
        "\n",
        "\\begin{equation}\n",
        "\\text{Max}_{p,y_{ij}} \\quad \\sum_{i\\in \\{1..4\\}} \\left((f+(p-c)*s_i*j)*\\sum_{j\\in\\{1..10\\}}y_{ij}\\right)\n",
        "\\tag{0}\n",
        "\\end{equation}\n",
        "\n",
        "### Constraints\n",
        "\n",
        "\\begin{equation}\n",
        "\\sum_{j \\in \\{1..10\\}} y_{ij} \\leq 1 \\quad \\forall i \\in \\{1...4\\} \\quad (\\text{Each segement can only select one choice})\n",
        "\\tag{1}\n",
        "\\end{equation}\n",
        "\n",
        "\\begin{equation}\n",
        "y_{ij}*\\left(\\sum_{k \\in \\{1..j\\}} v_{ik} - f - p*j\\right) \\geq \\max_{l\\in\\{1..10\\}} \\left(\\sum_{k \\in \\{1..l\\}} v_{ik} - f - p*l\\right) - M*(1-y_{ij}) \\quad \\forall i \\in \\{1..4\\} \\quad (\\text{Customer select the best choice})\n",
        "\\tag{2}\n",
        "\\end{equation}\n",
        "\n",
        "\\begin{equation}\n",
        "y_{ij}*\\left(\\sum_{k \\in \\{1..j\\}} v_{ik} - f - p*j\\right) \\geq 0 \\quad \\forall i \\in \\{1..4\\} \\quad (\\text{Customer utility must be non-negative if purchasing})\n",
        "\\tag{3}\n",
        "\\end{equation}\n",
        "\n",
        "\\begin{equation}\n",
        "y_{ij} \\in \\{0,1\\} \\quad \\forall i,j \\quad (\\text{Purchase choice binary})\n",
        "\\tag{4}\n",
        "\\end{equation}\n",
        "\n",
        "\\begin{equation}\n",
        "f,p \\geq 0 \\quad (\\text{Non-negative pricing (can omit)})\n",
        "\\tag{5}\n",
        "\\end{equation}\n",
        "\n",
        "\n"
      ]
    },
    {
      "cell_type": "markdown",
      "metadata": {
        "id": "LrdbknV1oi4f"
      },
      "source": [
        "---\n",
        "\n",
        "## Python Implementation\n",
        "\n",
        "We now import the Gurobi Python Module and other Python libraries."
      ]
    },
    {
      "cell_type": "code",
      "execution_count": null,
      "metadata": {
        "id": "_xPuyCPtoi4f",
        "colab": {
          "base_uri": "https://localhost:8080/"
        },
        "outputId": "2a8489cb-b862-4d85-b5dc-7a5dc592fc5c"
      },
      "outputs": [
        {
          "output_type": "stream",
          "name": "stdout",
          "text": [
            "Looking in indexes: https://pypi.org/simple, https://us-python.pkg.dev/colab-wheels/public/simple/\n",
            "Collecting gurobipy\n",
            "  Downloading gurobipy-10.0.0-cp37-cp37m-manylinux2014_x86_64.whl (12.9 MB)\n",
            "\u001b[K     |████████████████████████████████| 12.9 MB 29.2 MB/s \n",
            "\u001b[?25hInstalling collected packages: gurobipy\n",
            "Successfully installed gurobipy-10.0.0\n"
          ]
        }
      ],
      "source": [
        "%pip install gurobipy"
      ]
    },
    {
      "cell_type": "code",
      "execution_count": null,
      "metadata": {
        "id": "vZuT7rzcoi4g"
      },
      "outputs": [],
      "source": [
        "from itertools import product\n",
        "from math import sqrt, factorial\n",
        "import numpy as np\n",
        "import pandas as pd\n",
        "import gurobipy as gp\n",
        "from gurobipy import GRB\n",
        "\n",
        "# tested with Gurobi v9.1.0 and Python 3.7.0"
      ]
    },
    {
      "cell_type": "markdown",
      "source": [
        "Set up the inputs"
      ],
      "metadata": {
        "id": "nzcjnZRRBynN"
      }
    },
    {
      "cell_type": "code",
      "source": [
        "#####################################################\n",
        "#                    Model Formulation\n",
        "#####################################################\n",
        "\n",
        "m = gp.Model('pricing candy')\n",
        "\n",
        "customer = [*range(0,4)]\n",
        "candy = [*range(0,10)]\n",
        "\n",
        "# vij: willingness to pay\n",
        "v = [[1.24,\t1.03, 0.89,\t0.80,\t0.77,\t0.66,\t0.59,\t0.51,\t0.42,\t0.35],\n",
        "     [0.92,\t0.85,\t0.69,\t0.58,\t0.50,\t0.43,\t0.36,\t0.32,\t0.26,\t0.22],\n",
        "     [1.27,\t1.11,\t0.96,\t0.85,\t0.73,\t0.63,\t0.51,\t0.45,\t0.39,\t0.32],\n",
        "     [1.49,\t1.24,\t1.10,\t0.97,\t0.81,\t0.71,\t0.63,\t0.53,\t0.42,\t0.35]]\n",
        "\n",
        "# customer segment size\n",
        "s = [10,\t5,\t7.5,\t15]\n",
        "\n",
        "# unit production cost\n",
        "c = 0.40\n",
        "\n",
        "# a large number\n",
        "M = 10\n"
      ],
      "metadata": {
        "id": "dF93AcQwk1vy"
      },
      "execution_count": null,
      "outputs": []
    },
    {
      "cell_type": "markdown",
      "source": [
        "Compute actual charge matrix as well as the set of valid tuples"
      ],
      "metadata": {
        "id": "AV3AwvM84HWx"
      }
    },
    {
      "cell_type": "code",
      "source": [
        "# Computing comulative willingness to pay\n",
        "\n",
        "# initialize an empty matrix to compute cumulative willingness to pay for j pieces of candy\n",
        "cum = [[0 for j in candy] for i in customer]\n",
        "\n",
        "# Valid set of tuples\n",
        "A = []\n",
        "for i in customer:\n",
        "    vp = 0\n",
        "    for j in candy:\n",
        "        # compute actual charge, taking into account minimum charge\n",
        "        vp += v[i][j]\n",
        "        cum[i][j] = vp\n",
        "\n",
        "        # build valid set of tuples\n",
        "        tp = i,j\n",
        "        A.append(tp)\n",
        "\n",
        "print(np.matrix(cum))    \n",
        "  "
      ],
      "metadata": {
        "colab": {
          "base_uri": "https://localhost:8080/"
        },
        "id": "wKzniArbxXj2",
        "outputId": "dd069f54-8685-4281-9a06-8cc1336eabff"
      },
      "execution_count": null,
      "outputs": [
        {
          "output_type": "stream",
          "name": "stdout",
          "text": [
            "[[1.24 2.27 3.16 3.96 4.73 5.39 5.98 6.49 6.91 7.26]\n",
            " [0.92 1.77 2.46 3.04 3.54 3.97 4.33 4.65 4.91 5.13]\n",
            " [1.27 2.38 3.34 4.19 4.92 5.55 6.06 6.51 6.9  7.22]\n",
            " [1.49 2.73 3.83 4.8  5.61 6.32 6.95 7.48 7.9  8.25]]\n"
          ]
        }
      ]
    },
    {
      "cell_type": "markdown",
      "source": [
        "Setup decisions, objective, and constraints"
      ],
      "metadata": {
        "id": "3kjqP68u4RyN"
      }
    },
    {
      "cell_type": "code",
      "source": [
        "# Build decision variables: price to charge and whether customer segment i selects j pieces of candy\n",
        "f = m.addVar(vtype=GRB.CONTINUOUS, name='Entry')\n",
        "p = m.addVar(vtype=GRB.CONTINUOUS, name='Price')\n",
        "y = m.addVars(A, vtype=GRB.BINARY, name='Purchase')\n",
        "\n",
        "# add an auxiliary variable that captures the maximum of utility for any given price p\n",
        "auxU = m.addVars(A, vtype=GRB.CONTINUOUS, lb= - M, name=\"Utility\")\n",
        "auxUMax = m.addVars(customer, vtype=GRB.CONTINUOUS, lb= -M, name=\"maxUtility\")\n",
        "\n"
      ],
      "metadata": {
        "id": "fImti2AV73Jt"
      },
      "execution_count": null,
      "outputs": []
    },
    {
      "cell_type": "code",
      "source": [
        "# Objective function: Maximize total profit\n",
        "m.setObjective(gp.quicksum((f+(p-c)*(j+1))*s[i]*y[(i,j)] for (i,j) in A), GRB.MAXIMIZE)\n",
        "\n"
      ],
      "metadata": {
        "id": "TkY7Ry17_jya"
      },
      "execution_count": null,
      "outputs": []
    },
    {
      "cell_type": "code",
      "source": [
        "#Constraints\n",
        "\n",
        "# Customers can only select one choice\n",
        "ChoiceConstrs = m.addConstrs((gp.quicksum(y[(i,j)] for j in candy) <= 1 for i in customer), \n",
        "                                      name='choiceConstrs')\n",
        "\n",
        "# Find the maximum utility for any given price p\n",
        "ChoiceConstrs1 = m.addConstrs( (auxU[(i,j)] == cum[i][j] - f - p*(j+1) for i,j in A), name=\"aux_utility\")\n",
        "ChoiceConstrs2 = m.addConstrs( (auxUMax[i] >= auxU[(i,j)] for i,j in A), name=\"aux_utility_max\")\n",
        "\n",
        "# Choice must maximize utility\n",
        "UtilityConstrs = m.addConstrs( ((cum[i][j]-f - p*(j+1))*y[(i,j)] >= auxUMax[i] - M*(1-y[(i,j)]) for i,j in A),\n",
        "                                      name=\"utilityConstrs\")\n",
        "\n",
        "# Customer purchase only if utility is non-negative\n",
        "PositiveConstrs = m.addConstrs( ((cum[i][j]-f - p*(j+1))*y[(i,j)] >= 0 for i,j in A),\n",
        "                                      name=\"positiveConstrs\")"
      ],
      "metadata": {
        "id": "AEjHxogR_mmH"
      },
      "execution_count": null,
      "outputs": []
    },
    {
      "cell_type": "markdown",
      "source": [
        "Solve the model"
      ],
      "metadata": {
        "id": "hLWgN1XK4WAo"
      }
    },
    {
      "cell_type": "code",
      "source": [
        "# Run optimization engine\n",
        "m.optimize()"
      ],
      "metadata": {
        "colab": {
          "base_uri": "https://localhost:8080/"
        },
        "id": "ATwVQP0aDRIf",
        "outputId": "5a60de1d-e8b8-46ef-8e2f-ba04e5876d85"
      },
      "execution_count": null,
      "outputs": [
        {
          "output_type": "stream",
          "name": "stdout",
          "text": [
            "Gurobi Optimizer version 10.0.0 build v10.0.0rc2 (linux64)\n",
            "\n",
            "CPU model: AMD EPYC 7B12, instruction set [SSE2|AVX|AVX2]\n",
            "Thread count: 1 physical cores, 2 logical processors, using up to 2 threads\n",
            "\n",
            "Optimize a model with 84 rows, 86 columns and 240 nonzeros\n",
            "Model fingerprint: 0xabe10e81\n",
            "Model has 80 quadratic objective terms\n",
            "Model has 80 quadratic constraints\n",
            "Variable types: 46 continuous, 40 integer (40 binary)\n",
            "Coefficient statistics:\n",
            "  Matrix range     [1e+00, 1e+01]\n",
            "  QMatrix range    [1e+00, 1e+01]\n",
            "  QLMatrix range   [9e-01, 9e+00]\n",
            "  Objective range  [2e+00, 6e+01]\n",
            "  QObjective range [1e+01, 3e+02]\n",
            "  Bounds range     [1e+00, 1e+01]\n",
            "  RHS range        [9e-01, 8e+00]\n",
            "  QRHS range       [1e+01, 1e+01]\n",
            "Presolve added 50 rows and 0 columns\n",
            "Presolve removed 0 rows and 30 columns\n",
            "Presolve time: 0.01s\n",
            "Presolved: 214 rows, 136 columns, 1025 nonzeros\n",
            "Variable types: 96 continuous, 40 integer (40 binary)\n",
            "Found heuristic solution: objective -0.0000000\n",
            "\n",
            "Root relaxation: objective 7.978833e+02, 41 iterations, 0.00 seconds (0.00 work units)\n",
            "\n",
            "    Nodes    |    Current Node    |     Objective Bounds      |     Work\n",
            " Expl Unexpl |  Obj  Depth IntInf | Incumbent    BestBd   Gap | It/Node Time\n",
            "\n",
            "     0     0  797.88334    0   12   -0.00000  797.88334      -     -    0s\n",
            "     0     0  677.15753    0   12   -0.00000  677.15753      -     -    0s\n",
            "     0     0  648.82197    0   12   -0.00000  648.82197      -     -    0s\n",
            "     0     0  527.73995    0   10   -0.00000  527.73995      -     -    0s\n",
            "     0     0  527.73995    0   10   -0.00000  527.73995      -     -    0s\n",
            "     0     0  431.05295    0   12   -0.00000  431.05295      -     -    0s\n",
            "H    0     0                      39.9000000  431.05295   980%     -    0s\n",
            "     0     0  428.07712    0   12   39.90000  428.07712   973%     -    0s\n",
            "     0     0  381.35361    0   11   39.90000  381.35361   856%     -    0s\n",
            "     0     0  381.35361    0   11   39.90000  381.35361   856%     -    0s\n",
            "H    0     0                     106.0000000  381.35361   260%     -    0s\n",
            "     0     2  380.70091    0   11  106.00000  380.70091   259%     -    0s\n",
            "H  501   107                     107.2500000  185.41157  72.9%   8.9    0s\n",
            "*  503   107              26     107.5750000  184.40033  71.4%   9.0    0s\n",
            "\n",
            "Cutting planes:\n",
            "  Implied bound: 83\n",
            "  MIR: 9\n",
            "  Flow cover: 12\n",
            "  RLT: 9\n",
            "  Relax-and-lift: 5\n",
            "\n",
            "Explored 649 nodes (6215 simplex iterations) in 0.31 seconds (0.15 work units)\n",
            "Thread count was 2 (of 2 available processors)\n",
            "\n",
            "Solution count 5: 107.575 107.25 106 ... -0\n",
            "\n",
            "Optimal solution found (tolerance 1.00e-04)\n",
            "Best objective 1.075750000000e+02, best bound 1.075750000000e+02, gap 0.0000%\n"
          ]
        }
      ]
    },
    {
      "cell_type": "markdown",
      "source": [
        "Examine outputs"
      ],
      "metadata": {
        "id": "I-fYhYVE4Ynh"
      }
    },
    {
      "cell_type": "code",
      "source": [
        "# check the optimal solution\n",
        "print(\"The entry fee is $\", round(f.x,2), \", optimal price is $\",round(p.x,2), \"and the associated profit is $\", round(m.ObjVal,2))"
      ],
      "metadata": {
        "colab": {
          "base_uri": "https://localhost:8080/"
        },
        "id": "_4zHdHMXQQgQ",
        "outputId": "48735fc2-2dd2-41e8-fcea-210682d17131"
      },
      "execution_count": null,
      "outputs": [
        {
          "output_type": "stream",
          "name": "stdout",
          "text": [
            "The entry fee is $ 3.31 , optimal price is $ 0.4 and the associated profit is $ 107.57\n"
          ]
        }
      ]
    },
    {
      "cell_type": "code",
      "source": [
        "# print optimal puchase by customers\n",
        "\n",
        "print(\"\\033[1m Optimal purchase decisions by customers\")\n",
        "print(\"------------------------------------------\\n\")\n",
        "# loop through all customers\n",
        "for i in customer:\n",
        "  for j in candy:\n",
        "    # if customer i purchases j pieces\n",
        "    if y[(i,j)].x >0:\n",
        "      print(\"Customer\",i+1,\"purchases:\", j+1, \"pieces\", end=\"    \")\n",
        "  print(\"\\n\")  \n"
      ],
      "metadata": {
        "colab": {
          "base_uri": "https://localhost:8080/"
        },
        "id": "3vd_Uq4R4fkP",
        "outputId": "c150201d-2cdf-4d14-c4ef-3f599388efa4"
      },
      "execution_count": null,
      "outputs": [
        {
          "output_type": "stream",
          "name": "stdout",
          "text": [
            "\u001b[1m Optimal purchase decisions by customers\n",
            "------------------------------------------\n",
            "\n",
            "Customer 1 purchases: 9 pieces    \n",
            "\n",
            "\n",
            "\n",
            "Customer 3 purchases: 8 pieces    \n",
            "\n",
            "Customer 4 purchases: 9 pieces    \n",
            "\n"
          ]
        }
      ]
    },
    {
      "cell_type": "code",
      "source": [
        "# print detailed utilities by customers\n",
        "\n",
        "print(\"\\033[1m Utilities of purchase decisions by customers\\033[0m\")\n",
        "print(\"------------------------------------------\\n\")\n",
        "# loop through all customers\n",
        "for i in customer:\n",
        "  print(\"customer\",i+1,\"\\n\")\n",
        "  for j in candy:\n",
        "    if y[(i,j)].x >0:\n",
        "      print(j+1, \"pieces:\", round(cum[i][j],2), \"-\", round(f.x,2), \"-\", round(p.x*(j+1),2), \"=\", round(cum[i][j]-f.x-p.x*(j+1),2),\"*\",end=\"\")\n",
        "    else:\n",
        "      print(j+1, \"pieces:\", round(cum[i][j],2), \"-\", round(f.x,2), \"-\", round(p.x*(j+1),2), \"=\", round(cum[i][j]-f.x-p.x*(j+1),2),end=\"\")\n",
        "    print(\"\\n\")  \n",
        "  print(\"------------------------------------------\\n\")\n"
      ],
      "metadata": {
        "colab": {
          "base_uri": "https://localhost:8080/"
        },
        "id": "ELBcxxGr_g3P",
        "outputId": "7d3d338d-4522-4782-cb5d-b5f53a2fd36c"
      },
      "execution_count": null,
      "outputs": [
        {
          "output_type": "stream",
          "name": "stdout",
          "text": [
            "\u001b[1m Utilities of purchase decisions by customers\u001b[0m\n",
            "------------------------------------------\n",
            "\n",
            "customer 1 \n",
            "\n",
            "1 pieces: 1.24 - 3.31 - 0.4 = -2.47\n",
            "\n",
            "2 pieces: 2.27 - 3.31 - 0.8 = -1.84\n",
            "\n",
            "3 pieces: 3.16 - 3.31 - 1.2 = -1.35\n",
            "\n",
            "4 pieces: 3.96 - 3.31 - 1.6 = -0.95\n",
            "\n",
            "5 pieces: 4.73 - 3.31 - 2.0 = -0.58\n",
            "\n",
            "6 pieces: 5.39 - 3.31 - 2.4 = -0.32\n",
            "\n",
            "7 pieces: 5.98 - 3.31 - 2.8 = -0.13\n",
            "\n",
            "8 pieces: 6.49 - 3.31 - 3.2 = -0.02\n",
            "\n",
            "9 pieces: 6.91 - 3.31 - 3.6 = 0.0 *\n",
            "\n",
            "10 pieces: 7.26 - 3.31 - 4.0 = -0.05\n",
            "\n",
            "------------------------------------------\n",
            "\n",
            "customer 2 \n",
            "\n",
            "1 pieces: 0.92 - 3.31 - 0.4 = -2.79\n",
            "\n",
            "2 pieces: 1.77 - 3.31 - 0.8 = -2.34\n",
            "\n",
            "3 pieces: 2.46 - 3.31 - 1.2 = -2.05\n",
            "\n",
            "4 pieces: 3.04 - 3.31 - 1.6 = -1.87\n",
            "\n",
            "5 pieces: 3.54 - 3.31 - 2.0 = -1.77\n",
            "\n",
            "6 pieces: 3.97 - 3.31 - 2.4 = -1.74\n",
            "\n",
            "7 pieces: 4.33 - 3.31 - 2.8 = -1.78\n",
            "\n",
            "8 pieces: 4.65 - 3.31 - 3.2 = -1.86\n",
            "\n",
            "9 pieces: 4.91 - 3.31 - 3.6 = -2.0\n",
            "\n",
            "10 pieces: 5.13 - 3.31 - 4.0 = -2.18\n",
            "\n",
            "------------------------------------------\n",
            "\n",
            "customer 3 \n",
            "\n",
            "1 pieces: 1.27 - 3.31 - 0.4 = -2.44\n",
            "\n",
            "2 pieces: 2.38 - 3.31 - 0.8 = -1.73\n",
            "\n",
            "3 pieces: 3.34 - 3.31 - 1.2 = -1.17\n",
            "\n",
            "4 pieces: 4.19 - 3.31 - 1.6 = -0.72\n",
            "\n",
            "5 pieces: 4.92 - 3.31 - 2.0 = -0.39\n",
            "\n",
            "6 pieces: 5.55 - 3.31 - 2.4 = -0.16\n",
            "\n",
            "7 pieces: 6.06 - 3.31 - 2.8 = -0.05\n",
            "\n",
            "8 pieces: 6.51 - 3.31 - 3.2 = 0.0 *\n",
            "\n",
            "9 pieces: 6.9 - 3.31 - 3.6 = -0.01\n",
            "\n",
            "10 pieces: 7.22 - 3.31 - 4.0 = -0.09\n",
            "\n",
            "------------------------------------------\n",
            "\n",
            "customer 4 \n",
            "\n",
            "1 pieces: 1.49 - 3.31 - 0.4 = -2.22\n",
            "\n",
            "2 pieces: 2.73 - 3.31 - 0.8 = -1.38\n",
            "\n",
            "3 pieces: 3.83 - 3.31 - 1.2 = -0.68\n",
            "\n",
            "4 pieces: 4.8 - 3.31 - 1.6 = -0.11\n",
            "\n",
            "5 pieces: 5.61 - 3.31 - 2.0 = 0.3\n",
            "\n",
            "6 pieces: 6.32 - 3.31 - 2.4 = 0.61\n",
            "\n",
            "7 pieces: 6.95 - 3.31 - 2.8 = 0.84\n",
            "\n",
            "8 pieces: 7.48 - 3.31 - 3.2 = 0.97\n",
            "\n",
            "9 pieces: 7.9 - 3.31 - 3.6 = 0.99 *\n",
            "\n",
            "10 pieces: 8.25 - 3.31 - 4.0 = 0.94\n",
            "\n",
            "------------------------------------------\n",
            "\n"
          ]
        }
      ]
    },
    {
      "cell_type": "markdown",
      "source": [
        "#Conclusion\n",
        "\n",
        "The optimal two-part tariff shows that the profit can be significantly improved over a single price strategy. With two-part tariff, the optimal price reaches \\$107,000. \n",
        "\n",
        "A key take away of the above example is that a non-linear pricing strategy can help to extract more consumer surplus than a single pricing strategy. An important technique is to use integer variables to denote whether a customer buys a certain pieces of candies, and then leverage this information to compute the associated profit. "
      ],
      "metadata": {
        "id": "_YfEEAFTTYnV"
      }
    },
    {
      "cell_type": "markdown",
      "metadata": {
        "id": "XiMLngKYoi4l"
      },
      "source": [
        "##  References\n",
        "\n",
        "[1] Gurobi python reference. https://www.gurobi.com/documentation/\n",
        "\n",
        "[2] This notebook is developed by Yimin Wang (yimin_wang@asu.edu)"
      ]
    }
  ],
  "metadata": {
    "kernelspec": {
      "display_name": "Python 3",
      "language": "python",
      "name": "python3"
    },
    "language_info": {
      "codemirror_mode": {
        "name": "ipython",
        "version": 3
      },
      "file_extension": ".py",
      "mimetype": "text/x-python",
      "name": "python",
      "nbconvert_exporter": "python",
      "pygments_lexer": "ipython3",
      "version": "3.7.1"
    },
    "colab": {
      "provenance": [],
      "include_colab_link": true
    }
  },
  "nbformat": 4,
  "nbformat_minor": 0
}
