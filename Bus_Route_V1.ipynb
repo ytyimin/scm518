{
  "cells": [
    {
      "cell_type": "markdown",
      "metadata": {
        "id": "view-in-github",
        "colab_type": "text"
      },
      "source": [
        "<a href=\"https://colab.research.google.com/github/ytyimin/scm518/blob/main/Bus_Route_V1.ipynb\" target=\"_parent\"><img src=\"https://colab.research.google.com/assets/colab-badge.svg\" alt=\"Open In Colab\"/></a>"
      ]
    },
    {
      "cell_type": "markdown",
      "metadata": {
        "id": "SWWWN49eoi4Z"
      },
      "source": [
        "# Assign Bus Companies to School Routes"
      ]
    },
    {
      "cell_type": "markdown",
      "metadata": {
        "id": "yTw30bfQoi4a"
      },
      "source": [
        "## Objective and Prerequisites\n",
        "\n",
        "This school bus route assignments problem shows you how to determine the optimal assignment of companies to bus routes, where each company may not bid on all the routes. The objectives of the assignment problem are:\n",
        "\n",
        "* Make sure each route is served by a bus company,\n",
        "* Minimize the overall operating cost of covering all the routes, and\n",
        "* Ensure that the assignments are valid, i.e., cannot assign a company to a route if the company does not bid on the route.\n",
        "\n",
        "This modeling example is at the introductory level, where we assume that you know Python and that you have some knowledge of how to build mathematical optimization models."
      ]
    },
    {
      "cell_type": "markdown",
      "metadata": {
        "id": "62q-NwBMoi4c"
      },
      "source": [
        "---\n",
        "## Problem Description\n",
        "\n",
        "![picture](https://drive.google.com/uc?id=1qQFIoW3dQCbS2lwSYpix3m738nhACzMX)\n",
        "\n",
        "The city of Spring View is taking bids from six bus companies on the eight routes that must be driven in the surrounding school district. Each company enters a bid of how much it will charge to drive selected routes, although not all companies bid on all routes.  \n",
        "\n",
        "The following table lists the bids by each company on different routes. Note that not all companies bid on all routes - this is a critical new elements we are going to model.\n",
        "\t\n",
        "| Company |\t1\t    | 2\t    | 3 \t  | 4\t   | 5\t  | 6\t   | 7\t  | 8    |\n",
        "| ---     | ---   | ---   | ---   | ---  | ---  | ---  | ---  | ---  |\n",
        "|1\t      | -\t    | 8200\t| 7800\t| 5400 | -\t  | 3900 | -\t  | -    |\n",
        "|2\t      | 7800\t| 8200\t|-\t    | 6300 |\t-\t  | 3300 | 4900 |\t-    |\n",
        "|3\t      | -     |\t4800\t|-\t    |-\t   |-\t    | 4400 | 5600 |\t3600 |\n",
        "|4\t      | -\t    | -\t    |8000   |\t5000 | 6800 |\t-\t   | 6700 |\t4200 |\n",
        "|5 \t      | 7200\t| 6400\t|-\t    | 3900 | 6400\t| 2800 | -\t  | 3000 |\n",
        "|6\t      | 7000\t| 5800\t|7500\t  | 4500 | 5600\t|-\t   | 6000\t| 4200 |\n",
        "\n",
        "If a company does not bid on a route, the corresponding entry is blank. The city must decide which companies to assign to which routes with the specifications that if a company does not bid on a route, it cannot be assigned to that route; exactly one company must be assigned to each route; and\n",
        "a company can be assigned to at most two routes. The objective is to minimize the total cost of covering all routes.\n",
        "\n",
        "We would like to find a most efficient assignment plan to minimize the cost of covering all routes. This example shows how to use sparse representation to model the fact that not all companies bid on all routes."
      ]
    },
    {
      "cell_type": "markdown",
      "metadata": {
        "id": "MYpg58_8oi4e"
      },
      "source": [
        "## Model Formulation\n",
        "\n",
        "### Indices\n",
        "\n",
        "$i \\in \\{1..6\\}$: Index of six different bus companies.\n",
        "\n",
        "$j \\in \\{1..8\\}$: Index of eight different routes.\n",
        "\n",
        "### Parameters\n",
        "\n",
        "$A$: Set of tuples ($i,j$) where company $i$ has a bid on route $j$.\n",
        "\n",
        "$c_{ij}$: Bid by company $i$ on route $j$.\n",
        "\n",
        "\n",
        "### Decision Variables\n",
        "\n",
        "$x_{ij}$: Whether to assign company $i$ to route $j$.\n",
        "\n",
        "\n",
        "### Objective Function\n",
        "\n",
        "- **Cost**. We want to minimize the total operating cost.\n",
        "\n",
        "\n",
        "\\begin{equation}\n",
        "\\text{Min}_{x_{ij}} \\quad \\sum_{(i,j) \\in A} c_{ij}*x_{ij}\n",
        "\\tag{0}\n",
        "\\end{equation}\n",
        "\n",
        "### Constraints\n",
        "\n",
        "- **Staffing Requirement**. Satisfy staffing requirement for each day.\n",
        "\n",
        "\\begin{equation}\n",
        "\\sum_{i|(i,j) \\in A} x_{ij} \\geq 1 \\quad \\forall j \\in \\{1...8\\} \\quad (\\text{each route must be covered})\n",
        "\\tag{1}\n",
        "\\end{equation}\n",
        "\n",
        "\\begin{equation}\n",
        "\\sum_{j|(i,j) \\in A} x_{ij} \\leq 2 \\quad \\forall i \\in \\{1...6\\} \\quad (\\text{each company cannot be assigned more than two routes})\n",
        "\\tag{2}\n",
        "\\end{equation}\n",
        "\n",
        "\\begin{equation}\n",
        "x_{ij} \\in \\{0,1\\} \\quad \\forall (i,j) \\in A \\quad (\\text{binary assignments})\n",
        "\\tag{3}\n",
        "\\end{equation}"
      ]
    },
    {
      "cell_type": "markdown",
      "metadata": {
        "id": "LrdbknV1oi4f"
      },
      "source": [
        "---\n",
        "\n",
        "## Python Implementation\n",
        "\n",
        "We now import the Gurobi Python Module and other Python libraries."
      ]
    },
    {
      "cell_type": "code",
      "execution_count": null,
      "metadata": {
        "colab": {
          "background_save": true
        },
        "id": "_xPuyCPtoi4f",
        "outputId": "24aaaebc-1d0d-4439-c95f-6240f9e7ec6d"
      },
      "outputs": [
        {
          "name": "stdout",
          "output_type": "stream",
          "text": [
            "Looking in indexes: https://pypi.org/simple, https://us-python.pkg.dev/colab-wheels/public/simple/\n",
            "Collecting gurobipy\n",
            "  Downloading gurobipy-9.5.2-cp37-cp37m-manylinux2014_x86_64.whl (11.5 MB)\n",
            "\u001b[K     |████████████████████████████████| 11.5 MB 8.7 MB/s \n",
            "\u001b[?25hInstalling collected packages: gurobipy\n",
            "Successfully installed gurobipy-9.5.2\n"
          ]
        }
      ],
      "source": [
        "%pip install gurobipy"
      ]
    },
    {
      "cell_type": "code",
      "execution_count": null,
      "metadata": {
        "id": "vZuT7rzcoi4g"
      },
      "outputs": [],
      "source": [
        "from itertools import product\n",
        "from math import sqrt, factorial\n",
        "import numpy as np\n",
        "import gurobipy as gp\n",
        "from gurobipy import GRB\n",
        "\n",
        "# tested with Gurobi v9.1.0 and Python 3.7.0"
      ]
    },
    {
      "cell_type": "markdown",
      "metadata": {
        "id": "nzcjnZRRBynN"
      },
      "source": [
        "Set up the model and solve"
      ]
    },
    {
      "cell_type": "code",
      "execution_count": null,
      "metadata": {
        "id": "4fR9DtyUQ7k2"
      },
      "outputs": [],
      "source": [
        "#####################################################\n",
        "#                    Model Formulation\n",
        "#####################################################\n",
        "\n",
        "m = gp.Model('bus routes')\n",
        "\n",
        "# indices for companies and routes\n",
        "company = [*range(0,6)]\n",
        "route = [*range(0,8)]\n",
        "\n",
        "# bids \n",
        "c = [[0,\t8200,\t7800,\t5400,\t0,\t3900,\t0,\t0],\n",
        "    [7800,\t8200,\t0,\t6300,\t0,\t3300,\t4900,\t0],\n",
        "    [0,\t4800,\t0,\t0,\t0,\t4400,\t5600,\t3600],\n",
        "    [0,\t0,\t8000,\t5000,\t6800,\t0,\t6700,\t4200],\n",
        "    [7200,\t6400,\t0,\t3900,\t6400,\t2800,\t0,\t3000],\n",
        "    [7000,\t5800,\t7500,\t4500,\t5600,\t0,\t6000,\t4200]]\n",
        "\n",
        "# Valid set of tuples\n",
        "A = []\n",
        "for i in company:\n",
        "    for j in route:\n",
        "        if c[i][j] > 0:\n",
        "            tp = i,j\n",
        "            A.append(tp)\n",
        "\n",
        "# take a look at the set\n",
        "# print(np.matrix(A))\n",
        "\n",
        "# valid set of bids for route j\n",
        "AJ = [] \n",
        "k = 0\n",
        "for l in route:\n",
        "    A_temp = []\n",
        "    for i in company:\n",
        "        for j in route:\n",
        "            if c[i][j] > 0:\n",
        "                if j==k:\n",
        "                    tp = i,j\n",
        "                    A_temp.append(tp)\n",
        "    AJ.append(A_temp) \n",
        "    k+=1               \n",
        "\n",
        "# take a look at a sample\n",
        "# print(np.matrix(AJ[0]))\n",
        "\n",
        "# valid set of routes that can be covered by company i\n",
        "AI = [] \n",
        "k = 0\n",
        "for l in route:\n",
        "    A_temp = []\n",
        "    for i in company:\n",
        "        for j in route:\n",
        "            if c[i][j] > 0:\n",
        "                if i==k:\n",
        "                    tp = i,j\n",
        "                    A_temp.append(tp)\n",
        "    AI.append(A_temp) \n",
        "    k+=1               \n",
        "\n",
        "# take a look at a sample\n",
        "# print(np.matrix(AI[0]))\n",
        "\n",
        "# Build decision variables: where to assign company i to route j\n",
        "x = m.addVars(A, vtype=GRB.BINARY, name='Assign')\n",
        "    \n",
        "# Objective function: Minimize total payroll cost\n",
        "m.setObjective(gp.quicksum(c[i][j]*x[(i,j)] for i,j in A), GRB.MINIMIZE)\n",
        "    \n",
        "# Cover each route\n",
        "routeConstrs = m.addConstrs((gp.quicksum(x[(i,j)] for i,j in AJ[j]) >= 1 for j in route), \n",
        "                                      name='routeConstrs')\n",
        "\n",
        "# No company can be assigned more than two routes\n",
        "companyConstrs = m.addConstrs((gp.quicksum(x[(i,j)] for i,j in AI[i]) <= 2 for i in company), \n",
        "                                      name='companyConstrs')\n",
        "\n",
        "# Run optimization engine\n",
        "m.optimize()"
      ]
    },
    {
      "cell_type": "markdown",
      "metadata": {
        "id": "i5ggpCTbIMni"
      },
      "source": [
        "Take a look at the results of assignments"
      ]
    },
    {
      "cell_type": "code",
      "execution_count": null,
      "metadata": {
        "id": "8aNo8QaISobW"
      },
      "outputs": [],
      "source": [
        "#####################################################\n",
        "#         Assignment results\n",
        "#####################################################\n",
        "    \n",
        "print(f\"\\n\\n___Optimal assignment on each route________\")\n",
        "t_cost = 0\n",
        "for i,j in A:\n",
        "    if x[(i,j)].x > 0:\n",
        "        print(\"Company %2d is assigned to route %2d: $%4d\" % (i+1, j+1, c[i][j]))\n",
        "        t_cost += c[i][j]\n",
        "\n",
        "print(\"The total cost of covering all routes is $%5d\" % (t_cost))\n",
        "            "
      ]
    },
    {
      "cell_type": "markdown",
      "metadata": {
        "id": "8OKSSFZsJCbV"
      },
      "source": [
        "As we can see, all routes are covered by exactly one company, and no companies are assigned more than two routes. We observe that companies 2, 5, and 6 are assigned two routes while companies 1 and 3 are assigned one route. Further, companies are only assigned to routes where they have a valid bid. "
      ]
    },
    {
      "cell_type": "markdown",
      "metadata": {
        "id": "uyx97WQIoi4k"
      },
      "source": [
        "---\n",
        "##  Conclusion\n",
        "\n",
        "In this example, we addressed the but route assignment problem. We determined the optimal assignment of companies to routes: \n",
        "* Satisfy coverage for each route, \n",
        "* Minimize the total operating cost, and \n",
        "* Ensure no companies are assigned more than two routes, and no companies are assigned to a route where the is no bid.\n",
        "\n",
        "A special technique in the model formulation is sparse reprentation, where we significantly reduce the number of decision variables by restricting the set of decisions to be on the valid bids only. This benefit becomes more significant as problem size grows.\n",
        "\n",
        "This bus assignment model can be used by many organizations to help make informed decisions about covering certain demands from a diverse set of resources where not all resources are suitable for all demands.\n"
      ]
    },
    {
      "cell_type": "markdown",
      "metadata": {
        "id": "XiMLngKYoi4l"
      },
      "source": [
        "##  References\n",
        "[1] Sixty examples of business optimization models. https://ytyimin.github.io/tart-cherry/.\n",
        "\n",
        "[2] Gurobi python reference. https://www.gurobi.com/documentation/\n",
        "\n",
        "[3] This notebook is developed by Yimin Wang. If you have any comments or suggestions, please contact yimin_wang@asu.edu"
      ]
    }
  ],
  "metadata": {
    "colab": {
      "collapsed_sections": [],
      "provenance": [],
      "include_colab_link": true
    },
    "kernelspec": {
      "display_name": "Python 3",
      "language": "python",
      "name": "python3"
    },
    "language_info": {
      "codemirror_mode": {
        "name": "ipython",
        "version": 3
      },
      "file_extension": ".py",
      "mimetype": "text/x-python",
      "name": "python",
      "nbconvert_exporter": "python",
      "pygments_lexer": "ipython3",
      "version": "3.7.1"
    }
  },
  "nbformat": 4,
  "nbformat_minor": 0
}